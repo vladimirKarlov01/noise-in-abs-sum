{
 "cells": [
  {
   "cell_type": "markdown",
   "id": "7ece2d4b-6935-4cc0-b898-b458459b7c42",
   "metadata": {
    "id": "7ece2d4b-6935-4cc0-b898-b458459b7c42"
   },
   "source": [
    "# Noise in abstractive summarization"
   ]
  },
  {
   "cell_type": "markdown",
   "id": "6e86bc33",
   "metadata": {
    "id": "6e86bc33"
   },
   "source": [
    "Предполагаемый пайплайн:\n",
    "1. AESLC BERT (берт, unsupervised (на MLM task) дообученный на AESLC) --> эмбеддинги входных текстов (видимо, как усреденные пословные)\n",
    "2. На полученных примерах считаем центроиды и ков. матрицу\n",
    "3. Считаем расстояние Махаланобиса от центроидов \n",
    "4. Откидываем далекие примеры по трешхолду\n",
    "5. Пересчитываем центроиды и ков. матрицу\n",
    "6. Повторяем 2-6, пока центроиды меняются\n",
    "7. Переучивыем модель для суммаризации на данных без выбросов и замеряем качество"
   ]
  },
  {
   "cell_type": "code",
   "execution_count": 1,
   "id": "FuZlUuJvDgfC",
   "metadata": {
    "colab": {
     "base_uri": "https://localhost:8080/"
    },
    "id": "FuZlUuJvDgfC",
    "outputId": "c841b11d-7164-4753-8c6c-03b58355987c"
   },
   "outputs": [
    {
     "name": "stdout",
     "output_type": "stream",
     "text": [
      "env: WANDB_PROJECT=noise-in-abs-sum\n"
     ]
    }
   ],
   "source": [
    "%env WANDB_PROJECT=noise-in-abs-sum\n",
    "\n",
    "import os\n",
    "import warnings\n",
    "from datasets import load_dataset, load_from_disk, DatasetDict, Dataset\n",
    "\n",
    "from copy import deepcopy\n",
    "import pandas as pd\n",
    "import numpy as np\n",
    "import torch\n",
    "import seaborn as sns\n",
    "import matplotlib.pyplot as plt\n",
    "import random\n",
    "\n",
    "warnings.filterwarnings('ignore')\n",
    "os.environ[\"HF_DATASETS_OFFLINE\"] = \"1\"\n",
    "os.environ[\"WANDB_PROJECT\"] = \"noise-in-abs-sum\"\n",
    "CACHE_DIR_PATH = \"/home/vakarlov/hf-cache-dir\""
   ]
  },
  {
   "cell_type": "code",
   "execution_count": 2,
   "id": "db6c9345",
   "metadata": {},
   "outputs": [],
   "source": [
    "SEED = 42\n",
    "\n",
    "def set_random_seed(seed):\n",
    "    torch.backends.cudnn.deterministic = True\n",
    "    torch.manual_seed(seed)\n",
    "    torch.cuda.manual_seed(seed)\n",
    "    np.random.seed(seed)\n",
    "    random.seed(seed)\n",
    "    \n",
    "set_random_seed(SEED)"
   ]
  },
  {
   "cell_type": "markdown",
   "id": "940ab4bc",
   "metadata": {
    "id": "940ab4bc",
    "tags": []
   },
   "source": [
    "## Loading dataset"
   ]
  },
  {
   "cell_type": "code",
   "execution_count": 3,
   "id": "eThk0CeMHe67",
   "metadata": {
    "id": "eThk0CeMHe67"
   },
   "outputs": [],
   "source": [
    "# ! pip install -r requirements.txt --quiet"
   ]
  },
  {
   "cell_type": "code",
   "execution_count": 4,
   "id": "lJSNWNFW8IGi",
   "metadata": {
    "id": "lJSNWNFW8IGi"
   },
   "outputs": [],
   "source": [
    "# ! pip install datasets --quiet\n",
    "# ! pip install transformers --quiet\n",
    "# ! pip install evaluate --quiet"
   ]
  },
  {
   "cell_type": "code",
   "execution_count": 3,
   "id": "b57cc234",
   "metadata": {
    "colab": {
     "base_uri": "https://localhost:8080/",
     "height": 85,
     "referenced_widgets": [
      "4e79ab4170a84e04b35d1e0f87b34068",
      "9727f76dfa3546489c4bb033139f99f2",
      "a162e378ed654a19943d7e92095bb527",
      "53b94f0defcb40ae92774d3eb70d7427",
      "ea3e1884043447bfa29115760b07a4c0",
      "68b3100c8f8b45f9a98b406b7633d018",
      "fef2d3b34bb24bef96a7c9d916b3f8ba",
      "369ae81a2d9b4fd5b2acde9e640562be",
      "0ed3b2d0bfb0471fb4d8903677b668d6",
      "6bf8b84907f84d9fb2208065e57f0c82",
      "035c46dabd494a5b89e4d8f8c72b6163"
     ]
    },
    "id": "b57cc234",
    "outputId": "f44dd43f-955e-4471-e541-05fba1955300"
   },
   "outputs": [],
   "source": [
    "dataset_name = \"xsum_sample\"\n",
    "\n",
    "if dataset_name == \"aeslc\":\n",
    "    raw_data = load_dataset(dataset_name, cache_dir=CACHE_DIR_PATH)\n",
    "    raw_data = raw_data.rename_column(\"email_body\", \"text\").rename_column(\"subject_line\", \"summary\")\n",
    "elif dataset_name == \"xsum\":\n",
    "    raw_data = load_dataset(dataset_name, cache_dir=CACHE_DIR_PATH)\n",
    "    raw_data = raw_data.rename_column(\"document\", \"text\")\n",
    "elif dataset_name == \"xsum_sample\":\n",
    "    raw_data = load_from_disk(f\"{CACHE_DIR_PATH}/xsum_sample.hf\")\n",
    "else:\n",
    "    raise NotImplementedError('Unknown dataset')"
   ]
  },
  {
   "cell_type": "code",
   "execution_count": 4,
   "id": "1bf29e42-3e9e-4991-833b-948a35cb93dd",
   "metadata": {},
   "outputs": [
    {
     "data": {
      "text/plain": [
       "DatasetDict({\n",
       "    train: Dataset({\n",
       "        features: ['text', 'summary', 'id', '__index_level_0__'],\n",
       "        num_rows: 20000\n",
       "    })\n",
       "    validation: Dataset({\n",
       "        features: ['text', 'summary', 'id', '__index_level_0__'],\n",
       "        num_rows: 1500\n",
       "    })\n",
       "    test: Dataset({\n",
       "        features: ['text', 'summary', 'id', '__index_level_0__'],\n",
       "        num_rows: 1500\n",
       "    })\n",
       "})"
      ]
     },
     "execution_count": 4,
     "metadata": {},
     "output_type": "execute_result"
    }
   ],
   "source": [
    "raw_data"
   ]
  },
  {
   "cell_type": "code",
   "execution_count": 7,
   "id": "176acd0f",
   "metadata": {
    "colab": {
     "base_uri": "https://localhost:8080/",
     "height": 411
    },
    "id": "176acd0f",
    "outputId": "ed3c997a-b8c8-4c90-ab63-93ed10264138"
   },
   "outputs": [
    {
     "data": {
      "text/html": [
       "<div>\n",
       "<style scoped>\n",
       "    .dataframe tbody tr th:only-of-type {\n",
       "        vertical-align: middle;\n",
       "    }\n",
       "\n",
       "    .dataframe tbody tr th {\n",
       "        vertical-align: top;\n",
       "    }\n",
       "\n",
       "    .dataframe thead th {\n",
       "        text-align: right;\n",
       "    }\n",
       "</style>\n",
       "<table border=\"1\" class=\"dataframe\">\n",
       "  <thead>\n",
       "    <tr style=\"text-align: right;\">\n",
       "      <th></th>\n",
       "      <th>text</th>\n",
       "      <th>summary</th>\n",
       "    </tr>\n",
       "  </thead>\n",
       "  <tbody>\n",
       "    <tr>\n",
       "      <th>0</th>\n",
       "      <td>Greg/Phillip,  Attached is the Grande Communic...</td>\n",
       "      <td>Service Agreement</td>\n",
       "    </tr>\n",
       "    <tr>\n",
       "      <th>1</th>\n",
       "      <td>Phillip &amp; Keith  Attached is the first draw re...</td>\n",
       "      <td>Bishops Corner</td>\n",
       "    </tr>\n",
       "    <tr>\n",
       "      <th>2</th>\n",
       "      <td>Your Internet Banking accounts are now setup a...</td>\n",
       "      <td>Internet Banking</td>\n",
       "    </tr>\n",
       "    <tr>\n",
       "      <th>3</th>\n",
       "      <td>To our IBS Customers that are still hanging in...</td>\n",
       "      <td>Internet Banking</td>\n",
       "    </tr>\n",
       "    <tr>\n",
       "      <th>4</th>\n",
       "      <td>Phillip Good Morning!\\nI hope you had a wonder...</td>\n",
       "      <td>SMEs for expert stories</td>\n",
       "    </tr>\n",
       "    <tr>\n",
       "      <th>...</th>\n",
       "      <td>...</td>\n",
       "      <td>...</td>\n",
       "    </tr>\n",
       "    <tr>\n",
       "      <th>14431</th>\n",
       "      <td>This email is acknowledgement from the Power P...</td>\n",
       "      <td>Power Pool</td>\n",
       "    </tr>\n",
       "    <tr>\n",
       "      <th>14432</th>\n",
       "      <td>This email is acknowledgement from the Power P...</td>\n",
       "      <td>Power Pool of Alberta</td>\n",
       "    </tr>\n",
       "    <tr>\n",
       "      <th>14433</th>\n",
       "      <td>John,  Further to the voice message that I lef...</td>\n",
       "      <td>Enron Security</td>\n",
       "    </tr>\n",
       "    <tr>\n",
       "      <th>14434</th>\n",
       "      <td>Make sure that all curves are downloaded by th...</td>\n",
       "      <td>Simulation Curves</td>\n",
       "    </tr>\n",
       "    <tr>\n",
       "      <th>14435</th>\n",
       "      <td>John:  Do you need Accumap day one?\\nCarmen sa...</td>\n",
       "      <td>IHS Accumap</td>\n",
       "    </tr>\n",
       "  </tbody>\n",
       "</table>\n",
       "<p>14436 rows × 2 columns</p>\n",
       "</div>"
      ],
      "text/plain": [
       "                                                    text   \n",
       "0      Greg/Phillip,  Attached is the Grande Communic...  \\\n",
       "1      Phillip & Keith  Attached is the first draw re...   \n",
       "2      Your Internet Banking accounts are now setup a...   \n",
       "3      To our IBS Customers that are still hanging in...   \n",
       "4      Phillip Good Morning!\\nI hope you had a wonder...   \n",
       "...                                                  ...   \n",
       "14431  This email is acknowledgement from the Power P...   \n",
       "14432  This email is acknowledgement from the Power P...   \n",
       "14433  John,  Further to the voice message that I lef...   \n",
       "14434  Make sure that all curves are downloaded by th...   \n",
       "14435  John:  Do you need Accumap day one?\\nCarmen sa...   \n",
       "\n",
       "                       summary  \n",
       "0            Service Agreement  \n",
       "1               Bishops Corner  \n",
       "2             Internet Banking  \n",
       "3             Internet Banking  \n",
       "4      SMEs for expert stories  \n",
       "...                        ...  \n",
       "14431               Power Pool  \n",
       "14432    Power Pool of Alberta  \n",
       "14433           Enron Security  \n",
       "14434        Simulation Curves  \n",
       "14435              IHS Accumap  \n",
       "\n",
       "[14436 rows x 2 columns]"
      ]
     },
     "execution_count": 7,
     "metadata": {},
     "output_type": "execute_result"
    }
   ],
   "source": [
    "df = pd.DataFrame()\n",
    "df['text'] = raw_data['train']['text']\n",
    "df['summary'] = raw_data['train']['summary']\n",
    "\n",
    "df"
   ]
  },
  {
   "cell_type": "markdown",
   "id": "231180ca-b606-4104-9d39-a335b718e455",
   "metadata": {
    "id": "231180ca-b606-4104-9d39-a335b718e455",
    "jp-MarkdownHeadingCollapsed": true,
    "tags": []
   },
   "source": [
    "# MD Filtration"
   ]
  },
  {
   "cell_type": "markdown",
   "id": "bb5827df",
   "metadata": {
    "id": "bb5827df",
    "jp-MarkdownHeadingCollapsed": true,
    "tags": []
   },
   "source": [
    "## Extracting embeddings"
   ]
  },
  {
   "cell_type": "code",
   "execution_count": 6,
   "id": "1a449489",
   "metadata": {
    "colab": {
     "base_uri": "https://localhost:8080/",
     "height": 208,
     "referenced_widgets": [
      "718f50239a9240b1a8d65ef2e5d09f9c",
      "6b572040e54241fb899279030585ed34",
      "5260e81605d0433ab58bc226261e1c55",
      "d0b5f1b2f4a64ead99868314849316f6",
      "b192a7007d6149999703a2e859216a9f",
      "97e65421314a40b6bdd935c1d8aa9a97",
      "7d4e6792e9894cdf872122ade4e55c08",
      "3d603950bc1b45faa1d3d960025e3159",
      "b34ebf1df1b540e88447c0ac942a95e3",
      "d26326d81aac403f8cc4fa5951ae376d",
      "acfdff3e9ed244a481298a3e29ef5f5c",
      "57bb93110cfd4c1a979ff7b481a66a48",
      "d9e9e488a27e4fc0929f864ad339dba2",
      "a89c1c1578234abe9ea9b6b3cf041916",
      "4bb5932922dc44dbbc83217a3813db6d",
      "c539094df6b749aaa1c676a3080537a4",
      "b4a8e12f73b74720a55b57f1a06e61ae",
      "893fc8941b88424790ca359f010eaae8",
      "e0142e735a9244eeb29f0ee6785df1f5",
      "3ebe40938f844b259e8337c9a6b2868e",
      "c228650f2e5042279e561438d06f01eb",
      "b445ae1469554d8e9614f75f16ece9bd",
      "c195af0a1dbc453e94b79900bb1f4a1e",
      "7e287435a3e0460296f14e2c3c0b5873",
      "6a38da77331f4316ad29190d3fd2f112",
      "f426315eb11a419e80653fa4a8586211",
      "9d6e5fe58012489ea3ad282e5c62097b",
      "d91a6ca5d4204224b5dfa766b600865e",
      "473e141c416c402282d7eb28e81d2514",
      "83658ccebb12495993eeabd32be6e001",
      "b3c1dbcef6cf450a89ff28d4d93d0fe7",
      "c92ff26ebf70419993aeea1b40107cdb",
      "93437cd4cbdb47d19b472a51a38b5240",
      "2e4d0f0147f14f109fe57a2625db87c0",
      "f69bc95c547f4736b851589bffc65fc0",
      "95b9361d62fb4140a326f16b994045e0",
      "045c43a6f44c4dfca60c83f605971c09",
      "0266e96fa6284979b24cd8200148a196",
      "2abf93a258774fa481c790b220fe33f8",
      "175fd5754d68441ba556c35190f3c5de",
      "abc835aed9d14bf589c61436876c23c7",
      "06f76911155340bbad31134c180fcc26",
      "5110628cc43346e088e3c2931b5848e7",
      "fb1a221af3a241e7a83e409875079d91",
      "63c6c3cfc8704582ae8c82b04a561900",
      "2b0cb2f18d9448e58d3698f205391a9c",
      "faeffa02d06d42e39a167e652f8a64dc",
      "6f0304b0111444ebacaf4bf744d41732",
      "0ad56b4ccfd143bdb0cda7d3ee26aec6",
      "19ae643ef4cc470ba353a1a5749cb8d7",
      "7fbbe6e69cd9450fa0f0aba93532138c",
      "8789b528a16f4295b1cbb939f9897e83",
      "5c82699614424cc08eb4112218dbdef9",
      "7533171fea5940fcafc08159a710edfb",
      "c705c94327ff4e278981e7cda6a82f02",
      "db90aeeaf2004aebac49d91fba71be61",
      "3680ed5749424f3d88ceec24446a422e",
      "870efb8dd6e84e74875295656e7ad8ef",
      "06ea37ebbc4646a4b4a4ee39efca5297",
      "ed91a164a4f5440a8e95617d92711510",
      "c245c4e781e04ababb676e5982c71b2e",
      "820b87f785944cf6b72cb2bac0628cbe",
      "fdc984e21cdf48638c421a9418fac5ba",
      "e144f6ed1d844f3eb9706f6e9a5fb722",
      "d135819ea9fb4ce3b9ca80b0f2d3842b",
      "b037acd5306147c1b316e35edb35394a"
     ]
    },
    "id": "1a449489",
    "outputId": "ae8b7f1b-8659-4fb9-c5c2-295c7ec14a27"
   },
   "outputs": [],
   "source": [
    "from transformers import AutoTokenizer, AutoModelForMaskedLM\n",
    "\n",
    "if dataset_name == 'xsum_sample':\n",
    "    tokenizer = AutoTokenizer.from_pretrained(\"Aktsvigun/bert-base-xsum\")\n",
    "    model = AutoModelForMaskedLM.from_pretrained(\"Aktsvigun/bert-base-xsum\", \n",
    "                                                 output_hidden_states=True)\n",
    "else:\n",
    "    tokenizer = AutoTokenizer.from_pretrained(\"Aktsvigun/bert-base-\" + dataset_name)\n",
    "    model = AutoModelForMaskedLM.from_pretrained(\"Aktsvigun/bert-base-\" + dataset_name,\n",
    "                                             output_hidden_states=True)"
   ]
  },
  {
   "cell_type": "code",
   "execution_count": 7,
   "id": "KwgJ_FzuDMcv",
   "metadata": {
    "id": "KwgJ_FzuDMcv"
   },
   "outputs": [],
   "source": [
    "# # SMALL EXAMPLE \n",
    "\n",
    "# text_embeddings = torch.Tensor([]).reshape(0, 768)\n",
    "\n",
    "# model.eval()\n",
    "# sentences = [ \n",
    "#               \"Hello I'm a single sentence\",\n",
    "#               \"And another sentence\",\n",
    "#               \"And the very very last one\",\n",
    "#               \"Hello I'm a single sentence\",\n",
    "#               \"And another sentence\",\n",
    "#               \"And the very very last one\",\n",
    "#               \"Hello I'm a single sentence\",\n",
    "#               \"And another sentence\",\n",
    "#               \"And the very very last one\",\n",
    "#             ]\n",
    "\n",
    "# batch_size = 4  \n",
    "# for idx in range(0, len(sentences), batch_size):\n",
    "#     batch_att_masks = torch.Tensor([]).reshape(0, 50)\n",
    "#     batch = sentences[idx : min(len(sentences), idx+batch_size)]\n",
    "    \n",
    "#     encoded = tokenizer(batch, max_length=50, padding='max_length', truncation=True)\n",
    "#     batch_att_masks = torch.cat((batch_att_masks, torch.Tensor(encoded['attention_mask'])))\n",
    "#     encoded = {key:torch.LongTensor(value) for key, value in encoded.items()}\n",
    "\n",
    "#     with torch.no_grad():\n",
    "#         outputs = model(**encoded)\n",
    "#         last_hidden_state = outputs.hidden_states[-1]\n",
    "#         # print(last_hidden_state.shape)\n",
    "#         # text_embeddings.append(torch.squeeze(torch.mean(last_hidden_state, axis=1), dim=0))\n",
    "#         # text_embeddings.append(torch.mean(last_hidden_state, axis=1))\n",
    "\n",
    "#         # без учета паддинга -- torch.mean(last_hidden_state, dim=1)\n",
    "#         # если хотим учитывать паддинг в знаменателе среднего -- просто torch.mean(tmp, dim=1)\n",
    "#         new_text_embs = torch.sum(batch_att_masks.unsqueeze(-1) * last_hidden_state, dim=1) / torch.sum(batch_att_masks.unsqueeze(-1), dim=1)\n",
    "#         text_embeddings = torch.cat((text_embeddings, new_text_embs))\n",
    "        \n",
    "  \n",
    "#     # print(outputs.logits.size())\n",
    "#     # print(len(outputs.hidden_states))\n",
    "#     # print(outputs.hidden_states[-1].size())\n",
    "\n",
    "#     # break"
   ]
  },
  {
   "cell_type": "code",
   "execution_count": 8,
   "id": "WCzk2-1IvXWa",
   "metadata": {
    "colab": {
     "base_uri": "https://localhost:8080/",
     "height": 32
    },
    "id": "WCzk2-1IvXWa",
    "outputId": "15caec97-3c5f-48c9-b996-b7b141737d30"
   },
   "outputs": [
    {
     "name": "stdout",
     "output_type": "stream",
     "text": [
      "device = cuda\n"
     ]
    }
   ],
   "source": [
    "torch.cuda.empty_cache()\n",
    "\n",
    "if torch.cuda.is_available():       \n",
    "    device = torch.device(\"cuda\") \n",
    "else:\n",
    "    device = torch.device(\"cpu\")\n",
    "\n",
    "model.to(device)\n",
    "print('device =', device)"
   ]
  },
  {
   "cell_type": "code",
   "execution_count": 9,
   "id": "wdtqYJTWvoL9",
   "metadata": {
    "colab": {
     "base_uri": "https://localhost:8080/",
     "height": 49,
     "referenced_widgets": [
      "76630526930e48589c509475f5a4ae19",
      "65a9bbc8bf6948b0aa246e7151d40211",
      "4bb132be67584306bcb6d8aa676988fd",
      "fcc52cd90ae0439997a6ecc5cf5123e6",
      "858798b6f3e04e1cbba8d2ba1d3d8cfd",
      "4860e6f6588f4cb6946230d6f0514681",
      "ad76922acf77404bbba809f36d45795d",
      "e37c031d0a9142179542dc7d9951dd14",
      "c9a9c78f7346435ab0efae8f97dc19bb",
      "45cd8a7663804a24a647e1146d6e218c",
      "31e713ac598c4e9ab53043ff3b54bd75"
     ]
    },
    "id": "wdtqYJTWvoL9",
    "outputId": "99e23e72-02ba-43bc-d2e6-e3df95f612df"
   },
   "outputs": [
    {
     "data": {
      "application/vnd.jupyter.widget-view+json": {
       "model_id": "89d0d083c2f64c8693ae2ee598ddae60",
       "version_major": 2,
       "version_minor": 0
      },
      "text/plain": [
       "  0%|          | 0/157 [00:00<?, ?it/s]"
      ]
     },
     "metadata": {},
     "output_type": "display_data"
    }
   ],
   "source": [
    "from tqdm.notebook import tqdm\n",
    "\n",
    "ebm_size = 768\n",
    "tokens_max_length = 512\n",
    "# tokens_max_length = 128\n",
    "\n",
    "text_embeddings = torch.Tensor([]).reshape(0, ebm_size).to(device)\n",
    "model.eval()\n",
    "\n",
    "# batch_size = 32  \n",
    "batch_size = 128\n",
    "for idx in tqdm(range(0, len(df), batch_size)):\n",
    "    batch_att_masks = torch.Tensor([]).reshape(0, tokens_max_length).to(device)    \n",
    "    batch = df[idx : min(len(df), idx + batch_size)]['text'].tolist()\n",
    "    \n",
    "    encoded = tokenizer(batch, max_length=tokens_max_length, padding='max_length',\n",
    "                        truncation=True, return_tensors='pt')\n",
    "    encoded = {key:value.to(device) for key, value in encoded.items()}  # положили на девайс\n",
    "    batch_att_masks = torch.cat((batch_att_masks, encoded['attention_mask'].to(device)))\n",
    "\n",
    "    with torch.no_grad():\n",
    "        outputs = model(**encoded)\n",
    "        last_hidden_state = outputs.hidden_states[-1]\n",
    "\n",
    "        # без учета паддинга -- torch.mean(last_hidden_state, dim=1)\n",
    "        # если хотим учитывать паддинг в знаменателе среднего -- просто torch.mean(tmp, dim=1)\n",
    "        new_text_embs = torch.sum(batch_att_masks.unsqueeze(-1) * last_hidden_state, dim=1) / torch.sum(batch_att_masks.unsqueeze(-1), dim=1)\n",
    "        text_embeddings = torch.cat((text_embeddings, new_text_embs))"
   ]
  },
  {
   "cell_type": "code",
   "execution_count": 14,
   "id": "912ce8bb",
   "metadata": {
    "id": "912ce8bb"
   },
   "outputs": [],
   "source": [
    "text_embeddings = text_embeddings.detach().cpu()"
   ]
  },
  {
   "cell_type": "code",
   "execution_count": 15,
   "id": "jxkBRqnpTeYe",
   "metadata": {
    "colab": {
     "base_uri": "https://localhost:8080/"
    },
    "id": "jxkBRqnpTeYe",
    "outputId": "8e5830f6-f562-4331-84ce-06c1baa76a69"
   },
   "outputs": [
    {
     "name": "stdout",
     "output_type": "stream",
     "text": [
      "torch.Size([20000, 768])\n"
     ]
    }
   ],
   "source": [
    "print(text_embeddings.size())"
   ]
  },
  {
   "cell_type": "code",
   "execution_count": 12,
   "id": "540d4fa0",
   "metadata": {
    "id": "540d4fa0"
   },
   "outputs": [],
   "source": [
    "torch.save(text_embeddings, f\"text_embeddings/{dataset_name}_text_embeddings.pt\")"
   ]
  },
  {
   "cell_type": "markdown",
   "id": "8b2ceaa1-6293-414f-b5a2-d45ce9fa0771",
   "metadata": {},
   "source": [
    "## Load embeddings"
   ]
  },
  {
   "cell_type": "code",
   "execution_count": 13,
   "id": "nqltAd8zKaWe",
   "metadata": {
    "id": "nqltAd8zKaWe"
   },
   "outputs": [],
   "source": [
    "text_embeddings = torch.load(f\"text_embeddings/{dataset_name}_text_embeddings.pt\")"
   ]
  },
  {
   "cell_type": "markdown",
   "id": "4xHataaj176I",
   "metadata": {
    "id": "4xHataaj176I",
    "jp-MarkdownHeadingCollapsed": true,
    "tags": []
   },
   "source": [
    "## Functions to compute Mahalanobis distance to centroid  \n"
   ]
  },
  {
   "cell_type": "code",
   "execution_count": 16,
   "id": "VvOzpu_l2Cmg",
   "metadata": {
    "id": "VvOzpu_l2Cmg"
   },
   "outputs": [],
   "source": [
    "from tqdm import tqdm\n",
    "\n",
    "DOUBLE_INFO = torch.finfo(torch.double)\n",
    "JITTERS = [10**exp for exp in range(-15, 0, 1)]\n",
    "\n",
    "def _compute_centroid(train_features, train_labels, label, zero_vector=None):\n",
    "    label_features = train_features[train_labels == label]\n",
    "    if len(label_features):\n",
    "        return label_features.mean(dim=0), False\n",
    "    return zero_vector, True"
   ]
  },
  {
   "cell_type": "code",
   "execution_count": 17,
   "id": "H6UT7Xmdwon3",
   "metadata": {
    "id": "H6UT7Xmdwon3"
   },
   "outputs": [],
   "source": [
    "def compute_centroids(train_features, train_labels, num_labels=None):\n",
    "    labels = (\n",
    "        np.sort(np.unique(train_labels))\n",
    "        if num_labels is None\n",
    "        else np.arange(num_labels)\n",
    "    )\n",
    "    device = train_features.device\n",
    "    centroids = torch.empty(\n",
    "        len(labels), train_features.shape[1], dtype=torch.float32, device=device\n",
    "    )\n",
    "    centroids_mask = torch.empty(len(labels), dtype=torch.bool, device=\"cpu\")\n",
    "    zero_vector = torch.zeros(train_features.shape[1], device=device)\n",
    "\n",
    "    for i, label in enumerate(labels):\n",
    "        centroid, centroid_mask = _compute_centroid(\n",
    "            train_features, train_labels, label, zero_vector\n",
    "        )\n",
    "        centroids[i].copy_(centroid, non_blocking=True)\n",
    "        centroids_mask[i] = centroid_mask\n",
    "\n",
    "    return centroids, centroids_mask"
   ]
  },
  {
   "cell_type": "code",
   "execution_count": 18,
   "id": "NM9Lg_fPwovm",
   "metadata": {
    "id": "NM9Lg_fPwovm"
   },
   "outputs": [],
   "source": [
    "def compute_inv_covariance(centroids, train_features, train_labels, jitters=None):\n",
    "    if jitters is None:\n",
    "        jitters = JITTERS\n",
    "    jitter = 0\n",
    "    jitter_eps = None\n",
    "\n",
    "    cov = torch.zeros(\n",
    "        centroids.shape[1], centroids.shape[1], device=centroids.device\n",
    "    ).float()\n",
    "    for c, mu_c in tqdm(enumerate(centroids)):\n",
    "        for x in train_features[train_labels == c]:\n",
    "            d = (x - mu_c).unsqueeze(1)\n",
    "            cov += d @ d.T\n",
    "    cov_scaled = cov / (train_features.shape[0] - 1)\n",
    "\n",
    "    for i, jitter_eps in enumerate(jitters):\n",
    "        jitter = jitter_eps * torch.eye(\n",
    "            cov_scaled.shape[1],\n",
    "            device=cov_scaled.device,\n",
    "        )\n",
    "        cov_scaled_update = cov_scaled + jitter\n",
    "        # RuntimeError: This function was deprecated since version 1.9 and is now removed. Please use the `torch.linalg.eigh` function instead.\n",
    "        # eigenvalues = torch.symeig(cov_scaled_update).eigenvalues\n",
    "        eigenvalues = torch.linalg.eigh(cov_scaled_update).eigenvalues\n",
    "        if (eigenvalues >= 0).all():\n",
    "            break\n",
    "    cov_scaled = cov_scaled + jitter\n",
    "    cov_inv = torch.inverse(cov_scaled.to(torch.float64)).float()\n",
    "    return cov_inv, jitter_eps"
   ]
  },
  {
   "cell_type": "code",
   "execution_count": 13,
   "id": "XdA-796zwtDw",
   "metadata": {
    "id": "XdA-796zwtDw"
   },
   "outputs": [],
   "source": [
    "def mahalanobis_distance(train_features, train_labels, eval_features):\n",
    "    centroids, centroids_mask = compute_centroids(train_features, train_labels)\n",
    "    sigma_inv, _ = compute_inv_covariance(centroids, train_features, train_labels)\n",
    "    diff = eval_features[:, None, :] - centroids[None, :, :]\n",
    "    # sigma_inv = np.linalg.pinv(*sigma)\n",
    "\n",
    "    dists = np.matmul(np.matmul(diff, sigma_inv), diff.permute(0, 2, 1))\n",
    "    dists = np.asarray([np.diag(dist) for dist in dists])\n",
    "    return np.min(dists, axis=1)"
   ]
  },
  {
   "cell_type": "code",
   "execution_count": 25,
   "id": "IfvsVvxKwul4",
   "metadata": {
    "id": "IfvsVvxKwul4"
   },
   "outputs": [],
   "source": [
    "def mahalanobis_distance_with_known_centroids_sigma_inv(\n",
    "    centroids, centroids_mask, sigma_inv, eval_features\n",
    "):\n",
    "    diff = eval_features.unsqueeze(1) - centroids.unsqueeze(0)  # bs (b), num_labels (c / s), dim (d / a)\n",
    "    \n",
    "    dists = torch.sqrt(torch.einsum(\"bcd,da,bsa->bcs\", diff, sigma_inv, diff))\n",
    "    device = dists.device\n",
    "    dists = torch.stack([torch.diag(dist).cpu() for dist in dists], dim=0)\n",
    "    if centroids_mask is not None:\n",
    "        dists = dists.masked_fill_(centroids_mask, float(\"inf\")).to(device)\n",
    "    return dists  # np.min(dists, axis=1)"
   ]
  },
  {
   "cell_type": "code",
   "execution_count": 26,
   "id": "4PJMJpQz7JXL",
   "metadata": {
    "id": "4PJMJpQz7JXL"
   },
   "outputs": [],
   "source": [
    "# неправильная версия, которую переделал и использовал сначала я\n",
    "# def mahalanobis_distance_with_known_centroids_sigma_inv(\n",
    "#     centroids, centroids_mask, sigma_inv, eval_features\n",
    "# ):\n",
    "#     diff = eval_features[:, None, :] - centroids[None, :, :]\n",
    "#     sigma_inv = np.linalg.pinv(*sigma_inv)\n",
    "\n",
    "#     dists = np.matmul(np.matmul(diff, sigma_inv), diff.permute(0, 2, 1))\n",
    "#     dists = np.asarray([np.diag(dist) for dist in dists])\n",
    "#     return np.min(dists, axis=1)"
   ]
  },
  {
   "cell_type": "code",
   "execution_count": 27,
   "id": "i0YQrP3-EA0X",
   "metadata": {
    "colab": {
     "base_uri": "https://localhost:8080/"
    },
    "id": "i0YQrP3-EA0X",
    "outputId": "91ec4aef-244b-48ba-ce29-8c0301059db0"
   },
   "outputs": [],
   "source": [
    "# %%time\n",
    "\n",
    "# train_features = text_embeddings\n",
    "# train_labels = np.zeros(len(train_features))\n",
    "# eval_features = text_embeddings\n",
    "# dists = mahalanobis_distance(train_features, train_labels, eval_features)\n",
    "# # print(dists)\n",
    "# # print(dists.shape)"
   ]
  },
  {
   "cell_type": "code",
   "execution_count": 28,
   "id": "UcUM4M_OPUYL",
   "metadata": {
    "colab": {
     "base_uri": "https://localhost:8080/"
    },
    "id": "UcUM4M_OPUYL",
    "outputId": "d9a042fc-6686-4690-d027-44cbc47a0822"
   },
   "outputs": [],
   "source": [
    "# dists.shape"
   ]
  },
  {
   "cell_type": "code",
   "execution_count": 29,
   "id": "g3qUPnul25kj",
   "metadata": {
    "id": "g3qUPnul25kj"
   },
   "outputs": [
    {
     "name": "stderr",
     "output_type": "stream",
     "text": [
      "1it [00:02,  2.06s/it]\n"
     ]
    },
    {
     "data": {
      "text/plain": [
       "tensor([[20.9129],\n",
       "        [22.9437],\n",
       "        [21.1909],\n",
       "        ...,\n",
       "        [25.3855],\n",
       "        [23.0572],\n",
       "        [23.1791]])"
      ]
     },
     "execution_count": 29,
     "metadata": {},
     "output_type": "execute_result"
    }
   ],
   "source": [
    "centroids, centroids_mask = compute_centroids(train_features, train_labels)\n",
    "sigma_inv = compute_inv_covariance(centroids, train_features, train_labels)[0]\n",
    "\n",
    "dists1 = mahalanobis_distance_with_known_centroids_sigma_inv(centroids, centroids_mask, sigma_inv, eval_features)\n",
    "dists1"
   ]
  },
  {
   "cell_type": "code",
   "execution_count": 30,
   "id": "8003f1d2-0d73-485d-b29a-b979051eca00",
   "metadata": {},
   "outputs": [
    {
     "data": {
      "text/plain": [
       "torch.Size([20000, 1])"
      ]
     },
     "execution_count": 30,
     "metadata": {},
     "output_type": "execute_result"
    }
   ],
   "source": [
    "dists1.shape"
   ]
  },
  {
   "cell_type": "code",
   "execution_count": null,
   "id": "7pp8xXkPum2S",
   "metadata": {
    "colab": {
     "base_uri": "https://localhost:8080/",
     "height": 429
    },
    "id": "7pp8xXkPum2S",
    "outputId": "a5e6df5a-3ff2-4e36-be9a-6f2155c2b45c"
   },
   "outputs": [],
   "source": [
    "# import seaborn as sns\n",
    "# import matplotlib.pyplot as plt\n",
    "\n",
    "# sns.histplot(dists)\n",
    "# plt.show()"
   ]
  },
  {
   "cell_type": "markdown",
   "id": "s3IziY8VS_el",
   "metadata": {
    "id": "s3IziY8VS_el",
    "jp-MarkdownHeadingCollapsed": true,
    "tags": []
   },
   "source": [
    "### Examine far texts:"
   ]
  },
  {
   "cell_type": "code",
   "execution_count": null,
   "id": "QaFEdbEZTVtr",
   "metadata": {
    "id": "QaFEdbEZTVtr"
   },
   "outputs": [],
   "source": [
    "a = torch.topk(torch.Tensor(dists), 50).indices"
   ]
  },
  {
   "cell_type": "code",
   "execution_count": null,
   "id": "CtE0Ni5VUZGJ",
   "metadata": {
    "colab": {
     "base_uri": "https://localhost:8080/",
     "height": 1000
    },
    "id": "CtE0Ni5VUZGJ",
    "outputId": "96e43075-8156-48e1-fb8d-4f146424413b"
   },
   "outputs": [
    {
     "data": {
      "text/html": [
       "<div>\n",
       "<style scoped>\n",
       "    .dataframe tbody tr th:only-of-type {\n",
       "        vertical-align: middle;\n",
       "    }\n",
       "\n",
       "    .dataframe tbody tr th {\n",
       "        vertical-align: top;\n",
       "    }\n",
       "\n",
       "    .dataframe thead th {\n",
       "        text-align: right;\n",
       "    }\n",
       "</style>\n",
       "<table border=\"1\" class=\"dataframe\">\n",
       "  <thead>\n",
       "    <tr style=\"text-align: right;\">\n",
       "      <th></th>\n",
       "      <th>text</th>\n",
       "      <th>summary</th>\n",
       "    </tr>\n",
       "  </thead>\n",
       "  <tbody>\n",
       "    <tr>\n",
       "      <th>7756</th>\n",
       "      <td>=                                             ...</td>\n",
       "      <td>Revised: Power Indices</td>\n",
       "    </tr>\n",
       "    <tr>\n",
       "      <th>7685</th>\n",
       "      <td>=                                             ...</td>\n",
       "      <td>Power Indices</td>\n",
       "    </tr>\n",
       "    <tr>\n",
       "      <th>7752</th>\n",
       "      <td>=                                             ...</td>\n",
       "      <td>Power Indices</td>\n",
       "    </tr>\n",
       "    <tr>\n",
       "      <th>7698</th>\n",
       "      <td>=                                             ...</td>\n",
       "      <td>Power Indices</td>\n",
       "    </tr>\n",
       "    <tr>\n",
       "      <th>7651</th>\n",
       "      <td>=                                             ...</td>\n",
       "      <td>Power Indices</td>\n",
       "    </tr>\n",
       "    <tr>\n",
       "      <th>7678</th>\n",
       "      <td>=                                             ...</td>\n",
       "      <td>Power Indices</td>\n",
       "    </tr>\n",
       "    <tr>\n",
       "      <th>7749</th>\n",
       "      <td>=                                             ...</td>\n",
       "      <td>Power Indices</td>\n",
       "    </tr>\n",
       "    <tr>\n",
       "      <th>7760</th>\n",
       "      <td>=                                             ...</td>\n",
       "      <td>Power Indices</td>\n",
       "    </tr>\n",
       "    <tr>\n",
       "      <th>7640</th>\n",
       "      <td>=                                             ...</td>\n",
       "      <td>Power Indices</td>\n",
       "    </tr>\n",
       "    <tr>\n",
       "      <th>7702</th>\n",
       "      <td>=                                             ...</td>\n",
       "      <td>Power Indices</td>\n",
       "    </tr>\n",
       "    <tr>\n",
       "      <th>7649</th>\n",
       "      <td>=                                             ...</td>\n",
       "      <td>Power Indices</td>\n",
       "    </tr>\n",
       "    <tr>\n",
       "      <th>7637</th>\n",
       "      <td>=                                             ...</td>\n",
       "      <td>Power Indices</td>\n",
       "    </tr>\n",
       "    <tr>\n",
       "      <th>7669</th>\n",
       "      <td>=                                             ...</td>\n",
       "      <td>Power Indices</td>\n",
       "    </tr>\n",
       "    <tr>\n",
       "      <th>7641</th>\n",
       "      <td>=                                             ...</td>\n",
       "      <td>Power Indices</td>\n",
       "    </tr>\n",
       "    <tr>\n",
       "      <th>7759</th>\n",
       "      <td>=                                             ...</td>\n",
       "      <td>Power Indices</td>\n",
       "    </tr>\n",
       "    <tr>\n",
       "      <th>7690</th>\n",
       "      <td>=                                             ...</td>\n",
       "      <td>Power Indices</td>\n",
       "    </tr>\n",
       "    <tr>\n",
       "      <th>7645</th>\n",
       "      <td>=                                             ...</td>\n",
       "      <td>Power Indices</td>\n",
       "    </tr>\n",
       "    <tr>\n",
       "      <th>7745</th>\n",
       "      <td>=                                             ...</td>\n",
       "      <td>Power Indices</td>\n",
       "    </tr>\n",
       "    <tr>\n",
       "      <th>1424</th>\n",
       "      <td>=                                             ...</td>\n",
       "      <td>Power Indices</td>\n",
       "    </tr>\n",
       "    <tr>\n",
       "      <th>1674</th>\n",
       "      <td>The ICE is currently experiencing technical di...</td>\n",
       "      <td>IntercontinentalExchange System</td>\n",
       "    </tr>\n",
       "    <tr>\n",
       "      <th>7677</th>\n",
       "      <td>=                                             ...</td>\n",
       "      <td>Gas Indices</td>\n",
       "    </tr>\n",
       "    <tr>\n",
       "      <th>7614</th>\n",
       "      <td>=                                             ...</td>\n",
       "      <td>Gas Indices</td>\n",
       "    </tr>\n",
       "    <tr>\n",
       "      <th>7629</th>\n",
       "      <td>=                                             ...</td>\n",
       "      <td>Gas Indices</td>\n",
       "    </tr>\n",
       "    <tr>\n",
       "      <th>7783</th>\n",
       "      <td>=                                             ...</td>\n",
       "      <td>Gas Indices</td>\n",
       "    </tr>\n",
       "    <tr>\n",
       "      <th>7773</th>\n",
       "      <td>=                                             ...</td>\n",
       "      <td>Gas Indices</td>\n",
       "    </tr>\n",
       "    <tr>\n",
       "      <th>7782</th>\n",
       "      <td>=                                             ...</td>\n",
       "      <td>Gas Indices</td>\n",
       "    </tr>\n",
       "    <tr>\n",
       "      <th>7785</th>\n",
       "      <td>=                                             ...</td>\n",
       "      <td>Gas Indices</td>\n",
       "    </tr>\n",
       "    <tr>\n",
       "      <th>7598</th>\n",
       "      <td>=                                             ...</td>\n",
       "      <td>Gas Indices</td>\n",
       "    </tr>\n",
       "    <tr>\n",
       "      <th>7748</th>\n",
       "      <td>=                                             ...</td>\n",
       "      <td>Gas Indices</td>\n",
       "    </tr>\n",
       "    <tr>\n",
       "      <th>7603</th>\n",
       "      <td>=                                             ...</td>\n",
       "      <td>Gas Indices</td>\n",
       "    </tr>\n",
       "    <tr>\n",
       "      <th>7757</th>\n",
       "      <td>=                                             ...</td>\n",
       "      <td>Gas Indices</td>\n",
       "    </tr>\n",
       "    <tr>\n",
       "      <th>7684</th>\n",
       "      <td>=                                             ...</td>\n",
       "      <td>Gas Indices</td>\n",
       "    </tr>\n",
       "    <tr>\n",
       "      <th>7613</th>\n",
       "      <td>=                                             ...</td>\n",
       "      <td>Gas Indices</td>\n",
       "    </tr>\n",
       "    <tr>\n",
       "      <th>7668</th>\n",
       "      <td>=                                             ...</td>\n",
       "      <td>Gas Indices</td>\n",
       "    </tr>\n",
       "    <tr>\n",
       "      <th>7791</th>\n",
       "      <td>=                                             ...</td>\n",
       "      <td>Gas Indices</td>\n",
       "    </tr>\n",
       "    <tr>\n",
       "      <th>7646</th>\n",
       "      <td>=                                             ...</td>\n",
       "      <td>Gas Indices</td>\n",
       "    </tr>\n",
       "    <tr>\n",
       "      <th>7687</th>\n",
       "      <td>=                                             ...</td>\n",
       "      <td>Gas Indices</td>\n",
       "    </tr>\n",
       "    <tr>\n",
       "      <th>7638</th>\n",
       "      <td>=                                             ...</td>\n",
       "      <td>Gas Indices</td>\n",
       "    </tr>\n",
       "    <tr>\n",
       "      <th>7767</th>\n",
       "      <td>=                                             ...</td>\n",
       "      <td>Gas Indices</td>\n",
       "    </tr>\n",
       "    <tr>\n",
       "      <th>7777</th>\n",
       "      <td>=                                             ...</td>\n",
       "      <td>Gas Indices</td>\n",
       "    </tr>\n",
       "    <tr>\n",
       "      <th>7595</th>\n",
       "      <td>=                                             ...</td>\n",
       "      <td>Gas Indices</td>\n",
       "    </tr>\n",
       "    <tr>\n",
       "      <th>7746</th>\n",
       "      <td>=                                             ...</td>\n",
       "      <td>Gas Indices</td>\n",
       "    </tr>\n",
       "    <tr>\n",
       "      <th>7787</th>\n",
       "      <td>=                                             ...</td>\n",
       "      <td>Gas Indices</td>\n",
       "    </tr>\n",
       "    <tr>\n",
       "      <th>7769</th>\n",
       "      <td>=                                             ...</td>\n",
       "      <td>Gas Indices</td>\n",
       "    </tr>\n",
       "    <tr>\n",
       "      <th>9235</th>\n",
       "      <td>==============================================...</td>\n",
       "      <td>Celebrating our 200th Click 'n Save, January 1...</td>\n",
       "    </tr>\n",
       "    <tr>\n",
       "      <th>1680</th>\n",
       "      <td>Today, IntercontinentalExchange launched finan...</td>\n",
       "      <td>IntercontinentalExchange Index Swaps</td>\n",
       "    </tr>\n",
       "    <tr>\n",
       "      <th>1678</th>\n",
       "      <td>A Reminder to all Power and Natural Gas Trader...</td>\n",
       "      <td>New Products for Power and Natural Gas</td>\n",
       "    </tr>\n",
       "    <tr>\n",
       "      <th>7659</th>\n",
       "      <td>=                                             ...</td>\n",
       "      <td>** New N.A. Natural Gas Indices **</td>\n",
       "    </tr>\n",
       "    <tr>\n",
       "      <th>6099</th>\n",
       "      <td>**********************************************...</td>\n",
       "      <td>Get top-billed offers in your Entertainment Ne...</td>\n",
       "    </tr>\n",
       "    <tr>\n",
       "      <th>63</th>\n",
       "      <td>**********************************************...</td>\n",
       "      <td>Compelling small cap investment opportunity</td>\n",
       "    </tr>\n",
       "  </tbody>\n",
       "</table>\n",
       "</div>"
      ],
      "text/plain": [
       "                                                   text  \\\n",
       "7756  =                                             ...   \n",
       "7685  =                                             ...   \n",
       "7752  =                                             ...   \n",
       "7698  =                                             ...   \n",
       "7651  =                                             ...   \n",
       "7678  =                                             ...   \n",
       "7749  =                                             ...   \n",
       "7760  =                                             ...   \n",
       "7640  =                                             ...   \n",
       "7702  =                                             ...   \n",
       "7649  =                                             ...   \n",
       "7637  =                                             ...   \n",
       "7669  =                                             ...   \n",
       "7641  =                                             ...   \n",
       "7759  =                                             ...   \n",
       "7690  =                                             ...   \n",
       "7645  =                                             ...   \n",
       "7745  =                                             ...   \n",
       "1424  =                                             ...   \n",
       "1674  The ICE is currently experiencing technical di...   \n",
       "7677  =                                             ...   \n",
       "7614  =                                             ...   \n",
       "7629  =                                             ...   \n",
       "7783  =                                             ...   \n",
       "7773  =                                             ...   \n",
       "7782  =                                             ...   \n",
       "7785  =                                             ...   \n",
       "7598  =                                             ...   \n",
       "7748  =                                             ...   \n",
       "7603  =                                             ...   \n",
       "7757  =                                             ...   \n",
       "7684  =                                             ...   \n",
       "7613  =                                             ...   \n",
       "7668  =                                             ...   \n",
       "7791  =                                             ...   \n",
       "7646  =                                             ...   \n",
       "7687  =                                             ...   \n",
       "7638  =                                             ...   \n",
       "7767  =                                             ...   \n",
       "7777  =                                             ...   \n",
       "7595  =                                             ...   \n",
       "7746  =                                             ...   \n",
       "7787  =                                             ...   \n",
       "7769  =                                             ...   \n",
       "9235  ==============================================...   \n",
       "1680  Today, IntercontinentalExchange launched finan...   \n",
       "1678  A Reminder to all Power and Natural Gas Trader...   \n",
       "7659  =                                             ...   \n",
       "6099  **********************************************...   \n",
       "63    **********************************************...   \n",
       "\n",
       "                                                summary  \n",
       "7756                             Revised: Power Indices  \n",
       "7685                                      Power Indices  \n",
       "7752                                      Power Indices  \n",
       "7698                                      Power Indices  \n",
       "7651                                      Power Indices  \n",
       "7678                                      Power Indices  \n",
       "7749                                      Power Indices  \n",
       "7760                                      Power Indices  \n",
       "7640                                      Power Indices  \n",
       "7702                                      Power Indices  \n",
       "7649                                      Power Indices  \n",
       "7637                                      Power Indices  \n",
       "7669                                      Power Indices  \n",
       "7641                                      Power Indices  \n",
       "7759                                      Power Indices  \n",
       "7690                                      Power Indices  \n",
       "7645                                      Power Indices  \n",
       "7745                                      Power Indices  \n",
       "1424                                      Power Indices  \n",
       "1674                    IntercontinentalExchange System  \n",
       "7677                                        Gas Indices  \n",
       "7614                                        Gas Indices  \n",
       "7629                                        Gas Indices  \n",
       "7783                                        Gas Indices  \n",
       "7773                                        Gas Indices  \n",
       "7782                                        Gas Indices  \n",
       "7785                                        Gas Indices  \n",
       "7598                                        Gas Indices  \n",
       "7748                                        Gas Indices  \n",
       "7603                                        Gas Indices  \n",
       "7757                                        Gas Indices  \n",
       "7684                                        Gas Indices  \n",
       "7613                                        Gas Indices  \n",
       "7668                                        Gas Indices  \n",
       "7791                                        Gas Indices  \n",
       "7646                                        Gas Indices  \n",
       "7687                                        Gas Indices  \n",
       "7638                                        Gas Indices  \n",
       "7767                                        Gas Indices  \n",
       "7777                                        Gas Indices  \n",
       "7595                                        Gas Indices  \n",
       "7746                                        Gas Indices  \n",
       "7787                                        Gas Indices  \n",
       "7769                                        Gas Indices  \n",
       "9235  Celebrating our 200th Click 'n Save, January 1...  \n",
       "1680               IntercontinentalExchange Index Swaps  \n",
       "1678             New Products for Power and Natural Gas  \n",
       "7659                 ** New N.A. Natural Gas Indices **  \n",
       "6099  Get top-billed offers in your Entertainment Ne...  \n",
       "63          Compelling small cap investment opportunity  "
      ]
     },
     "execution_count": 25,
     "metadata": {},
     "output_type": "execute_result"
    }
   ],
   "source": [
    "df.iloc[a]"
   ]
  },
  {
   "cell_type": "code",
   "execution_count": null,
   "id": "LSoS20QqUsrn",
   "metadata": {
    "colab": {
     "base_uri": "https://localhost:8080/",
     "height": 100
    },
    "id": "LSoS20QqUsrn",
    "outputId": "65061c0f-2d03-4624-9492-2770bee7b31a"
   },
   "outputs": [
    {
     "data": {
      "text/plain": [
       "'Today, IntercontinentalExchange launched financial swaps settling against o= ur Power and Natural Gas indices.\\nTwo new products, NG Fin Sw Swap, FP for=  ICE and Fin Swap-Peak, FP for ICE are now listed for the Henry Hub in Natu= ral Gas and for Cinergy and PJM-West in Power.\\nPlease include these new ma= rkets in your portfolios.\\n=                                                                            =                                                                            =                                                                            =                                                                            =                                                                            =                                                                            =                                                                            =                                                                            =                         =20                                                                            =                                                                            =                                                                            =                                                                            =                                                                            =                                                                            =                                                                            =                                                                            =                                                                            =                                                                            =                                                                            =                                                                            =                                                                            =                         =20                                                                            =                                                                            =                                                                            =                                                                            =                                                                            =                                                                            =                                                                            =                                                                            =                                                                            =                                                                            =                                                                            =                                                                            =                                                                            =                         =20                                                                            =                                                                            =                                                                            =                                                                            =                                                                            =                                                                            =                                                                            =                                                                            =                                                                            =                                                                            =                                                                            =                                                                            =                                                                            =                         =20                                                                            =                                                                            =                                                                            =                                                                            =                                                                            =                                                                            =                                                                            =                                                                            =                                                                            =                                                                            =                                                                            =                                                                            =                                                                            =                         =20                                                                            =                                                                            =                                                                            =                                                                            =                                                                            =                                                                            =                                                                            =                                                                            =                                                                            =                                                                            =                                                                            =                                                                            =                                                                            =                         =20                                                                            =                                                                            =                                                                            =                                                                            =                                                                            =                                                                            =                                                                            =                                                                            =                                                                            =                                                                            =                                                                            =                                                                            =                                                                            =                         =20                                                                            =                                                                            =                                                                            =                                                                            =                                                                            =                                                                            =                                                                            =                                                                            =                                                                            =                                                                            =                                                                            =                                                                            =                                                                            =                         =20                                                                            =                                                                            =                                                                            =                                                                            =                                                                            =                                                                            =                                                                            =                                                                            =                                                                            =                                                                            =                                                                            =                                                                            =                                                                            =                         =20                                                                            =                                                                            =                                                                            =                                                                            =                                                                            =                                                                            =                                                                            =                                                                            =                                                                            =                                                                            =                                                                            =                                                                            =                                                                            =                         =20                                                                            =                                                                            =                                                                            =                                                                            =                                                                            =                                                                            =                                                                            =                                                                            =                                                                            =                                                                            =                                                                            =                                                                            =                                                                            =                         =20                                                                            =                                                                            =                                                                            =                                                                            =                                                                            =                                                                            =                                                                            =                                                                            =                                                                            =                                                                            =                                                                            =                                                                            =                                                                            =\\n'"
      ]
     },
     "execution_count": 26,
     "metadata": {},
     "output_type": "execute_result"
    }
   ],
   "source": [
    "df.iloc[1680].text"
   ]
  },
  {
   "cell_type": "code",
   "execution_count": null,
   "id": "Y7QTA1TzWVYR",
   "metadata": {
    "colab": {
     "base_uri": "https://localhost:8080/",
     "height": 100
    },
    "id": "Y7QTA1TzWVYR",
    "outputId": "4be1cd57-0be4-41f3-ca16-39fc665e7996"
   },
   "outputs": [
    {
     "data": {
      "text/plain": [
       "'A Reminder to all Power and Natural Gas Traders:                           =                                                                            =                                                                            =                                                                            =                                                                            =                                                                            =                                                                            =                                                                            =                                                                            =                                                                            =                                                                            =                                                                            =                                                                            =                         =20                                                                            =                                                                            =                                                                            =                                                                            =                                                                            =                                                                            =                                                                            =                                                                            =                                                                            =                                                                            =                                                                            =                                                                            =                                                                            =                         =20 IntercontinentalExchange has launched financial swaps settling against our = Power and Natural Gas indices.\\nTwo new products, NG Fin Sw Swap, FP for IC= E and Fin Swap-Peak, FP for ICE are now listed for the Henry Hub in Natural=  Gas and for Cinergy and PJM-West in Power.\\nPlease include these new marke= ts in your portfolios.\\n=                                                                            =                                                                            =                                                                            =                                                                            =                                                                            =                                                                            =                                                                            =                                                                            =                         =20                                                                            =                                                                            =                                                                            =                                                                            =                                                                            =                                                                            =                                                                            =                                                                            =                                                                            =                                                                            =                                                                            =                                                                            =                                                                            =                         =20                                                                            =                                                                            =                                                                            =                                                                            =                                                                            =                                                                            =                                                                            =                                                                            =                                                                            =                                                                            =                                                                            =                                                                            =                                                                            =                         =20                                                                            =                                                                            =                                                                            =                                                                            =                                                                            =                                                                            =                                                                            =                                                                            =                                                                            =                                                                            =                                                                            =                                                                            =                                                                            =                         =20                                                                            =                                                                            =                                                                            =                                                                            =                                                                            =                                                                            =                                                                            =                                                                            =                                                                            =                                                                            =                                                                            =                                                                            =                                                                            =                         =20                                                                            =                                                                            =                                                                            =                                                                            =                                                                            =                                                                            =                                                                            =                                                                            =                                                                            =                                                                            =                                                                            =                                                                            =                                                                            =                         =20                                                                            =                                                                            =                                                                            =                                                                            =                                                                            =                                                                            =                                                                            =                                                                            =                                                                            =                                                                            =                                                                            =                                                                            =                                                                            =                         =20                                                                            =                                                                            =                                                                            =                                                                            =                                                                            =                                                                            =                                                                            =                                                                            =                                                                            =                                                                            =                                                                            =                                                                            =                                                                            =                         =20                                                                            =                                                                            =                                                                            =                                                                            =                                                                            =                                                                            =                                                                            =                                                                            =                                                                            =                                                                            =                                                                            =                                                                            =                                                                            =                         =20                                                                            =                                                                            =                                                                            =                                                                            =                                                                            =                                                                            =                                                                            =                                                                            =                                                                            =                                                                            =                                                                            =                                                                            =                                                                            =                         =20                                                                            =                                                                            =                                                                            =                                                                            =                                                                            =                                                                            =                                                                            =                                                                            =                                                                            =                                                                            =                                                                            =                                                                            =                                                                            =                         =20                                                                            =                                                                            =                                                                            =                                                                            =                                                                            =                                                                            =                                                                            =                                                                            =                                                                            =                                                                            =                                                                            =                                                                            =                                                                            =\\n'"
      ]
     },
     "execution_count": 27,
     "metadata": {},
     "output_type": "execute_result"
    }
   ],
   "source": [
    "df.iloc[1678].text"
   ]
  },
  {
   "cell_type": "markdown",
   "id": "TT8owsCtyFGN",
   "metadata": {
    "id": "TT8owsCtyFGN",
    "jp-MarkdownHeadingCollapsed": true,
    "tags": []
   },
   "source": [
    "## Remove far texts + update centroids & covariance matrix till convergence "
   ]
  },
  {
   "cell_type": "code",
   "execution_count": 38,
   "id": "cc1c3fd1-e16e-48bf-8661-f94c06cc35c9",
   "metadata": {},
   "outputs": [],
   "source": [
    "MAX_ITER = 10\n",
    "EPS = 1e-4\n",
    "# EPS = 0.015\n",
    "quantile = 0.97"
   ]
  },
  {
   "cell_type": "code",
   "execution_count": 39,
   "id": "e7d35768-9750-4438-8837-f07e557ffe6f",
   "metadata": {},
   "outputs": [],
   "source": [
    "from datasets import DatasetDict, Dataset\n",
    "from copy import deepcopy"
   ]
  },
  {
   "cell_type": "code",
   "execution_count": 40,
   "id": "4ac51dfb",
   "metadata": {},
   "outputs": [
    {
     "name": "stderr",
     "output_type": "stream",
     "text": [
      "1it [00:01,  2.00s/it]\n"
     ]
    },
    {
     "data": {
      "image/png": "[encoded data removed]",
      "text/plain": [
       "<Figure size 640x480 with 1 Axes>"
      ]
     },
     "metadata": {},
     "output_type": "display_data"
    },
    {
     "data": {
      "application/vnd.jupyter.widget-view+json": {
       "model_id": "ab9ca3c5f3b940ebb2482f94f3fb964d",
       "version_major": 2,
       "version_minor": 0
      },
      "text/plain": [
       "Saving the dataset (0/1 shards):   0%|          | 0/20000 [00:00<?, ? examples/s]"
      ]
     },
     "metadata": {},
     "output_type": "display_data"
    },
    {
     "data": {
      "application/vnd.jupyter.widget-view+json": {
       "model_id": "dae796c7a60e4c768b9f43abf93d321a",
       "version_major": 2,
       "version_minor": 0
      },
      "text/plain": [
       "Saving the dataset (0/1 shards):   0%|          | 0/1500 [00:00<?, ? examples/s]"
      ]
     },
     "metadata": {},
     "output_type": "display_data"
    },
    {
     "data": {
      "application/vnd.jupyter.widget-view+json": {
       "model_id": "355e66b6fb794e3b987709aa3136bfa8",
       "version_major": 2,
       "version_minor": 0
      },
      "text/plain": [
       "Saving the dataset (0/1 shards):   0%|          | 0/1500 [00:00<?, ? examples/s]"
      ]
     },
     "metadata": {},
     "output_type": "display_data"
    },
    {
     "name": "stdout",
     "output_type": "stream",
     "text": [
      "ITER: 0\n",
      "initial THRESHOLD: 40.29731235504149\n",
      "retained objects num: 20000\n",
      "======================================\n",
      "ITER: 1\n",
      "retained objects num before: 20000\n",
      "retained objects num after: 19400\n"
     ]
    },
    {
     "name": "stderr",
     "output_type": "stream",
     "text": [
      "1it [00:02,  2.02s/it]\n"
     ]
    },
    {
     "data": {
      "image/png": "[encoded data removed]",
      "text/plain": [
       "<Figure size 640x480 with 1 Axes>"
      ]
     },
     "metadata": {},
     "output_type": "display_data"
    },
    {
     "data": {
      "application/vnd.jupyter.widget-view+json": {
       "model_id": "1371a88f6d8248489f66913243e7e2d8",
       "version_major": 2,
       "version_minor": 0
      },
      "text/plain": [
       "Saving the dataset (0/1 shards):   0%|          | 0/19400 [00:00<?, ? examples/s]"
      ]
     },
     "metadata": {},
     "output_type": "display_data"
    },
    {
     "data": {
      "application/vnd.jupyter.widget-view+json": {
       "model_id": "9b7e862bb0694775a6367d06921d55dc",
       "version_major": 2,
       "version_minor": 0
      },
      "text/plain": [
       "Saving the dataset (0/1 shards):   0%|          | 0/1500 [00:00<?, ? examples/s]"
      ]
     },
     "metadata": {},
     "output_type": "display_data"
    },
    {
     "data": {
      "application/vnd.jupyter.widget-view+json": {
       "model_id": "75c62a4a6d484a3a84cf1f5a0d7035e9",
       "version_major": 2,
       "version_minor": 0
      },
      "text/plain": [
       "Saving the dataset (0/1 shards):   0%|          | 0/1500 [00:00<?, ? examples/s]"
      ]
     },
     "metadata": {},
     "output_type": "display_data"
    },
    {
     "name": "stdout",
     "output_type": "stream",
     "text": [
      "centroids distance: 0.047429338\n",
      "======================================\n",
      "======================================\n",
      "ITER: 2\n",
      "retained objects num before: 19400\n",
      "retained objects num after: 19136\n"
     ]
    },
    {
     "name": "stderr",
     "output_type": "stream",
     "text": [
      "1it [00:02,  2.06s/it]\n"
     ]
    },
    {
     "data": {
      "image/png": "[encoded data removed]",
      "text/plain": [
       "<Figure size 640x480 with 1 Axes>"
      ]
     },
     "metadata": {},
     "output_type": "display_data"
    },
    {
     "data": {
      "application/vnd.jupyter.widget-view+json": {
       "model_id": "4e9d82a3b1ae47d1a62699ffc63e909f",
       "version_major": 2,
       "version_minor": 0
      },
      "text/plain": [
       "Saving the dataset (0/1 shards):   0%|          | 0/19136 [00:00<?, ? examples/s]"
      ]
     },
     "metadata": {},
     "output_type": "display_data"
    },
    {
     "data": {
      "application/vnd.jupyter.widget-view+json": {
       "model_id": "fe013886611543ac8bd872f0083421f4",
       "version_major": 2,
       "version_minor": 0
      },
      "text/plain": [
       "Saving the dataset (0/1 shards):   0%|          | 0/1500 [00:00<?, ? examples/s]"
      ]
     },
     "metadata": {},
     "output_type": "display_data"
    },
    {
     "data": {
      "application/vnd.jupyter.widget-view+json": {
       "model_id": "0d6ca90cedab436fae08ee6fb293ccfb",
       "version_major": 2,
       "version_minor": 0
      },
      "text/plain": [
       "Saving the dataset (0/1 shards):   0%|          | 0/1500 [00:00<?, ? examples/s]"
      ]
     },
     "metadata": {},
     "output_type": "display_data"
    },
    {
     "name": "stdout",
     "output_type": "stream",
     "text": [
      "centroids distance: 0.01887566\n",
      "======================================\n",
      "======================================\n",
      "ITER: 3\n",
      "retained objects num before: 19136\n",
      "retained objects num after: 19030\n"
     ]
    },
    {
     "name": "stderr",
     "output_type": "stream",
     "text": [
      "1it [00:02,  2.04s/it]\n"
     ]
    },
    {
     "data": {
      "image/png": "[encoded data removed]",
      "text/plain": [
       "<Figure size 640x480 with 1 Axes>"
      ]
     },
     "metadata": {},
     "output_type": "display_data"
    },
    {
     "data": {
      "application/vnd.jupyter.widget-view+json": {
       "model_id": "b549fbd13fe249069100d5c35b8bdb42",
       "version_major": 2,
       "version_minor": 0
      },
      "text/plain": [
       "Saving the dataset (0/1 shards):   0%|          | 0/19030 [00:00<?, ? examples/s]"
      ]
     },
     "metadata": {},
     "output_type": "display_data"
    },
    {
     "data": {
      "application/vnd.jupyter.widget-view+json": {
       "model_id": "ec6d3a60386a4d5da43da23d9aafb3b1",
       "version_major": 2,
       "version_minor": 0
      },
      "text/plain": [
       "Saving the dataset (0/1 shards):   0%|          | 0/1500 [00:00<?, ? examples/s]"
      ]
     },
     "metadata": {},
     "output_type": "display_data"
    },
    {
     "data": {
      "application/vnd.jupyter.widget-view+json": {
       "model_id": "542419909119495bb29c8c7c065eb3be",
       "version_major": 2,
       "version_minor": 0
      },
      "text/plain": [
       "Saving the dataset (0/1 shards):   0%|          | 0/1500 [00:00<?, ? examples/s]"
      ]
     },
     "metadata": {},
     "output_type": "display_data"
    },
    {
     "name": "stdout",
     "output_type": "stream",
     "text": [
      "centroids distance: 0.008119802\n",
      "======================================\n",
      "======================================\n",
      "ITER: 4\n",
      "retained objects num before: 19030\n",
      "retained objects num after: 18986\n"
     ]
    },
    {
     "name": "stderr",
     "output_type": "stream",
     "text": [
      "1it [00:01,  1.94s/it]\n"
     ]
    },
    {
     "data": {
      "image/png": "[encoded data removed]",
      "text/plain": [
       "<Figure size 640x480 with 1 Axes>"
      ]
     },
     "metadata": {},
     "output_type": "display_data"
    },
    {
     "data": {
      "application/vnd.jupyter.widget-view+json": {
       "model_id": "7a91035a19a24a0ab9bf99f8a1951123",
       "version_major": 2,
       "version_minor": 0
      },
      "text/plain": [
       "Saving the dataset (0/1 shards):   0%|          | 0/18986 [00:00<?, ? examples/s]"
      ]
     },
     "metadata": {},
     "output_type": "display_data"
    },
    {
     "data": {
      "application/vnd.jupyter.widget-view+json": {
       "model_id": "8c2bc672c4ad4d50a9657c0da545bef5",
       "version_major": 2,
       "version_minor": 0
      },
      "text/plain": [
       "Saving the dataset (0/1 shards):   0%|          | 0/1500 [00:00<?, ? examples/s]"
      ]
     },
     "metadata": {},
     "output_type": "display_data"
    },
    {
     "data": {
      "application/vnd.jupyter.widget-view+json": {
       "model_id": "5a2763ff78154dac89ebff3226252aff",
       "version_major": 2,
       "version_minor": 0
      },
      "text/plain": [
       "Saving the dataset (0/1 shards):   0%|          | 0/1500 [00:00<?, ? examples/s]"
      ]
     },
     "metadata": {},
     "output_type": "display_data"
    },
    {
     "name": "stdout",
     "output_type": "stream",
     "text": [
      "centroids distance: 0.0036670452\n",
      "======================================\n",
      "======================================\n",
      "ITER: 5\n",
      "retained objects num before: 18986\n",
      "retained objects num after: 18968\n"
     ]
    },
    {
     "name": "stderr",
     "output_type": "stream",
     "text": [
      "1it [00:02,  2.10s/it]\n"
     ]
    },
    {
     "data": {
      "image/png": "[encoded data removed]",
      "text/plain": [
       "<Figure size 640x480 with 1 Axes>"
      ]
     },
     "metadata": {},
     "output_type": "display_data"
    },
    {
     "data": {
      "application/vnd.jupyter.widget-view+json": {
       "model_id": "38def71350e641b185da92b6a5dc439a",
       "version_major": 2,
       "version_minor": 0
      },
      "text/plain": [
       "Saving the dataset (0/1 shards):   0%|          | 0/18968 [00:00<?, ? examples/s]"
      ]
     },
     "metadata": {},
     "output_type": "display_data"
    },
    {
     "data": {
      "application/vnd.jupyter.widget-view+json": {
       "model_id": "36da0c8f098c4639bbd2877ce2961fa7",
       "version_major": 2,
       "version_minor": 0
      },
      "text/plain": [
       "Saving the dataset (0/1 shards):   0%|          | 0/1500 [00:00<?, ? examples/s]"
      ]
     },
     "metadata": {},
     "output_type": "display_data"
    },
    {
     "data": {
      "application/vnd.jupyter.widget-view+json": {
       "model_id": "600b063f9e8943aabefc1fc7470af8cd",
       "version_major": 2,
       "version_minor": 0
      },
      "text/plain": [
       "Saving the dataset (0/1 shards):   0%|          | 0/1500 [00:00<?, ? examples/s]"
      ]
     },
     "metadata": {},
     "output_type": "display_data"
    },
    {
     "name": "stdout",
     "output_type": "stream",
     "text": [
      "centroids distance: 0.0017248635\n",
      "======================================\n",
      "======================================\n",
      "ITER: 6\n",
      "retained objects num before: 18968\n",
      "retained objects num after: 18959\n"
     ]
    },
    {
     "name": "stderr",
     "output_type": "stream",
     "text": [
      "1it [00:02,  2.78s/it]\n"
     ]
    },
    {
     "data": {
      "image/png": "[encoded data removed]",
      "text/plain": [
       "<Figure size 640x480 with 1 Axes>"
      ]
     },
     "metadata": {},
     "output_type": "display_data"
    },
    {
     "data": {
      "application/vnd.jupyter.widget-view+json": {
       "model_id": "8545a130d4184249a364979d4a0f88db",
       "version_major": 2,
       "version_minor": 0
      },
      "text/plain": [
       "Saving the dataset (0/1 shards):   0%|          | 0/18959 [00:00<?, ? examples/s]"
      ]
     },
     "metadata": {},
     "output_type": "display_data"
    },
    {
     "data": {
      "application/vnd.jupyter.widget-view+json": {
       "model_id": "88b363092deb49978786aaa631cf2be1",
       "version_major": 2,
       "version_minor": 0
      },
      "text/plain": [
       "Saving the dataset (0/1 shards):   0%|          | 0/1500 [00:00<?, ? examples/s]"
      ]
     },
     "metadata": {},
     "output_type": "display_data"
    },
    {
     "data": {
      "application/vnd.jupyter.widget-view+json": {
       "model_id": "80012bf0b99d4f73a73ad15f1ba6410c",
       "version_major": 2,
       "version_minor": 0
      },
      "text/plain": [
       "Saving the dataset (0/1 shards):   0%|          | 0/1500 [00:00<?, ? examples/s]"
      ]
     },
     "metadata": {},
     "output_type": "display_data"
    },
    {
     "name": "stdout",
     "output_type": "stream",
     "text": [
      "centroids distance: 0.0009213026\n",
      "======================================\n",
      "======================================\n",
      "ITER: 7\n",
      "retained objects num before: 18959\n",
      "retained objects num after: 18957\n"
     ]
    },
    {
     "name": "stderr",
     "output_type": "stream",
     "text": [
      "1it [00:02,  2.09s/it]\n"
     ]
    },
    {
     "data": {
      "image/png": "[encoded data removed]",
      "text/plain": [
       "<Figure size 640x480 with 1 Axes>"
      ]
     },
     "metadata": {},
     "output_type": "display_data"
    },
    {
     "data": {
      "application/vnd.jupyter.widget-view+json": {
       "model_id": "1d01c03945f441338328705e9e47a215",
       "version_major": 2,
       "version_minor": 0
      },
      "text/plain": [
       "Saving the dataset (0/1 shards):   0%|          | 0/18957 [00:00<?, ? examples/s]"
      ]
     },
     "metadata": {},
     "output_type": "display_data"
    },
    {
     "data": {
      "application/vnd.jupyter.widget-view+json": {
       "model_id": "d7dad733cc164761882e8d6a318a709b",
       "version_major": 2,
       "version_minor": 0
      },
      "text/plain": [
       "Saving the dataset (0/1 shards):   0%|          | 0/1500 [00:00<?, ? examples/s]"
      ]
     },
     "metadata": {},
     "output_type": "display_data"
    },
    {
     "data": {
      "application/vnd.jupyter.widget-view+json": {
       "model_id": "ec51518327b04358b620c87910f8ff97",
       "version_major": 2,
       "version_minor": 0
      },
      "text/plain": [
       "Saving the dataset (0/1 shards):   0%|          | 0/1500 [00:00<?, ? examples/s]"
      ]
     },
     "metadata": {},
     "output_type": "display_data"
    },
    {
     "name": "stdout",
     "output_type": "stream",
     "text": [
      "centroids distance: 0.00031675157\n",
      "======================================\n",
      "======================================\n",
      "ITER: 8\n",
      "retained objects num before: 18957\n",
      "retained objects num after: 18957\n"
     ]
    },
    {
     "name": "stderr",
     "output_type": "stream",
     "text": [
      "1it [00:02,  2.27s/it]\n"
     ]
    },
    {
     "data": {
      "image/png": "[encoded data removed]",
      "text/plain": [
       "<Figure size 640x480 with 1 Axes>"
      ]
     },
     "metadata": {},
     "output_type": "display_data"
    },
    {
     "data": {
      "application/vnd.jupyter.widget-view+json": {
       "model_id": "8fb6adb9874d455dafc75850ad2ac571",
       "version_major": 2,
       "version_minor": 0
      },
      "text/plain": [
       "Saving the dataset (0/1 shards):   0%|          | 0/18957 [00:00<?, ? examples/s]"
      ]
     },
     "metadata": {},
     "output_type": "display_data"
    },
    {
     "data": {
      "application/vnd.jupyter.widget-view+json": {
       "model_id": "8314bb63d9684c81bdaadd9387af3681",
       "version_major": 2,
       "version_minor": 0
      },
      "text/plain": [
       "Saving the dataset (0/1 shards):   0%|          | 0/1500 [00:00<?, ? examples/s]"
      ]
     },
     "metadata": {},
     "output_type": "display_data"
    },
    {
     "data": {
      "application/vnd.jupyter.widget-view+json": {
       "model_id": "393c2f4cd6bf43ff8e65c0926e4a267f",
       "version_major": 2,
       "version_minor": 0
      },
      "text/plain": [
       "Saving the dataset (0/1 shards):   0%|          | 0/1500 [00:00<?, ? examples/s]"
      ]
     },
     "metadata": {},
     "output_type": "display_data"
    },
    {
     "name": "stdout",
     "output_type": "stream",
     "text": [
      "centroids distance: 0.0\n",
      "======================================\n"
     ]
    }
   ],
   "source": [
    "train_features = text_embeddings\n",
    "train_labels = np.zeros(len(train_features))\n",
    "eval_features = text_embeddings\n",
    "\n",
    "centroids, centroids_mask = compute_centroids(train_features, train_labels)\n",
    "sigma_inv = compute_inv_covariance(centroids, train_features, train_labels)[0]\n",
    "dists = mahalanobis_distance_with_known_centroids_sigma_inv(centroids, centroids_mask, sigma_inv, eval_features).squeeze().numpy()\n",
    "\n",
    "sns.histplot(dists, bins=50).set(title='ITER: 0 (original data)')\n",
    "plt.show()\n",
    "\n",
    "retained_objects = np.ones(train_features.shape[0], dtype=np.bool)\n",
    "\n",
    "# save original dataset\n",
    "filtered_data = deepcopy(raw_data)\n",
    "filtered_data['train'] = Dataset.from_pandas(df[retained_objects])\n",
    "filtered_data.save_to_disk(f\"filtered_data/{dataset_name}_MD_{quantile}/iter_0.hf\")\n",
    "\n",
    "THRESHOLD = np.quantile(dists, quantile)\n",
    "print(\"ITER:\", 0)\n",
    "print('initial THRESHOLD:', THRESHOLD)\n",
    "print('retained objects num:', retained_objects.sum().item())\n",
    "\n",
    "for i in range(1, MAX_ITER):\n",
    "    print('======================================')\n",
    "    print(\"ITER:\", i)\n",
    "    print('retained objects num before:', retained_objects.sum().item())\n",
    "    retained_objects[retained_objects == 1] = (retained_objects[retained_objects == 1] * \\\n",
    "                                              (dists < THRESHOLD))\n",
    "    print('retained objects num after:', retained_objects.sum().item())\n",
    "    \n",
    "    train_features = text_embeddings[retained_objects]\n",
    "    train_labels = torch.zeros(len(train_features))\n",
    "    eval_features = text_embeddings[retained_objects]\n",
    "    new_centroids, new_centroids_mask = compute_centroids(train_features, train_labels)\n",
    "    new_sigma_inv = compute_inv_covariance(new_centroids, train_features, train_labels)[0]\n",
    "    dists = mahalanobis_distance_with_known_centroids_sigma_inv(new_centroids, new_centroids_mask, new_sigma_inv, eval_features).squeeze().numpy()\n",
    "    # THRESHOLD = np.quantile(dists, quantile)\n",
    "    # print('THRESHOLD:', THRESHOLD)\n",
    "    sns.histplot(dists, bins=50).set(title='ITER: %i' % (i))\n",
    "    plt.show()\n",
    "\n",
    "    # save semi-filtered dataset\n",
    "    filtered_data = deepcopy(raw_data)\n",
    "    filtered_data['train'] = Dataset.from_pandas(df[retained_objects])\n",
    "    filtered_data.save_to_disk(f\"filtered_data/{dataset_name}_MD_{quantile}/iter_{i}.hf\")\n",
    "\n",
    "    centroids_diff = np.linalg.norm(new_centroids - centroids)\n",
    "    \n",
    "    centroids = new_centroids\n",
    "    centroids_mask = new_centroids_mask\n",
    "    sigma_inv = new_sigma_inv\n",
    "    \n",
    "    print('centroids distance:', centroids_diff)\n",
    "    print('======================================')\n",
    "    \n",
    "    if centroids_diff < EPS:\n",
    "        break"
   ]
  },
  {
   "cell_type": "code",
   "execution_count": 41,
   "id": "XVHwfckYzQSO",
   "metadata": {
    "colab": {
     "base_uri": "https://localhost:8080/",
     "height": 1000
    },
    "id": "XVHwfckYzQSO",
    "outputId": "712a5fa2-d1cc-4a51-e428-f4106bf574b6"
   },
   "outputs": [],
   "source": [
    "# retained_objects = np.ones(len(df), dtype=bool)\n",
    "\n",
    "# train_features = text_embeddings[retained_objects]\n",
    "# train_labels = np.zeros(np.sum(retained_objects))\n",
    "# eval_features = text_embeddings[retained_objects]\n",
    "\n",
    "# centroids, centroids_mask = compute_centroids(train_features, train_labels)\n",
    "# sigma_inv = compute_inv_covariance(centroids, train_features, train_labels)\n",
    "\n",
    "# for i in range(MAX_ITER):\n",
    "#     print('======================================')\n",
    "#     print(\"ITER:\", i)\n",
    "#     print('======================================')\n",
    "\n",
    "#     retained_dists = mahalanobis_distance_with_known_centroids_sigma_inv(centroids, centroids_mask, sigma_inv, eval_features)\n",
    "\n",
    "#     sns.histplot(retained_dists, bins=50)\n",
    "#     plt.show()\n",
    "\n",
    "# #     print(retained_objects.sum())\n",
    "# #     print('retained_objects.shape:', retained_objects.shape)\n",
    "# #     print('dists.shape:', dists.shape)\n",
    "#     print('retained objects num before:', retained_objects.sum())\n",
    "#     retained_objects[retained_objects == 1] = retained_objects[retained_objects == 1] * (retained_dists < THRESHOLD)\n",
    "#     print('retained objects num after:', retained_objects.sum())\n",
    "\n",
    " \n",
    "#     # cur_dists = mahalanobis_distance(text_embeddings[retained_objects],\n",
    "#     #                                  np.zeros(np.sum(retained_objects)),\n",
    "#     #                                  text_embeddings[retained_objects])\n",
    "    \n",
    "#     train_features = text_embeddings[retained_objects]\n",
    "#     train_labels = np.zeros(np.sum(retained_objects))\n",
    "#     eval_features = text_embeddings[retained_objects]\n",
    "\n",
    "#     new_centroids, new_centroids_mask = compute_centroids(train_features, train_labels)\n",
    "#     sigma_inv = compute_inv_covariance(new_centroids, train_features, train_labels)\n",
    "\n",
    "#     centroids_diff_norm = np.linalg.norm(new_centroids - centroids)\n",
    "#     print('centroids_diff_norm:', centroids_diff_norm)\n",
    "#     if centroids_diff_norm < EPS:\n",
    "#         break\n",
    "    \n",
    "#     centroids = new_centroids\n",
    "#     centroids_mask = new_centroids_mask"
   ]
  },
  {
   "cell_type": "code",
   "execution_count": 42,
   "id": "9b3f641b-a525-4405-9786-c4b6263e0792",
   "metadata": {},
   "outputs": [
    {
     "data": {
      "text/plain": [
       "DatasetDict({\n",
       "    train: Dataset({\n",
       "        features: ['text', 'summary', '__index_level_0__'],\n",
       "        num_rows: 18957\n",
       "    })\n",
       "    validation: Dataset({\n",
       "        features: ['text', 'summary', 'id', '__index_level_0__'],\n",
       "        num_rows: 1500\n",
       "    })\n",
       "    test: Dataset({\n",
       "        features: ['text', 'summary', 'id', '__index_level_0__'],\n",
       "        num_rows: 1500\n",
       "    })\n",
       "})"
      ]
     },
     "execution_count": 42,
     "metadata": {},
     "output_type": "execute_result"
    }
   ],
   "source": [
    "filtered_data"
   ]
  },
  {
   "cell_type": "code",
   "execution_count": 37,
   "id": "0c21b40d",
   "metadata": {
    "colab": {
     "base_uri": "https://localhost:8080/"
    },
    "id": "0c21b40d",
    "outputId": "cf5e0a5e-071a-4885-b0ad-116bd2c7c3ea"
   },
   "outputs": [],
   "source": [
    "# from datasets import DatasetDict, Dataset\n",
    "# from copy import deepcopy\n",
    "\n",
    "# filtered_data = deepcopy(raw_data)\n",
    "# filtered_data['train'] = Dataset.from_pandas(df[retained_objects])\n",
    "# filtered_data"
   ]
  },
  {
   "cell_type": "code",
   "execution_count": 26,
   "id": "48ae9ef4",
   "metadata": {
    "colab": {
     "base_uri": "https://localhost:8080/",
     "height": 16,
     "referenced_widgets": [
      "dceed6968c71461c886a25a7cc5a09ba",
      "111be15fa67c46d5bbbc1ca53ced3228",
      "cc9377f6ad9345aba23e13efa6a611d2",
      "d730a586ccb44af4a6d1c71ab33b4c03",
      "f2113a2684e04fbf87b98176446f802b",
      "bf10eb81ec564578a20f1cf06207d49a",
      "50dd2b3160a44562939f54e27417e7b4",
      "dbb5e442187f4f21a68ba86c9b848214",
      "1a5f9826268d450f9250727a441d48f7",
      "82f690055d5a48d9aa11afb3238de99e",
      "98cb63cfcf1e4378b3114354e7bf9653",
      "771fd704e5904e738b7e61ef24e23b89",
      "2c6c6bf4c64d408389bc870dc142c318",
      "65ba4bf183d746d78d2ba7fffd252a71",
      "821f1da9c81a4c0293d4ca380dd3e5ca",
      "7e884c0cf02547d2bb4577fe7cf83bd4",
      "1c1b8b1f7c3344a88ff7591f4ba6f8ad",
      "ccbc26a7240e4ab28479f80f59b2abaf",
      "674c7549dd6d47b6895269594e4dd54f",
      "21ebf6a0e6f0462093c2e75192c51ad6",
      "7f33253c56f34355bfc171da453a37cf",
      "fd86af7beb2548a3b94480e0284007d9",
      "02a35c03ca454438bba1828ae78cb21a",
      "a1517f751db443828b005c05d379e168",
      "e0cecd15f12b4e0ebff02186ad8e62e8",
      "573841ca6b4d4d87b2cc67105a4c6077",
      "6d0e0f096e6448a0b475d2fc49db9407",
      "b8b7cbf30f9542258352be00b61aad01",
      "0f6bbb267f0f49f38b1568350d880153",
      "ba32896e6ae84ad3bb914c13d2081ca1",
      "0847667b589d4ee882b5b65a6af51d82",
      "e2b19480ff274b1ab41704388e792042",
      "a9212ec83ccf4cd69f2396de13a0018c"
     ]
    },
    "id": "48ae9ef4",
    "outputId": "24f0e22a-51f6-4553-e570-22a79e9158f1"
   },
   "outputs": [],
   "source": [
    "# # save filtered data to disk\n",
    "\n",
    "# filtered_data.save_to_disk(dataset_name + \"_filtered_data.hf\")"
   ]
  },
  {
   "cell_type": "code",
   "execution_count": 35,
   "id": "3adc3d0a-ae13-46d8-b8a2-52b82bfb0978",
   "metadata": {},
   "outputs": [],
   "source": [
    "# from datasets import DatasetDict, Dataset\n",
    "# from copy import deepcopy\n",
    "\n",
    "# filtered_data.save_to_disk(dataset_name + \"_filtered_data.hf\")\n",
    "# filtered_data = deepcopy(raw_data)\n",
    "# filtered_data['train'] = Dataset.from_pandas(df[retained_objects])\n",
    "# filtered_data"
   ]
  },
  {
   "cell_type": "markdown",
   "id": "83e7f6f1-bfb8-42f9-8832-8b4695f7b231",
   "metadata": {},
   "source": [
    "# Loss Filtration"
   ]
  },
  {
   "cell_type": "markdown",
   "id": "44bb1f3d-1eb1-477b-8cc9-0e1f194995c4",
   "metadata": {},
   "source": [
    "1. Загружаем из чекпоинта предобученную модель, которую файн-тюнили на суммаризацию на нешем датасете;\n",
    "2. Считаем лосс на всех объектах (видимо, только в трейне);\n",
    "3. Выкидывает high loss objects;\n",
    "4. Переучиваем, измеряем качество."
   ]
  },
  {
   "cell_type": "code",
   "execution_count": 5,
   "id": "8aa07b82-2594-4c62-926b-daabd866b44e",
   "metadata": {},
   "outputs": [],
   "source": [
    "if dataset_name == \"aeslc\":\n",
    "    checkpoint_name = \"sohamchougule/bart-large-finetuned-aeslc\"\n",
    "elif dataset_name in (\"xsum\", \"xsum_sample\"):\n",
    "    checkpoint_name = \"facebook/bart-large-xsum\"\n",
    "else:\n",
    "    raise NotImplementedError('Unknown dataset')"
   ]
  },
  {
   "cell_type": "code",
   "execution_count": 6,
   "id": "7ef1d991-4abf-4f79-b6ed-f14cb47ded80",
   "metadata": {},
   "outputs": [],
   "source": [
    "from transformers import AutoTokenizer, AutoModelForSeq2SeqLM, Seq2SeqTrainingArguments, Seq2SeqTrainer\n",
    "\n",
    "tokenizer = AutoTokenizer.from_pretrained(checkpoint_name)\n",
    "# tokenizer = AutoTokenizer.from_pretrained('facebook/bart-large')\n",
    "# tokenizer = AutoTokenizer.from_pretrained(\"facebook/bart-large-xsum\")\n"
   ]
  },
  {
   "cell_type": "code",
   "execution_count": null,
   "id": "a84d447e-87a9-4b34-8474-35056e603fbe",
   "metadata": {},
   "outputs": [],
   "source": [
    "model = AutoModelForSeq2SeqLM.from_pretrained(checkpoint_name)\n",
    "\n",
    "torch.cuda.empty_cache()\n",
    "if torch.cuda.is_available():\n",
    "    device = torch.device(\"cuda\")\n",
    "else:\n",
    "    device = torch.device(\"cpu\")\n",
    "model.to(device)\n",
    "print()"
   ]
  },
  {
   "cell_type": "code",
   "execution_count": 7,
   "id": "2fac817b-bd1f-4457-afb7-bd2ae9594b49",
   "metadata": {},
   "outputs": [],
   "source": [
    "def preprocess_function(examples):\n",
    "    if 't5' in checkpoint_name.split('/')[-1].split('-'):\n",
    "        prefix = \"summarize: \"\n",
    "    else:\n",
    "        prefix = ''\n",
    "    \n",
    "    inputs = [prefix + doc for doc in examples[\"text\"]]\n",
    "    model_inputs = tokenizer(inputs, max_length=1024, truncation=True, padding='max_length', return_tensors='pt')\n",
    "    labels = tokenizer(text_target=examples[\"summary\"], max_length=128, truncation=True, padding='max_length', return_tensors='pt')\n",
    "    model_inputs[\"labels\"] = labels[\"input_ids\"]\n",
    "    # model_inputs = {key:value.to(device) for key, value in model_inputs.items()}  # положили на девайс\n",
    "    return model_inputs"
   ]
  },
  {
   "cell_type": "code",
   "execution_count": 8,
   "id": "b31ef177-ca8c-4bba-ab56-83bd76d1115b",
   "metadata": {},
   "outputs": [
    {
     "data": {
      "application/vnd.jupyter.widget-view+json": {
       "model_id": "21ec0845bb354daa9d66cec957ba7eb5",
       "version_major": 2,
       "version_minor": 0
      },
      "text/plain": [
       "Map:   0%|          | 0/20000 [00:00<?, ? examples/s]"
      ]
     },
     "metadata": {},
     "output_type": "display_data"
    }
   ],
   "source": [
    "tokenized_data = raw_data['train'].map(preprocess_function, batched=True)"
   ]
  },
  {
   "cell_type": "code",
   "execution_count": 18,
   "id": "3beb3f2c-e4d2-4e5b-8736-6f6e71de866d",
   "metadata": {},
   "outputs": [
    {
     "name": "stderr",
     "output_type": "stream",
     "text": [
      "100%|██████████| 14436/14436 [16:10<00:00, 14.87it/s]\n"
     ]
    }
   ],
   "source": [
    "from tqdm import tqdm\n",
    "\n",
    "losses = []\n",
    "\n",
    "for elem in tqdm(tokenized_data):\n",
    "    loss = model(torch.Tensor(elem['input_ids']).to(torch.long).to(device).unsqueeze(0),\n",
    "                 torch.Tensor(elem['attention_mask']).to(torch.long).to(device).unsqueeze(0),\n",
    "                 labels=torch.Tensor(elem['labels']).to(torch.long).to(device).unsqueeze(0)).loss\n",
    "    losses.append(loss.item())"
   ]
  },
  {
   "cell_type": "code",
   "execution_count": 19,
   "id": "19d03ba6",
   "metadata": {},
   "outputs": [],
   "source": [
    "# torch.save(losses, f\"losses/{dataset_name}_losses.pt\")"
   ]
  },
  {
   "cell_type": "markdown",
   "id": "5d55d83c-3dc0-4f6f-a12b-4523583e2905",
   "metadata": {},
   "source": [
    "### Load losses"
   ]
  },
  {
   "cell_type": "code",
   "execution_count": 26,
   "id": "24b7680e",
   "metadata": {},
   "outputs": [],
   "source": [
    "losses = torch.load(f\"losses/{dataset_name}_losses.pt\")"
   ]
  },
  {
   "cell_type": "code",
   "execution_count": 27,
   "id": "08c60430-b7ef-4370-a2d1-1d6d66f34aee",
   "metadata": {},
   "outputs": [],
   "source": [
    "from copy import deepcopy\n",
    "\n",
    "quantile = 0.99\n",
    "\n",
    "losses = np.array(losses)\n",
    "selected_inds = np.arange(tokenized_data.num_rows)[losses < np.quantile(losses, quantile)]\n",
    "# tokenized_data = tokenized_data['train'][selected_inds]\n",
    "filtered_data = deepcopy(raw_data)\n",
    "filtered_data['train'] = Dataset.from_dict({'text' : tokenized_data[selected_inds]['text'],\n",
    "                                            'summary' : tokenized_data[selected_inds]['summary']})"
   ]
  },
  {
   "cell_type": "code",
   "execution_count": 28,
   "id": "67a4c42c-f6b5-434d-8e20-17578f734ad8",
   "metadata": {},
   "outputs": [
    {
     "name": "stdout",
     "output_type": "stream",
     "text": [
      "19800\n"
     ]
    }
   ],
   "source": [
    "print(len(selected_inds))"
   ]
  },
  {
   "cell_type": "code",
   "execution_count": 29,
   "id": "db53d1c9-b3f9-472d-8b26-2d96eed20413",
   "metadata": {},
   "outputs": [
    {
     "data": {
      "text/plain": [
       "DatasetDict({\n",
       "    train: Dataset({\n",
       "        features: ['text', 'summary'],\n",
       "        num_rows: 19800\n",
       "    })\n",
       "    validation: Dataset({\n",
       "        features: ['text', 'summary', 'id', '__index_level_0__'],\n",
       "        num_rows: 1500\n",
       "    })\n",
       "    test: Dataset({\n",
       "        features: ['text', 'summary', 'id', '__index_level_0__'],\n",
       "        num_rows: 1500\n",
       "    })\n",
       "})"
      ]
     },
     "execution_count": 29,
     "metadata": {},
     "output_type": "execute_result"
    }
   ],
   "source": [
    "filtered_data"
   ]
  },
  {
   "cell_type": "code",
   "execution_count": 30,
   "id": "f596dc14-3929-499a-aac3-19127b128b25",
   "metadata": {},
   "outputs": [
    {
     "data": {
      "application/vnd.jupyter.widget-view+json": {
       "model_id": "2699314c8b7649058e42a55427bb889d",
       "version_major": 2,
       "version_minor": 0
      },
      "text/plain": [
       "Saving the dataset (0/1 shards):   0%|          | 0/19800 [00:00<?, ? examples/s]"
      ]
     },
     "metadata": {},
     "output_type": "display_data"
    },
    {
     "data": {
      "application/vnd.jupyter.widget-view+json": {
       "model_id": "f8390dc2907546bd94e5ba3a3ff0ef8d",
       "version_major": 2,
       "version_minor": 0
      },
      "text/plain": [
       "Saving the dataset (0/1 shards):   0%|          | 0/1500 [00:00<?, ? examples/s]"
      ]
     },
     "metadata": {},
     "output_type": "display_data"
    },
    {
     "data": {
      "application/vnd.jupyter.widget-view+json": {
       "model_id": "f7d132cbd9a4420eadb721ced7791cad",
       "version_major": 2,
       "version_minor": 0
      },
      "text/plain": [
       "Saving the dataset (0/1 shards):   0%|          | 0/1500 [00:00<?, ? examples/s]"
      ]
     },
     "metadata": {},
     "output_type": "display_data"
    }
   ],
   "source": [
    "# save filtered dataset\n",
    "filtered_data.save_to_disk(f\"filtered_data/{dataset_name}_LOSS_{quantile}.hf\")"
   ]
  },
  {
   "cell_type": "markdown",
   "id": "0d393b8b-20c8-4df1-a484-8840c27a5506",
   "metadata": {},
   "source": [
    "#### Examine far texts"
   ]
  },
  {
   "cell_type": "code",
   "execution_count": 33,
   "id": "1fc5501d-447a-410b-aa69-b8be4ae5eeb9",
   "metadata": {},
   "outputs": [],
   "source": [
    "selected_inds = np.arange(tokenized_data.num_rows)[losses > np.quantile(losses, 0.99)]\n",
    "tokenized_data[selected_inds]['text']"
   ]
  },
  {
   "cell_type": "markdown",
   "id": "b97681e4",
   "metadata": {
    "id": "b97681e4"
   },
   "source": [
    "# Fine-tuning for summarization task"
   ]
  },
  {
   "cell_type": "markdown",
   "id": "bJXXNG3bxodl",
   "metadata": {
    "id": "bJXXNG3bxodl"
   },
   "source": [
    "Предполагаемый пайплайн:\n",
    "1. AESLC BERT (берт, unsupervised (на MLM task) дообученный на AESLC) --> эмбеддинги входных текстов (видимо, как усреденные пословные)\n",
    "2. На полученных примерах считаем центроиды и ков. матрицу\n",
    "3. Считаем расстояние Махаланобиса от центроидов \n",
    "4. Откидываем далекие примеры по трешхолду\n",
    "5. Пересчитываем центроиды и ков. матрицу\n",
    "6. Повторяем 2-6, пока центроиды меняются\n",
    "7. Переучивыем модель для суммаризации на данных без выбросов и замеряем качество"
   ]
  },
  {
   "cell_type": "code",
   "execution_count": 6,
   "id": "-2UyXLLgmOVm",
   "metadata": {
    "id": "-2UyXLLgmOVm"
   },
   "outputs": [],
   "source": [
    "# checkpoint_name = \"facebook/bart-base\"\n",
    "checkpoint_name = \"t5-small\""
   ]
  },
  {
   "cell_type": "markdown",
   "id": "1d132b2c",
   "metadata": {
    "id": "1d132b2c",
    "tags": []
   },
   "source": [
    "## Preprocess"
   ]
  },
  {
   "cell_type": "code",
   "execution_count": 7,
   "id": "b2fbcbf6",
   "metadata": {
    "id": "b2fbcbf6"
   },
   "outputs": [],
   "source": [
    "from transformers import AutoTokenizer\n",
    "\n",
    "tokenizer = AutoTokenizer.from_pretrained(checkpoint_name)"
   ]
  },
  {
   "cell_type": "code",
   "execution_count": 8,
   "id": "d23367d4",
   "metadata": {
    "colab": {
     "base_uri": "https://localhost:8080/",
     "height": 429
    },
    "id": "d23367d4",
    "outputId": "6b17988f-563f-4c9d-bfb2-a49781b41649"
   },
   "outputs": [
    {
     "data": {
      "image/png": "[encoded data removed]",
      "text/plain": [
       "<Figure size 640x480 with 1 Axes>"
      ]
     },
     "metadata": {},
     "output_type": "display_data"
    }
   ],
   "source": [
    "import seaborn as sns\n",
    "import matplotlib.pyplot as plt\n",
    "\n",
    "lens = list(map(len, raw_data['train']['text']))\n",
    "\n",
    "sns.histplot(lens)\n",
    "plt.show()"
   ]
  },
  {
   "cell_type": "markdown",
   "id": "ee714138",
   "metadata": {
    "id": "ee714138"
   },
   "source": [
    "длины < 5000 --> max_length=1024 норм для токенайзера"
   ]
  },
  {
   "cell_type": "code",
   "execution_count": 9,
   "id": "9e40fca4",
   "metadata": {
    "colab": {
     "base_uri": "https://localhost:8080/",
     "height": 429
    },
    "id": "9e40fca4",
    "outputId": "c01635d0-c7aa-4751-9196-104ae9435652"
   },
   "outputs": [],
   "source": [
    "# lens = list(map(len, raw_data['train']['summary']))\n",
    "\n",
    "# sns.histplot(lens)\n",
    "# plt.show()"
   ]
  },
  {
   "cell_type": "code",
   "execution_count": 10,
   "id": "28174ae5",
   "metadata": {
    "id": "28174ae5"
   },
   "outputs": [],
   "source": [
    "def preprocess_function(examples):\n",
    "    if checkpoint_name.split('/')[-1].split('-')[0] == 't5':\n",
    "        prefix = \"summarize: \"\n",
    "    else:\n",
    "        prefix = ''\n",
    "    \n",
    "    inputs = [prefix + doc for doc in examples[\"text\"]]\n",
    "    model_inputs = tokenizer(inputs, max_length=1024, truncation=True, padding='max_length')\n",
    "\n",
    "    labels = tokenizer(text_target=examples[\"summary\"], max_length=128, truncation=True, padding='max_length')\n",
    "\n",
    "    model_inputs[\"labels\"] = labels[\"input_ids\"]\n",
    "    return model_inputs"
   ]
  },
  {
   "cell_type": "code",
   "execution_count": 11,
   "id": "3ec20326-9180-4610-b3ed-f774861feccb",
   "metadata": {
    "id": "3ec20326-9180-4610-b3ed-f774861feccb"
   },
   "outputs": [],
   "source": [
    "import os\n",
    "os.environ[\"TOKENIZERS_PARALLELISM\"] = \"false\""
   ]
  },
  {
   "cell_type": "code",
   "execution_count": 12,
   "id": "bca38042",
   "metadata": {
    "colab": {
     "base_uri": "https://localhost:8080/",
     "height": 69,
     "referenced_widgets": [
      "5655b70d10be485cb71c1aa8d6ea5512",
      "3f620499b7444dc8a3183309682dba11",
      "e9ded60add654b44b15e370ba659a2bb",
      "4079db89c4ee45fd81b71071d208ded5",
      "b4a8ec1a7e354b3380b93be76909994c",
      "5ed9ffbbebdf4900a4e0d4293d9ef8db",
      "a6df9083c2374834a2d27057bb5ed162",
      "9e2c10afa9fb44688ae94deadc1d6a49",
      "cb8c616f6cce451481b65c90a26d6180",
      "c9c8b7ac620c4d92a97bd258883bcc99",
      "f2bf1b7045b0430cb49eac280c850dcc"
     ]
    },
    "id": "bca38042",
    "outputId": "bc6f17a0-1735-43d3-944a-7ef499a02845"
   },
   "outputs": [
    {
     "data": {
      "application/vnd.jupyter.widget-view+json": {
       "model_id": "c8150f69c5884ba89a404747c1028428",
       "version_major": 2,
       "version_minor": 0
      },
      "text/plain": [
       "Map:   0%|          | 0/14436 [00:00<?, ? examples/s]"
      ]
     },
     "metadata": {},
     "output_type": "display_data"
    },
    {
     "data": {
      "application/vnd.jupyter.widget-view+json": {
       "model_id": "71693b33c8104c699765edf3f81b1fa3",
       "version_major": 2,
       "version_minor": 0
      },
      "text/plain": [
       "Map:   0%|          | 0/1960 [00:00<?, ? examples/s]"
      ]
     },
     "metadata": {},
     "output_type": "display_data"
    },
    {
     "data": {
      "application/vnd.jupyter.widget-view+json": {
       "model_id": "994a68fc7a174182b5258237ea1c4f53",
       "version_major": 2,
       "version_minor": 0
      },
      "text/plain": [
       "Map:   0%|          | 0/1906 [00:00<?, ? examples/s]"
      ]
     },
     "metadata": {},
     "output_type": "display_data"
    }
   ],
   "source": [
    "tokenized_orig_data = raw_data.map(preprocess_function, batched=True)"
   ]
  },
  {
   "cell_type": "markdown",
   "id": "7ed80c86",
   "metadata": {
    "id": "7ed80c86",
    "tags": []
   },
   "source": [
    "## Metrics"
   ]
  },
  {
   "cell_type": "code",
   "execution_count": 13,
   "id": "4ecd1816",
   "metadata": {
    "id": "4ecd1816"
   },
   "outputs": [],
   "source": [
    "# ! pip install rouge_score --quiet"
   ]
  },
  {
   "cell_type": "code",
   "execution_count": 14,
   "id": "7bdf6cde",
   "metadata": {
    "id": "7bdf6cde",
    "scrolled": true
   },
   "outputs": [],
   "source": [
    "import evaluate\n",
    "\n",
    "rouge = evaluate.load(\"rouge\", cache_dir=CACHE_DIR_PATH)"
   ]
  },
  {
   "cell_type": "code",
   "execution_count": 15,
   "id": "6efbd66f",
   "metadata": {
    "id": "6efbd66f"
   },
   "outputs": [],
   "source": [
    "def compute_metrics(eval_pred):\n",
    "    predictions, labels = eval_pred\n",
    "    decoded_preds = tokenizer.batch_decode(predictions, skip_special_tokens=True)\n",
    "    labels = np.where(labels != -100, labels, tokenizer.pad_token_id)\n",
    "    decoded_labels = tokenizer.batch_decode(labels, skip_special_tokens=True)\n",
    "\n",
    "    result = rouge.compute(predictions=decoded_preds, references=decoded_labels, use_stemmer=True)\n",
    "\n",
    "    prediction_lens = [np.count_nonzero(pred != tokenizer.pad_token_id) for pred in predictions]\n",
    "    result[\"gen_len\"] = np.mean(prediction_lens)\n",
    "\n",
    "    return {k: round(v, 4) for k, v in result.items()}"
   ]
  },
  {
   "cell_type": "markdown",
   "id": "5bfef4c7",
   "metadata": {
    "id": "5bfef4c7",
    "tags": []
   },
   "source": [
    "## Original data"
   ]
  },
  {
   "cell_type": "code",
   "execution_count": 18,
   "id": "57836196-fa3a-49a4-9bf5-3630b25bdb54",
   "metadata": {},
   "outputs": [
    {
     "name": "stdout",
     "output_type": "stream",
     "text": [
      "W&B disabled.\n"
     ]
    }
   ],
   "source": [
    "! wandb disabled"
   ]
  },
  {
   "cell_type": "code",
   "execution_count": 19,
   "id": "Yw2TqdzjbI2D",
   "metadata": {
    "colab": {
     "base_uri": "https://localhost:8080/"
    },
    "id": "Yw2TqdzjbI2D",
    "outputId": "93905930-6f9b-493c-d400-c283cf87523b"
   },
   "outputs": [],
   "source": [
    "# ! pip install wandb --quiet"
   ]
  },
  {
   "cell_type": "code",
   "execution_count": 20,
   "id": "NlaNO-e1DYEy",
   "metadata": {
    "colab": {
     "base_uri": "https://localhost:8080/",
     "height": 447
    },
    "id": "NlaNO-e1DYEy",
    "outputId": "d7c2d9ed-8f5b-4c40-eb80-6a024f7ebc73"
   },
   "outputs": [
    {
     "name": "stderr",
     "output_type": "stream",
     "text": [
      "Failed to detect the name of this notebook, you can set it manually with the WANDB_NOTEBOOK_NAME environment variable to enable code saving.\n"
     ]
    },
    {
     "data": {
      "text/plain": []
     },
     "execution_count": 20,
     "metadata": {},
     "output_type": "execute_result"
    }
   ],
   "source": [
    "import wandb\n",
    "\n",
    "original_run_name = dataset_name + \"_original_\" + checkpoint_name\n",
    "\n",
    "wandb.login()\n",
    "wandb.init(project='noise-in-abs-sum',\n",
    "           name=original_run_name)"
   ]
  },
  {
   "cell_type": "code",
   "execution_count": 21,
   "id": "9aca373b",
   "metadata": {
    "id": "9aca373b"
   },
   "outputs": [],
   "source": [
    "from transformers import AutoModelForSeq2SeqLM, Seq2SeqTrainingArguments, Seq2SeqTrainer\n",
    "\n",
    "original_model = AutoModelForSeq2SeqLM.from_pretrained(checkpoint_name)"
   ]
  },
  {
   "cell_type": "code",
   "execution_count": 22,
   "id": "977d01d4",
   "metadata": {
    "id": "977d01d4"
   },
   "outputs": [],
   "source": [
    "from transformers import DataCollatorForSeq2Seq\n",
    "\n",
    "data_collator = DataCollatorForSeq2Seq(tokenizer=tokenizer, model=original_model)"
   ]
  },
  {
   "cell_type": "code",
   "execution_count": 23,
   "id": "30c78565",
   "metadata": {
    "id": "30c78565"
   },
   "outputs": [],
   "source": [
    "batch_size, eval_batch_size = 32, 64  # V100 config\n",
    "# batch_size, eval_batch_size = 8, 16  # colab / local config\n",
    "\n",
    "num_workers = 8\n",
    "\n",
    "training_args = Seq2SeqTrainingArguments(\n",
    "    output_dir=dataset_name + \"-original-\" + checkpoint_name,\n",
    "    evaluation_strategy=\"epoch\",\n",
    "    learning_rate=2e-5,\n",
    "    per_device_train_batch_size=batch_size,\n",
    "    per_device_eval_batch_size=eval_batch_size,\n",
    "    weight_decay=0.01,\n",
    "    save_total_limit=3,\n",
    "    num_train_epochs=4,\n",
    "    predict_with_generate=True,\n",
    "    fp16=True,\n",
    "    report_to=\"wandb\", \n",
    "    dataloader_num_workers=num_workers,\n",
    ")"
   ]
  },
  {
   "cell_type": "code",
   "execution_count": 24,
   "id": "27a0e224",
   "metadata": {
    "id": "27a0e224"
   },
   "outputs": [],
   "source": [
    "trainer = Seq2SeqTrainer(\n",
    "    model=original_model,\n",
    "    args=training_args,\n",
    "    train_dataset=tokenized_orig_data[\"train\"],\n",
    "    eval_dataset=tokenized_orig_data[\"validation\"],\n",
    "    tokenizer=tokenizer,\n",
    "    data_collator=data_collator,\n",
    "    compute_metrics=compute_metrics,\n",
    ")"
   ]
  },
  {
   "cell_type": "code",
   "execution_count": 25,
   "id": "5c8c6d53",
   "metadata": {
    "colab": {
     "base_uri": "https://localhost:8080/",
     "height": 704
    },
    "id": "5c8c6d53",
    "outputId": "3ba0bce2-466c-40e2-9f72-16e4c538afd8"
   },
   "outputs": [
    {
     "name": "stderr",
     "output_type": "stream",
     "text": [
      "You're using a T5TokenizerFast tokenizer. Please note that with a fast tokenizer, using the `__call__` method is faster than using a method to encode the text followed by a call to the `pad` method to get a padded encoding.\n",
      "You're using a T5TokenizerFast tokenizer. Please note that with a fast tokenizer, using the `__call__` method is faster than using a method to encode the text followed by a call to the `pad` method to get a padded encoding.\n",
      "You're using a T5TokenizerFast tokenizer. Please note that with a fast tokenizer, using the `__call__` method is faster than using a method to encode the text followed by a call to the `pad` method to get a padded encoding.\n",
      "You're using a T5TokenizerFast tokenizer. Please note that with a fast tokenizer, using the `__call__` method is faster than using a method to encode the text followed by a call to the `pad` method to get a padded encoding.\n",
      "You're using a T5TokenizerFast tokenizer. Please note that with a fast tokenizer, using the `__call__` method is faster than using a method to encode the text followed by a call to the `pad` method to get a padded encoding.\n",
      "You're using a T5TokenizerFast tokenizer. Please note that with a fast tokenizer, using the `__call__` method is faster than using a method to encode the text followed by a call to the `pad` method to get a padded encoding.\n",
      "You're using a T5TokenizerFast tokenizer. Please note that with a fast tokenizer, using the `__call__` method is faster than using a method to encode the text followed by a call to the `pad` method to get a padded encoding.\n",
      "You're using a T5TokenizerFast tokenizer. Please note that with a fast tokenizer, using the `__call__` method is faster than using a method to encode the text followed by a call to the `pad` method to get a padded encoding.\n"
     ]
    },
    {
     "data": {
      "text/html": [
       "\n",
       "    <div>\n",
       "      \n",
       "      <progress value='240' max='1808' style='width:300px; height:20px; vertical-align: middle;'></progress>\n",
       "      [ 240/1808 02:11 < 14:27, 1.81 it/s, Epoch 0.53/4]\n",
       "    </div>\n",
       "    <table border=\"1\" class=\"dataframe\">\n",
       "  <thead>\n",
       " <tr style=\"text-align: left;\">\n",
       "      <th>Epoch</th>\n",
       "      <th>Training Loss</th>\n",
       "      <th>Validation Loss</th>\n",
       "    </tr>\n",
       "  </thead>\n",
       "  <tbody>\n",
       "  </tbody>\n",
       "</table><p>"
      ],
      "text/plain": [
       "<IPython.core.display.HTML object>"
      ]
     },
     "metadata": {},
     "output_type": "display_data"
    },
    {
     "ename": "KeyboardInterrupt",
     "evalue": "",
     "output_type": "error",
     "traceback": [
      "\u001b[0;31m---------------------------------------------------------------------------\u001b[0m",
      "\u001b[0;31mKeyboardInterrupt\u001b[0m                         Traceback (most recent call last)",
      "Cell \u001b[0;32mIn[25], line 2\u001b[0m\n\u001b[1;32m      1\u001b[0m \u001b[38;5;66;03m# train_model(original_model)\u001b[39;00m\n\u001b[0;32m----> 2\u001b[0m trainer\u001b[38;5;241m.\u001b[39mtrain()\n",
      "File \u001b[0;32m~/anaconda3/envs/abs-sum/lib/python3.11/site-packages/transformers/trainer.py:1662\u001b[0m, in \u001b[0;36mTrainer.train\u001b[0;34m(self, resume_from_checkpoint, trial, ignore_keys_for_eval, **kwargs)\u001b[0m\n\u001b[1;32m   1657\u001b[0m     \u001b[38;5;28mself\u001b[39m\u001b[38;5;241m.\u001b[39mmodel_wrapped \u001b[38;5;241m=\u001b[39m \u001b[38;5;28mself\u001b[39m\u001b[38;5;241m.\u001b[39mmodel\n\u001b[1;32m   1659\u001b[0m inner_training_loop \u001b[38;5;241m=\u001b[39m find_executable_batch_size(\n\u001b[1;32m   1660\u001b[0m     \u001b[38;5;28mself\u001b[39m\u001b[38;5;241m.\u001b[39m_inner_training_loop, \u001b[38;5;28mself\u001b[39m\u001b[38;5;241m.\u001b[39m_train_batch_size, args\u001b[38;5;241m.\u001b[39mauto_find_batch_size\n\u001b[1;32m   1661\u001b[0m )\n\u001b[0;32m-> 1662\u001b[0m \u001b[38;5;28;01mreturn\u001b[39;00m inner_training_loop(\n\u001b[1;32m   1663\u001b[0m     args\u001b[38;5;241m=\u001b[39margs,\n\u001b[1;32m   1664\u001b[0m     resume_from_checkpoint\u001b[38;5;241m=\u001b[39mresume_from_checkpoint,\n\u001b[1;32m   1665\u001b[0m     trial\u001b[38;5;241m=\u001b[39mtrial,\n\u001b[1;32m   1666\u001b[0m     ignore_keys_for_eval\u001b[38;5;241m=\u001b[39mignore_keys_for_eval,\n\u001b[1;32m   1667\u001b[0m )\n",
      "File \u001b[0;32m~/anaconda3/envs/abs-sum/lib/python3.11/site-packages/transformers/trainer.py:1929\u001b[0m, in \u001b[0;36mTrainer._inner_training_loop\u001b[0;34m(self, batch_size, args, resume_from_checkpoint, trial, ignore_keys_for_eval)\u001b[0m\n\u001b[1;32m   1927\u001b[0m         tr_loss_step \u001b[38;5;241m=\u001b[39m \u001b[38;5;28mself\u001b[39m\u001b[38;5;241m.\u001b[39mtraining_step(model, inputs)\n\u001b[1;32m   1928\u001b[0m \u001b[38;5;28;01melse\u001b[39;00m:\n\u001b[0;32m-> 1929\u001b[0m     tr_loss_step \u001b[38;5;241m=\u001b[39m \u001b[38;5;28mself\u001b[39m\u001b[38;5;241m.\u001b[39mtraining_step(model, inputs)\n\u001b[1;32m   1931\u001b[0m \u001b[38;5;28;01mif\u001b[39;00m (\n\u001b[1;32m   1932\u001b[0m     args\u001b[38;5;241m.\u001b[39mlogging_nan_inf_filter\n\u001b[1;32m   1933\u001b[0m     \u001b[38;5;129;01mand\u001b[39;00m \u001b[38;5;129;01mnot\u001b[39;00m is_torch_tpu_available()\n\u001b[1;32m   1934\u001b[0m     \u001b[38;5;129;01mand\u001b[39;00m (torch\u001b[38;5;241m.\u001b[39misnan(tr_loss_step) \u001b[38;5;129;01mor\u001b[39;00m torch\u001b[38;5;241m.\u001b[39misinf(tr_loss_step))\n\u001b[1;32m   1935\u001b[0m ):\n\u001b[1;32m   1936\u001b[0m     \u001b[38;5;66;03m# if loss is nan or inf simply add the average of previous logged losses\u001b[39;00m\n\u001b[1;32m   1937\u001b[0m     tr_loss \u001b[38;5;241m+\u001b[39m\u001b[38;5;241m=\u001b[39m tr_loss \u001b[38;5;241m/\u001b[39m (\u001b[38;5;241m1\u001b[39m \u001b[38;5;241m+\u001b[39m \u001b[38;5;28mself\u001b[39m\u001b[38;5;241m.\u001b[39mstate\u001b[38;5;241m.\u001b[39mglobal_step \u001b[38;5;241m-\u001b[39m \u001b[38;5;28mself\u001b[39m\u001b[38;5;241m.\u001b[39m_globalstep_last_logged)\n",
      "File \u001b[0;32m~/anaconda3/envs/abs-sum/lib/python3.11/site-packages/transformers/trainer.py:2709\u001b[0m, in \u001b[0;36mTrainer.training_step\u001b[0;34m(self, model, inputs)\u001b[0m\n\u001b[1;32m   2706\u001b[0m     loss \u001b[38;5;241m=\u001b[39m loss \u001b[38;5;241m/\u001b[39m \u001b[38;5;28mself\u001b[39m\u001b[38;5;241m.\u001b[39margs\u001b[38;5;241m.\u001b[39mgradient_accumulation_steps\n\u001b[1;32m   2708\u001b[0m \u001b[38;5;28;01mif\u001b[39;00m \u001b[38;5;28mself\u001b[39m\u001b[38;5;241m.\u001b[39mdo_grad_scaling:\n\u001b[0;32m-> 2709\u001b[0m     \u001b[38;5;28mself\u001b[39m\u001b[38;5;241m.\u001b[39mscaler\u001b[38;5;241m.\u001b[39mscale(loss)\u001b[38;5;241m.\u001b[39mbackward()\n\u001b[1;32m   2710\u001b[0m \u001b[38;5;28;01melif\u001b[39;00m \u001b[38;5;28mself\u001b[39m\u001b[38;5;241m.\u001b[39muse_apex:\n\u001b[1;32m   2711\u001b[0m     \u001b[38;5;28;01mwith\u001b[39;00m amp\u001b[38;5;241m.\u001b[39mscale_loss(loss, \u001b[38;5;28mself\u001b[39m\u001b[38;5;241m.\u001b[39moptimizer) \u001b[38;5;28;01mas\u001b[39;00m scaled_loss:\n",
      "File \u001b[0;32m~/anaconda3/envs/abs-sum/lib/python3.11/site-packages/torch/_tensor.py:487\u001b[0m, in \u001b[0;36mTensor.backward\u001b[0;34m(self, gradient, retain_graph, create_graph, inputs)\u001b[0m\n\u001b[1;32m    477\u001b[0m \u001b[38;5;28;01mif\u001b[39;00m has_torch_function_unary(\u001b[38;5;28mself\u001b[39m):\n\u001b[1;32m    478\u001b[0m     \u001b[38;5;28;01mreturn\u001b[39;00m handle_torch_function(\n\u001b[1;32m    479\u001b[0m         Tensor\u001b[38;5;241m.\u001b[39mbackward,\n\u001b[1;32m    480\u001b[0m         (\u001b[38;5;28mself\u001b[39m,),\n\u001b[0;32m   (...)\u001b[0m\n\u001b[1;32m    485\u001b[0m         inputs\u001b[38;5;241m=\u001b[39minputs,\n\u001b[1;32m    486\u001b[0m     )\n\u001b[0;32m--> 487\u001b[0m torch\u001b[38;5;241m.\u001b[39mautograd\u001b[38;5;241m.\u001b[39mbackward(\n\u001b[1;32m    488\u001b[0m     \u001b[38;5;28mself\u001b[39m, gradient, retain_graph, create_graph, inputs\u001b[38;5;241m=\u001b[39minputs\n\u001b[1;32m    489\u001b[0m )\n",
      "File \u001b[0;32m~/anaconda3/envs/abs-sum/lib/python3.11/site-packages/torch/autograd/__init__.py:200\u001b[0m, in \u001b[0;36mbackward\u001b[0;34m(tensors, grad_tensors, retain_graph, create_graph, grad_variables, inputs)\u001b[0m\n\u001b[1;32m    195\u001b[0m     retain_graph \u001b[38;5;241m=\u001b[39m create_graph\n\u001b[1;32m    197\u001b[0m \u001b[38;5;66;03m# The reason we repeat same the comment below is that\u001b[39;00m\n\u001b[1;32m    198\u001b[0m \u001b[38;5;66;03m# some Python versions print out the first line of a multi-line function\u001b[39;00m\n\u001b[1;32m    199\u001b[0m \u001b[38;5;66;03m# calls in the traceback and some print out the last line\u001b[39;00m\n\u001b[0;32m--> 200\u001b[0m Variable\u001b[38;5;241m.\u001b[39m_execution_engine\u001b[38;5;241m.\u001b[39mrun_backward(  \u001b[38;5;66;03m# Calls into the C++ engine to run the backward pass\u001b[39;00m\n\u001b[1;32m    201\u001b[0m     tensors, grad_tensors_, retain_graph, create_graph, inputs,\n\u001b[1;32m    202\u001b[0m     allow_unreachable\u001b[38;5;241m=\u001b[39m\u001b[38;5;28;01mTrue\u001b[39;00m, accumulate_grad\u001b[38;5;241m=\u001b[39m\u001b[38;5;28;01mTrue\u001b[39;00m)\n",
      "\u001b[0;31mKeyboardInterrupt\u001b[0m: "
     ]
    }
   ],
   "source": [
    "# train_model(original_model)\n",
    "trainer.train()"
   ]
  },
  {
   "cell_type": "code",
   "execution_count": null,
   "id": "-IemID21C5Mh",
   "metadata": {
    "colab": {
     "base_uri": "https://localhost:8080/",
     "height": 508,
     "referenced_widgets": [
      "d0dcc3a24f2240748ac95eac80e558c7",
      "f758eaaca4414d16b5f4cc7266981f1b",
      "4ee6dc31ba434a28afb9a504b659a7e7",
      "213a546850bd4a0eb2d423f22aeeecbb",
      "eee65184d3c8417f88e573f74e1c3245",
      "7a0caba720ec472fa03ea6a83c44bab5",
      "451c7c9d99b4460c962f39612d34bfe8",
      "acfea9b4e73346688eee975aeb8ee6d6",
      "de45f0389e334069b4bd69c5b7ca475c"
     ]
    },
    "id": "-IemID21C5Mh",
    "outputId": "0d2a3cf2-ca67-46e3-f5d4-922c8c1e5a5e"
   },
   "outputs": [],
   "source": [
    "wandb.finish()"
   ]
  },
  {
   "cell_type": "markdown",
   "id": "c9f5ba30",
   "metadata": {
    "id": "c9f5ba30"
   },
   "source": [
    "## Filtered data"
   ]
  },
  {
   "cell_type": "code",
   "execution_count": 38,
   "id": "-yz3TUdwDEML",
   "metadata": {
    "colab": {
     "base_uri": "https://localhost:8080/",
     "height": 412,
     "referenced_widgets": [
      "e11f54141e874da98a5bec3559a3b4c0",
      "80a4f1b8a78c4203a2453163db9194b6",
      "23ce52997c2941daba41bcfb015eaad9",
      "1e123c2edee844968d1ce0809b8eddda",
      "ae688e59fcbd4de985022188288a8ec4",
      "4dea8848f8b54a54961d881c1f18f9bf",
      "8e5d2a55bbaf4d7b82a21a92c830cbf9",
      "30732fe81d5e41349cd5afd305560877"
     ]
    },
    "id": "-yz3TUdwDEML",
    "outputId": "3c115374-e7ed-478b-8a7e-6f7c2e669c37"
   },
   "outputs": [
    {
     "name": "stderr",
     "output_type": "stream",
     "text": [
      "Failed to detect the name of this notebook, you can set it manually with the WANDB_NOTEBOOK_NAME environment variable to enable code saving.\n",
      "\u001b[34m\u001b[1mwandb\u001b[0m: Currently logged in as: \u001b[33mvladimir_karlov\u001b[0m. Use \u001b[1m`wandb login --relogin`\u001b[0m to force relogin\n"
     ]
    },
    {
     "data": {
      "text/html": [
       "Tracking run with wandb version 0.13.5"
      ],
      "text/plain": [
       "<IPython.core.display.HTML object>"
      ]
     },
     "metadata": {},
     "output_type": "display_data"
    },
    {
     "data": {
      "text/html": [
       "Run data is saved locally in <code>/home/vakarlov/noise_in_abs_sum/wandb/run-20230410_143713-2pht3jp9</code>"
      ],
      "text/plain": [
       "<IPython.core.display.HTML object>"
      ]
     },
     "metadata": {},
     "output_type": "display_data"
    },
    {
     "data": {
      "text/html": [
       "Syncing run <strong><a href=\"https://wandb.ai/vladimir_karlov/noise-in-abs-sum/runs/2pht3jp9\" target=\"_blank\">filtered facebook/bart-base_0.99</a></strong> to <a href=\"https://wandb.ai/vladimir_karlov/noise-in-abs-sum\" target=\"_blank\">Weights & Biases</a> (<a href=\"https://wandb.me/run\" target=\"_blank\">docs</a>)<br/>"
      ],
      "text/plain": [
       "<IPython.core.display.HTML object>"
      ]
     },
     "metadata": {},
     "output_type": "display_data"
    },
    {
     "data": {
      "text/html": [
       "<button onClick=\"this.nextSibling.style.display='block';this.style.display='none';\">Display W&B run</button><iframe src=\"https://wandb.ai/vladimir_karlov/noise-in-abs-sum/runs/2pht3jp9?jupyter=true\" style=\"border:none;width:100%;height:420px;display:none;\"></iframe>"
      ],
      "text/plain": [
       "<wandb.sdk.wandb_run.Run at 0x2b90dfbb6380>"
      ]
     },
     "execution_count": 38,
     "metadata": {},
     "output_type": "execute_result"
    }
   ],
   "source": [
    "import wandb\n",
    "\n",
    "filtered_run_name = \"filtered \" + checkpoint_name + '_' + str(quantile)\n",
    "\n",
    "wandb.login()\n",
    "wandb.init(project='noise-in-abs-sum',\n",
    "           name=filtered_run_name)"
   ]
  },
  {
   "cell_type": "code",
   "execution_count": 5,
   "id": "1ac8cae6-4a85-4578-aa6f-9cc741f46b63",
   "metadata": {
    "id": "1ac8cae6-4a85-4578-aa6f-9cc741f46b63"
   },
   "outputs": [],
   "source": [
    "from datasets import load_from_disk\n",
    "\n",
    "filtered_data = load_from_disk(dataset_name + \"_filtered_data.hf\")\n",
    "\n",
    "wandb.log({'hyperparams/retained_obj_num' : filtered_data['train'].num_rows,\n",
    "           # 'hyperparams/threshold' : THRESHOLD,\n",
    "           'hyperparams/quantile' : quantile,\n",
    "           'hyperparams/checkpoint_name' : checkpoint_name,\n",
    "           'hyperparams/dataset_name' : dataset_name})"
   ]
  },
  {
   "cell_type": "code",
   "execution_count": 40,
   "id": "3f961f08-c344-4850-9196-852757dda146",
   "metadata": {
    "colab": {
     "base_uri": "https://localhost:8080/"
    },
    "id": "3f961f08-c344-4850-9196-852757dda146",
    "outputId": "a146ad5a-9d0b-4fc6-f504-402d1b7ab247"
   },
   "outputs": [
    {
     "data": {
      "text/plain": [
       "DatasetDict({\n",
       "    train: Dataset({\n",
       "        features: ['text', 'summary', '__index_level_0__'],\n",
       "        num_rows: 14064\n",
       "    })\n",
       "    validation: Dataset({\n",
       "        features: ['text', 'summary'],\n",
       "        num_rows: 1960\n",
       "    })\n",
       "    test: Dataset({\n",
       "        features: ['text', 'summary'],\n",
       "        num_rows: 1906\n",
       "    })\n",
       "})"
      ]
     },
     "execution_count": 40,
     "metadata": {},
     "output_type": "execute_result"
    }
   ],
   "source": [
    "filtered_data"
   ]
  },
  {
   "cell_type": "code",
   "execution_count": null,
   "id": "TCoYipoLlYDk",
   "metadata": {
    "id": "TCoYipoLlYDk",
    "scrolled": true
   },
   "outputs": [],
   "source": [
    "import evaluate\n",
    "\n",
    "rouge = evaluate.load(\"rouge\", cache_dir=CACHE_DIR_PATH)"
   ]
  },
  {
   "cell_type": "code",
   "execution_count": 41,
   "id": "33df2487-bb4c-48e9-9843-73c7786d05af",
   "metadata": {
    "colab": {
     "base_uri": "https://localhost:8080/",
     "height": 16,
     "referenced_widgets": [
      "ae687b9c0f3e4351bab0c81fda2fd06a",
      "0a1dc01aea0846d7837604bee8955d94",
      "27224aa2940245fe9eab34079ca8eda2",
      "ea1f28dcb41446cca89e62e62dcf3248",
      "9e0858ef3b1b4076ac9d7ee56a4e350b",
      "4028330d32a846609f4978d73697b9b1",
      "ffea63f6a05047efbfd3078a9e2b66c3",
      "b52698655580462fb7ae5be68fd37e91",
      "2ff34c12400e45988eb30778eeae7f12",
      "7c3b5118c0364e62873d6983b0c9bf51",
      "b4aab017c3d744c1a0be62036280d7ee",
      "ed8696769e7e4e89bf45091e54c45b63",
      "1637f9eaf5f844bfa36040345a51d915",
      "d398585743464ce2ae1f29ef19c07c55",
      "26f330a53f6a4220b3d99bad9b4d8d93",
      "7b01df15021d4ddb8e7fa293abe3c185",
      "3331eefb13eb4abcaa4657982861a86f",
      "69e276f2d853429db5d86da86c8f7c2d",
      "e1342d1fe8c84c22b171c79cff3801c4",
      "c5e16e8c984141c9b7c693b69678615d",
      "59349299aa9a43da960045d201506c4d",
      "76432869f12c40d785cb34e4f66386eb",
      "c3f169d8d6b1490cbc499bc95c93f436",
      "fc9cd77567634ddfbaed60e9c47308c8",
      "bab7dd7e061344f8b9405b74dff7ac51",
      "6a7d591fcad44845966c51639ea30e37",
      "bc2972a4bbf045789b5064c103966fe7",
      "7f712e0fff96441ebcf85b99c47aba07",
      "63029fe074a143e09f1f7f3388a571ed",
      "dbdab18c793e4fba906b9d12093c2032",
      "f25f8602b88342be9ef294ae23ea01b2",
      "951a72cbbb574d39925d2c0f1b71634a",
      "1bbe7326487b402f9ba185fc9c37b49d"
     ]
    },
    "id": "33df2487-bb4c-48e9-9843-73c7786d05af",
    "outputId": "095d84d3-0ba4-4ab7-d35e-685cad883343"
   },
   "outputs": [
    {
     "data": {
      "application/vnd.jupyter.widget-view+json": {
       "model_id": "e4d2f6b9f778420b89f3289cbacaad38",
       "version_major": 2,
       "version_minor": 0
      },
      "text/plain": [
       "  0%|          | 0/15 [00:00<?, ?ba/s]"
      ]
     },
     "metadata": {},
     "output_type": "display_data"
    },
    {
     "name": "stderr",
     "output_type": "stream",
     "text": [
      "Loading cached processed dataset at filtered_data.hf/validation/cache-c4df093ac437e651.arrow\n",
      "Loading cached processed dataset at filtered_data.hf/test/cache-911be88f74bb6f90.arrow\n"
     ]
    }
   ],
   "source": [
    "tokenized_filtered_data = filtered_data.map(preprocess_function, batched=True)"
   ]
  },
  {
   "cell_type": "code",
   "execution_count": 42,
   "id": "e795e8ce",
   "metadata": {
    "id": "e795e8ce"
   },
   "outputs": [],
   "source": [
    "from transformers import AutoModelForSeq2SeqLM, Seq2SeqTrainingArguments, Seq2SeqTrainer\n",
    "\n",
    "filtered_model = AutoModelForSeq2SeqLM.from_pretrained(checkpoint_name)"
   ]
  },
  {
   "cell_type": "code",
   "execution_count": 43,
   "id": "2759264f",
   "metadata": {
    "id": "2759264f"
   },
   "outputs": [],
   "source": [
    "from transformers import DataCollatorForSeq2Seq\n",
    "\n",
    "data_collator = DataCollatorForSeq2Seq(tokenizer=tokenizer, model=filtered_model)"
   ]
  },
  {
   "cell_type": "code",
   "execution_count": 54,
   "id": "4612b7b8",
   "metadata": {
    "id": "4612b7b8"
   },
   "outputs": [],
   "source": [
    "batch_size, eval_batch_size = 32, 64  # V100 config\n",
    "# batch_size, eval_batch_size = 8, 16  # colab / local config\n",
    "\n",
    "num_workers = 6\n",
    "\n",
    "training_args = Seq2SeqTrainingArguments(\n",
    "    output_dir=dataset_name + \"-filtered-\" + checkpoint_name.split('/')[-1] + '_' + str(quantile),\n",
    "    evaluation_strategy=\"epoch\",\n",
    "    learning_rate=2e-5,\n",
    "    per_device_train_batch_size=batch_size,\n",
    "    per_device_eval_batch_size=eval_batch_size,\n",
    "    weight_decay=0.01,\n",
    "    save_total_limit=3,\n",
    "    num_train_epochs=4,\n",
    "    predict_with_generate=True,\n",
    "    fp16=True,\n",
    "    report_to=\"wandb\", \n",
    "    dataloader_num_workers=num_workers,\n",
    "    \n",
    ")"
   ]
  },
  {
   "cell_type": "code",
   "execution_count": 55,
   "id": "a4ca90ba",
   "metadata": {
    "id": "a4ca90ba",
    "outputId": "3c5741b2-9454-4373-ede8-c9db0860f79b"
   },
   "outputs": [
    {
     "name": "stderr",
     "output_type": "stream",
     "text": [
      "Using cuda_amp half precision backend\n"
     ]
    }
   ],
   "source": [
    "trainer = Seq2SeqTrainer(\n",
    "    model=filtered_model,\n",
    "    args=training_args,\n",
    "    train_dataset=tokenized_filtered_data[\"train\"],\n",
    "    eval_dataset=tokenized_filtered_data[\"validation\"],\n",
    "    tokenizer=tokenizer,\n",
    "    data_collator=data_collator,\n",
    "    compute_metrics=compute_metrics,\n",
    ")"
   ]
  },
  {
   "cell_type": "code",
   "execution_count": null,
   "id": "efd3bb69",
   "metadata": {
    "colab": {
     "base_uri": "https://localhost:8080/",
     "height": 461
    },
    "id": "efd3bb69",
    "outputId": "4f0c410c-3792-4e28-99f4-6ba7c90b3368"
   },
   "outputs": [
    {
     "name": "stderr",
     "output_type": "stream",
     "text": [
      "The following columns in the training set don't have a corresponding argument in `BartForConditionalGeneration.forward` and have been ignored: __index_level_0__, text, summary. If __index_level_0__, text, summary are not expected by `BartForConditionalGeneration.forward`,  you can safely ignore this message.\n",
      "***** Running training *****\n",
      "  Num examples = 14064\n",
      "  Num Epochs = 4\n",
      "  Instantaneous batch size per device = 32\n",
      "  Total train batch size (w. parallel, distributed & accumulation) = 32\n",
      "  Gradient Accumulation steps = 1\n",
      "  Total optimization steps = 1760\n",
      "  Number of trainable parameters = 139420416\n",
      "Automatic Weights & Biases logging enabled, to disable set os.environ[\"WANDB_DISABLED\"] = \"true\"\n",
      "You're using a BartTokenizerFast tokenizer. Please note that with a fast tokenizer, using the `__call__` method is faster than using a method to encode the text followed by a call to the `pad` method to get a padded encoding.\n",
      "You're using a BartTokenizerFast tokenizer. Please note that with a fast tokenizer, using the `__call__` method is faster than using a method to encode the text followed by a call to the `pad` method to get a padded encoding.\n",
      "You're using a BartTokenizerFast tokenizer. Please note that with a fast tokenizer, using the `__call__` method is faster than using a method to encode the text followed by a call to the `pad` method to get a padded encoding.\n",
      "You're using a BartTokenizerFast tokenizer. Please note that with a fast tokenizer, using the `__call__` method is faster than using a method to encode the text followed by a call to the `pad` method to get a padded encoding.\n",
      "You're using a BartTokenizerFast tokenizer. Please note that with a fast tokenizer, using the `__call__` method is faster than using a method to encode the text followed by a call to the `pad` method to get a padded encoding.\n",
      "You're using a BartTokenizerFast tokenizer. Please note that with a fast tokenizer, using the `__call__` method is faster than using a method to encode the text followed by a call to the `pad` method to get a padded encoding.\n"
     ]
    },
    {
     "data": {
      "text/html": [
       "\n",
       "    <div>\n",
       "      \n",
       "      <progress value='1420' max='1760' style='width:300px; height:20px; vertical-align: middle;'></progress>\n",
       "      [1420/1760 18:14 < 04:22, 1.30 it/s, Epoch 3.23/4]\n",
       "    </div>\n",
       "    <table border=\"1\" class=\"dataframe\">\n",
       "  <thead>\n",
       " <tr style=\"text-align: left;\">\n",
       "      <th>Epoch</th>\n",
       "      <th>Training Loss</th>\n",
       "      <th>Validation Loss</th>\n",
       "      <th>Rouge1</th>\n",
       "      <th>Rouge2</th>\n",
       "      <th>Rougel</th>\n",
       "      <th>Rougelsum</th>\n",
       "      <th>Gen Len</th>\n",
       "    </tr>\n",
       "  </thead>\n",
       "  <tbody>\n",
       "    <tr>\n",
       "      <td>1</td>\n",
       "      <td>No log</td>\n",
       "      <td>4.406018</td>\n",
       "      <td>0.337400</td>\n",
       "      <td>0.182700</td>\n",
       "      <td>0.328400</td>\n",
       "      <td>0.328200</td>\n",
       "      <td>7.746100</td>\n",
       "    </tr>\n",
       "    <tr>\n",
       "      <td>2</td>\n",
       "      <td>3.108800</td>\n",
       "      <td>4.366955</td>\n",
       "      <td>0.337600</td>\n",
       "      <td>0.180100</td>\n",
       "      <td>0.329800</td>\n",
       "      <td>0.329500</td>\n",
       "      <td>7.658400</td>\n",
       "    </tr>\n",
       "    <tr>\n",
       "      <td>3</td>\n",
       "      <td>2.634500</td>\n",
       "      <td>4.321293</td>\n",
       "      <td>0.338300</td>\n",
       "      <td>0.178600</td>\n",
       "      <td>0.330500</td>\n",
       "      <td>0.330600</td>\n",
       "      <td>7.594400</td>\n",
       "    </tr>\n",
       "  </tbody>\n",
       "</table><p>"
      ],
      "text/plain": [
       "<IPython.core.display.HTML object>"
      ]
     },
     "metadata": {},
     "output_type": "display_data"
    },
    {
     "name": "stderr",
     "output_type": "stream",
     "text": [
      "The following columns in the evaluation set don't have a corresponding argument in `BartForConditionalGeneration.forward` and have been ignored: summary, text. If summary, text are not expected by `BartForConditionalGeneration.forward`,  you can safely ignore this message.\n",
      "***** Running Evaluation *****\n",
      "  Num examples = 1906\n",
      "  Batch size = 64\n",
      "You're using a BartTokenizerFast tokenizer. Please note that with a fast tokenizer, using the `__call__` method is faster than using a method to encode the text followed by a call to the `pad` method to get a padded encoding.\n",
      "You're using a BartTokenizerFast tokenizer. Please note that with a fast tokenizer, using the `__call__` method is faster than using a method to encode the text followed by a call to the `pad` method to get a padded encoding.\n",
      "You're using a BartTokenizerFast tokenizer. Please note that with a fast tokenizer, using the `__call__` method is faster than using a method to encode the text followed by a call to the `pad` method to get a padded encoding.\n",
      "You're using a BartTokenizerFast tokenizer. Please note that with a fast tokenizer, using the `__call__` method is faster than using a method to encode the text followed by a call to the `pad` method to get a padded encoding.\n",
      "You're using a BartTokenizerFast tokenizer. Please note that with a fast tokenizer, using the `__call__` method is faster than using a method to encode the text followed by a call to the `pad` method to get a padded encoding.\n",
      "You're using a BartTokenizerFast tokenizer. Please note that with a fast tokenizer, using the `__call__` method is faster than using a method to encode the text followed by a call to the `pad` method to get a padded encoding.\n",
      "You're using a BartTokenizerFast tokenizer. Please note that with a fast tokenizer, using the `__call__` method is faster than using a method to encode the text followed by a call to the `pad` method to get a padded encoding.\n",
      "You're using a BartTokenizerFast tokenizer. Please note that with a fast tokenizer, using the `__call__` method is faster than using a method to encode the text followed by a call to the `pad` method to get a padded encoding.\n",
      "You're using a BartTokenizerFast tokenizer. Please note that with a fast tokenizer, using the `__call__` method is faster than using a method to encode the text followed by a call to the `pad` method to get a padded encoding.\n",
      "You're using a BartTokenizerFast tokenizer. Please note that with a fast tokenizer, using the `__call__` method is faster than using a method to encode the text followed by a call to the `pad` method to get a padded encoding.\n",
      "You're using a BartTokenizerFast tokenizer. Please note that with a fast tokenizer, using the `__call__` method is faster than using a method to encode the text followed by a call to the `pad` method to get a padded encoding.\n",
      "You're using a BartTokenizerFast tokenizer. Please note that with a fast tokenizer, using the `__call__` method is faster than using a method to encode the text followed by a call to the `pad` method to get a padded encoding.\n",
      "Saving model checkpoint to aeslc-filtered-bart-base_0.99/checkpoint-500\n",
      "Configuration saved in aeslc-filtered-bart-base_0.99/checkpoint-500/config.json\n",
      "Model weights saved in aeslc-filtered-bart-base_0.99/checkpoint-500/pytorch_model.bin\n",
      "tokenizer config file saved in aeslc-filtered-bart-base_0.99/checkpoint-500/tokenizer_config.json\n",
      "Special tokens file saved in aeslc-filtered-bart-base_0.99/checkpoint-500/special_tokens_map.json\n",
      "The following columns in the evaluation set don't have a corresponding argument in `BartForConditionalGeneration.forward` and have been ignored: summary, text. If summary, text are not expected by `BartForConditionalGeneration.forward`,  you can safely ignore this message.\n",
      "***** Running Evaluation *****\n",
      "  Num examples = 1906\n",
      "  Batch size = 64\n",
      "You're using a BartTokenizerFast tokenizer. Please note that with a fast tokenizer, using the `__call__` method is faster than using a method to encode the text followed by a call to the `pad` method to get a padded encoding.\n",
      "You're using a BartTokenizerFast tokenizer. Please note that with a fast tokenizer, using the `__call__` method is faster than using a method to encode the text followed by a call to the `pad` method to get a padded encoding.\n",
      "You're using a BartTokenizerFast tokenizer. Please note that with a fast tokenizer, using the `__call__` method is faster than using a method to encode the text followed by a call to the `pad` method to get a padded encoding.\n",
      "You're using a BartTokenizerFast tokenizer. Please note that with a fast tokenizer, using the `__call__` method is faster than using a method to encode the text followed by a call to the `pad` method to get a padded encoding.\n",
      "You're using a BartTokenizerFast tokenizer. Please note that with a fast tokenizer, using the `__call__` method is faster than using a method to encode the text followed by a call to the `pad` method to get a padded encoding.\n",
      "You're using a BartTokenizerFast tokenizer. Please note that with a fast tokenizer, using the `__call__` method is faster than using a method to encode the text followed by a call to the `pad` method to get a padded encoding.\n",
      "You're using a BartTokenizerFast tokenizer. Please note that with a fast tokenizer, using the `__call__` method is faster than using a method to encode the text followed by a call to the `pad` method to get a padded encoding.\n",
      "You're using a BartTokenizerFast tokenizer. Please note that with a fast tokenizer, using the `__call__` method is faster than using a method to encode the text followed by a call to the `pad` method to get a padded encoding.\n",
      "You're using a BartTokenizerFast tokenizer. Please note that with a fast tokenizer, using the `__call__` method is faster than using a method to encode the text followed by a call to the `pad` method to get a padded encoding.\n",
      "You're using a BartTokenizerFast tokenizer. Please note that with a fast tokenizer, using the `__call__` method is faster than using a method to encode the text followed by a call to the `pad` method to get a padded encoding.\n",
      "You're using a BartTokenizerFast tokenizer. Please note that with a fast tokenizer, using the `__call__` method is faster than using a method to encode the text followed by a call to the `pad` method to get a padded encoding.\n",
      "You're using a BartTokenizerFast tokenizer. Please note that with a fast tokenizer, using the `__call__` method is faster than using a method to encode the text followed by a call to the `pad` method to get a padded encoding.\n",
      "Saving model checkpoint to aeslc-filtered-bart-base_0.99/checkpoint-1000\n",
      "Configuration saved in aeslc-filtered-bart-base_0.99/checkpoint-1000/config.json\n",
      "Model weights saved in aeslc-filtered-bart-base_0.99/checkpoint-1000/pytorch_model.bin\n",
      "tokenizer config file saved in aeslc-filtered-bart-base_0.99/checkpoint-1000/tokenizer_config.json\n",
      "Special tokens file saved in aeslc-filtered-bart-base_0.99/checkpoint-1000/special_tokens_map.json\n",
      "The following columns in the evaluation set don't have a corresponding argument in `BartForConditionalGeneration.forward` and have been ignored: summary, text. If summary, text are not expected by `BartForConditionalGeneration.forward`,  you can safely ignore this message.\n",
      "***** Running Evaluation *****\n",
      "  Num examples = 1906\n",
      "  Batch size = 64\n",
      "You're using a BartTokenizerFast tokenizer. Please note that with a fast tokenizer, using the `__call__` method is faster than using a method to encode the text followed by a call to the `pad` method to get a padded encoding.\n",
      "You're using a BartTokenizerFast tokenizer. Please note that with a fast tokenizer, using the `__call__` method is faster than using a method to encode the text followed by a call to the `pad` method to get a padded encoding.\n",
      "You're using a BartTokenizerFast tokenizer. Please note that with a fast tokenizer, using the `__call__` method is faster than using a method to encode the text followed by a call to the `pad` method to get a padded encoding.\n",
      "You're using a BartTokenizerFast tokenizer. Please note that with a fast tokenizer, using the `__call__` method is faster than using a method to encode the text followed by a call to the `pad` method to get a padded encoding.\n",
      "You're using a BartTokenizerFast tokenizer. Please note that with a fast tokenizer, using the `__call__` method is faster than using a method to encode the text followed by a call to the `pad` method to get a padded encoding.\n",
      "You're using a BartTokenizerFast tokenizer. Please note that with a fast tokenizer, using the `__call__` method is faster than using a method to encode the text followed by a call to the `pad` method to get a padded encoding.\n",
      "You're using a BartTokenizerFast tokenizer. Please note that with a fast tokenizer, using the `__call__` method is faster than using a method to encode the text followed by a call to the `pad` method to get a padded encoding.\n",
      "You're using a BartTokenizerFast tokenizer. Please note that with a fast tokenizer, using the `__call__` method is faster than using a method to encode the text followed by a call to the `pad` method to get a padded encoding.\n",
      "You're using a BartTokenizerFast tokenizer. Please note that with a fast tokenizer, using the `__call__` method is faster than using a method to encode the text followed by a call to the `pad` method to get a padded encoding.\n",
      "You're using a BartTokenizerFast tokenizer. Please note that with a fast tokenizer, using the `__call__` method is faster than using a method to encode the text followed by a call to the `pad` method to get a padded encoding.\n",
      "You're using a BartTokenizerFast tokenizer. Please note that with a fast tokenizer, using the `__call__` method is faster than using a method to encode the text followed by a call to the `pad` method to get a padded encoding.\n",
      "You're using a BartTokenizerFast tokenizer. Please note that with a fast tokenizer, using the `__call__` method is faster than using a method to encode the text followed by a call to the `pad` method to get a padded encoding.\n"
     ]
    }
   ],
   "source": [
    "# train_model(filtered_model)\n",
    "trainer.train()"
   ]
  },
  {
   "cell_type": "code",
   "execution_count": null,
   "id": "e87fe1ef-6431-4efe-82ce-a58ff8285ad7",
   "metadata": {
    "id": "e87fe1ef-6431-4efe-82ce-a58ff8285ad7",
    "outputId": "8cf3a64d-731f-411f-920a-876ab1e029b4"
   },
   "outputs": [],
   "source": [
    "wandb.finish()"
   ]
  },
  {
   "cell_type": "code",
   "execution_count": null,
   "id": "OgmRkKrpmSC0",
   "metadata": {
    "id": "OgmRkKrpmSC0"
   },
   "outputs": [],
   "source": []
  }
 ],
 "metadata": {
  "accelerator": "GPU",
  "colab": {
   "collapsed_sections": [
    "231180ca-b606-4104-9d39-a335b718e455",
    "bb5827df",
    "4xHataaj176I",
    "s3IziY8VS_el",
    "TT8owsCtyFGN"
   ],
   "provenance": []
  },
  "gpuClass": "standard",
  "kernelspec": {
   "display_name": "Python [anaconda3-abs-sum]",
   "language": "python",
   "name": "conda-env-anaconda3-abs-sum-py"
  },
  "language_info": {
   "codemirror_mode": {
    "name": "ipython",
    "version": 3
   },
   "file_extension": ".py",
   "mimetype": "text/x-python",
   "name": "python",
   "nbconvert_exporter": "python",
   "pygments_lexer": "ipython3",
   "version": "3.11.2"
  },
  "toc-autonumbering": true,
  "toc-showmarkdowntxt": false,
  "widgets": {
   "application/vnd.jupyter.widget-state+json": {
    "0266e96fa6284979b24cd8200148a196": {
     "model_module": "@jupyter-widgets/base",
     "model_module_version": "1.2.0",
     "model_name": "LayoutModel",
     "state": {
      "_model_module": "@jupyter-widgets/base",
      "_model_module_version": "1.2.0",
      "_model_name": "LayoutModel",
      "_view_count": null,
      "_view_module": "@jupyter-widgets/base",
      "_view_module_version": "1.2.0",
      "_view_name": "LayoutView",
      "align_content": null,
      "align_items": null,
      "align_self": null,
      "border": null,
      "bottom": null,
      "display": null,
      "flex": null,
      "flex_flow": null,
      "grid_area": null,
      "grid_auto_columns": null,
      "grid_auto_flow": null,
      "grid_auto_rows": null,
      "grid_column": null,
      "grid_gap": null,
      "grid_row": null,
      "grid_template_areas": null,
      "grid_template_columns": null,
      "grid_template_rows": null,
      "height": null,
      "justify_content": null,
      "justify_items": null,
      "left": null,
      "margin": null,
      "max_height": null,
      "max_width": null,
      "min_height": null,
      "min_width": null,
      "object_fit": null,
      "object_position": null,
      "order": null,
      "overflow": null,
      "overflow_x": null,
      "overflow_y": null,
      "padding": null,
      "right": null,
      "top": null,
      "visibility": null,
      "width": null
     }
    },
    "02a35c03ca454438bba1828ae78cb21a": {
     "model_module": "@jupyter-widgets/controls",
     "model_module_version": "1.5.0",
     "model_name": "HBoxModel",
     "state": {
      "_dom_classes": [],
      "_model_module": "@jupyter-widgets/controls",
      "_model_module_version": "1.5.0",
      "_model_name": "HBoxModel",
      "_view_count": null,
      "_view_module": "@jupyter-widgets/controls",
      "_view_module_version": "1.5.0",
      "_view_name": "HBoxView",
      "box_style": "",
      "children": [
       "IPY_MODEL_a1517f751db443828b005c05d379e168",
       "IPY_MODEL_e0cecd15f12b4e0ebff02186ad8e62e8",
       "IPY_MODEL_573841ca6b4d4d87b2cc67105a4c6077"
      ],
      "layout": "IPY_MODEL_6d0e0f096e6448a0b475d2fc49db9407"
     }
    },
    "035c46dabd494a5b89e4d8f8c72b6163": {
     "model_module": "@jupyter-widgets/controls",
     "model_module_version": "1.5.0",
     "model_name": "DescriptionStyleModel",
     "state": {
      "_model_module": "@jupyter-widgets/controls",
      "_model_module_version": "1.5.0",
      "_model_name": "DescriptionStyleModel",
      "_view_count": null,
      "_view_module": "@jupyter-widgets/base",
      "_view_module_version": "1.2.0",
      "_view_name": "StyleView",
      "description_width": ""
     }
    },
    "045c43a6f44c4dfca60c83f605971c09": {
     "model_module": "@jupyter-widgets/controls",
     "model_module_version": "1.5.0",
     "model_name": "HTMLModel",
     "state": {
      "_dom_classes": [],
      "_model_module": "@jupyter-widgets/controls",
      "_model_module_version": "1.5.0",
      "_model_name": "HTMLModel",
      "_view_count": null,
      "_view_module": "@jupyter-widgets/controls",
      "_view_module_version": "1.5.0",
      "_view_name": "HTMLView",
      "description": "",
      "description_tooltip": null,
      "layout": "IPY_MODEL_5110628cc43346e088e3c2931b5848e7",
      "placeholder": "​",
      "style": "IPY_MODEL_fb1a221af3a241e7a83e409875079d91",
      "value": " 112/112 [00:00&lt;00:00, 5.85kB/s]"
     }
    },
    "06ea37ebbc4646a4b4a4ee39efca5297": {
     "model_module": "@jupyter-widgets/controls",
     "model_module_version": "1.5.0",
     "model_name": "HTMLModel",
     "state": {
      "_dom_classes": [],
      "_model_module": "@jupyter-widgets/controls",
      "_model_module_version": "1.5.0",
      "_model_name": "HTMLModel",
      "_view_count": null,
      "_view_module": "@jupyter-widgets/controls",
      "_view_module_version": "1.5.0",
      "_view_name": "HTMLView",
      "description": "",
      "description_tooltip": null,
      "layout": "IPY_MODEL_d135819ea9fb4ce3b9ca80b0f2d3842b",
      "placeholder": "​",
      "style": "IPY_MODEL_b037acd5306147c1b316e35edb35394a",
      "value": " 438M/438M [00:07&lt;00:00, 55.0MB/s]"
     }
    },
    "06f76911155340bbad31134c180fcc26": {
     "model_module": "@jupyter-widgets/controls",
     "model_module_version": "1.5.0",
     "model_name": "ProgressStyleModel",
     "state": {
      "_model_module": "@jupyter-widgets/controls",
      "_model_module_version": "1.5.0",
      "_model_name": "ProgressStyleModel",
      "_view_count": null,
      "_view_module": "@jupyter-widgets/base",
      "_view_module_version": "1.2.0",
      "_view_name": "StyleView",
      "bar_color": null,
      "description_width": ""
     }
    },
    "0847667b589d4ee882b5b65a6af51d82": {
     "model_module": "@jupyter-widgets/controls",
     "model_module_version": "1.5.0",
     "model_name": "ProgressStyleModel",
     "state": {
      "_model_module": "@jupyter-widgets/controls",
      "_model_module_version": "1.5.0",
      "_model_name": "ProgressStyleModel",
      "_view_count": null,
      "_view_module": "@jupyter-widgets/base",
      "_view_module_version": "1.2.0",
      "_view_name": "StyleView",
      "bar_color": null,
      "description_width": ""
     }
    },
    "0a1dc01aea0846d7837604bee8955d94": {
     "model_module": "@jupyter-widgets/controls",
     "model_module_version": "1.5.0",
     "model_name": "HTMLModel",
     "state": {
      "_dom_classes": [],
      "_model_module": "@jupyter-widgets/controls",
      "_model_module_version": "1.5.0",
      "_model_name": "HTMLModel",
      "_view_count": null,
      "_view_module": "@jupyter-widgets/controls",
      "_view_module_version": "1.5.0",
      "_view_name": "HTMLView",
      "description": "",
      "description_tooltip": null,
      "layout": "IPY_MODEL_4028330d32a846609f4978d73697b9b1",
      "placeholder": "​",
      "style": "IPY_MODEL_ffea63f6a05047efbfd3078a9e2b66c3",
      "value": "Map: 100%"
     }
    },
    "0ad56b4ccfd143bdb0cda7d3ee26aec6": {
     "model_module": "@jupyter-widgets/base",
     "model_module_version": "1.2.0",
     "model_name": "LayoutModel",
     "state": {
      "_model_module": "@jupyter-widgets/base",
      "_model_module_version": "1.2.0",
      "_model_name": "LayoutModel",
      "_view_count": null,
      "_view_module": "@jupyter-widgets/base",
      "_view_module_version": "1.2.0",
      "_view_name": "LayoutView",
      "align_content": null,
      "align_items": null,
      "align_self": null,
      "border": null,
      "bottom": null,
      "display": null,
      "flex": null,
      "flex_flow": null,
      "grid_area": null,
      "grid_auto_columns": null,
      "grid_auto_flow": null,
      "grid_auto_rows": null,
      "grid_column": null,
      "grid_gap": null,
      "grid_row": null,
      "grid_template_areas": null,
      "grid_template_columns": null,
      "grid_template_rows": null,
      "height": null,
      "justify_content": null,
      "justify_items": null,
      "left": null,
      "margin": null,
      "max_height": null,
      "max_width": null,
      "min_height": null,
      "min_width": null,
      "object_fit": null,
      "object_position": null,
      "order": null,
      "overflow": null,
      "overflow_x": null,
      "overflow_y": null,
      "padding": null,
      "right": null,
      "top": null,
      "visibility": null,
      "width": null
     }
    },
    "0ed3b2d0bfb0471fb4d8903677b668d6": {
     "model_module": "@jupyter-widgets/controls",
     "model_module_version": "1.5.0",
     "model_name": "ProgressStyleModel",
     "state": {
      "_model_module": "@jupyter-widgets/controls",
      "_model_module_version": "1.5.0",
      "_model_name": "ProgressStyleModel",
      "_view_count": null,
      "_view_module": "@jupyter-widgets/base",
      "_view_module_version": "1.2.0",
      "_view_name": "StyleView",
      "bar_color": null,
      "description_width": ""
     }
    },
    "0f6bbb267f0f49f38b1568350d880153": {
     "model_module": "@jupyter-widgets/controls",
     "model_module_version": "1.5.0",
     "model_name": "DescriptionStyleModel",
     "state": {
      "_model_module": "@jupyter-widgets/controls",
      "_model_module_version": "1.5.0",
      "_model_name": "DescriptionStyleModel",
      "_view_count": null,
      "_view_module": "@jupyter-widgets/base",
      "_view_module_version": "1.2.0",
      "_view_name": "StyleView",
      "description_width": ""
     }
    },
    "111be15fa67c46d5bbbc1ca53ced3228": {
     "model_module": "@jupyter-widgets/controls",
     "model_module_version": "1.5.0",
     "model_name": "HTMLModel",
     "state": {
      "_dom_classes": [],
      "_model_module": "@jupyter-widgets/controls",
      "_model_module_version": "1.5.0",
      "_model_name": "HTMLModel",
      "_view_count": null,
      "_view_module": "@jupyter-widgets/controls",
      "_view_module_version": "1.5.0",
      "_view_name": "HTMLView",
      "description": "",
      "description_tooltip": null,
      "layout": "IPY_MODEL_bf10eb81ec564578a20f1cf06207d49a",
      "placeholder": "​",
      "style": "IPY_MODEL_50dd2b3160a44562939f54e27417e7b4",
      "value": "Saving the dataset (1/1 shards): 100%"
     }
    },
    "1637f9eaf5f844bfa36040345a51d915": {
     "model_module": "@jupyter-widgets/controls",
     "model_module_version": "1.5.0",
     "model_name": "HTMLModel",
     "state": {
      "_dom_classes": [],
      "_model_module": "@jupyter-widgets/controls",
      "_model_module_version": "1.5.0",
      "_model_name": "HTMLModel",
      "_view_count": null,
      "_view_module": "@jupyter-widgets/controls",
      "_view_module_version": "1.5.0",
      "_view_name": "HTMLView",
      "description": "",
      "description_tooltip": null,
      "layout": "IPY_MODEL_3331eefb13eb4abcaa4657982861a86f",
      "placeholder": "​",
      "style": "IPY_MODEL_69e276f2d853429db5d86da86c8f7c2d",
      "value": "Map: 100%"
     }
    },
    "175fd5754d68441ba556c35190f3c5de": {
     "model_module": "@jupyter-widgets/controls",
     "model_module_version": "1.5.0",
     "model_name": "DescriptionStyleModel",
     "state": {
      "_model_module": "@jupyter-widgets/controls",
      "_model_module_version": "1.5.0",
      "_model_name": "DescriptionStyleModel",
      "_view_count": null,
      "_view_module": "@jupyter-widgets/base",
      "_view_module_version": "1.2.0",
      "_view_name": "StyleView",
      "description_width": ""
     }
    },
    "19ae643ef4cc470ba353a1a5749cb8d7": {
     "model_module": "@jupyter-widgets/base",
     "model_module_version": "1.2.0",
     "model_name": "LayoutModel",
     "state": {
      "_model_module": "@jupyter-widgets/base",
      "_model_module_version": "1.2.0",
      "_model_name": "LayoutModel",
      "_view_count": null,
      "_view_module": "@jupyter-widgets/base",
      "_view_module_version": "1.2.0",
      "_view_name": "LayoutView",
      "align_content": null,
      "align_items": null,
      "align_self": null,
      "border": null,
      "bottom": null,
      "display": null,
      "flex": null,
      "flex_flow": null,
      "grid_area": null,
      "grid_auto_columns": null,
      "grid_auto_flow": null,
      "grid_auto_rows": null,
      "grid_column": null,
      "grid_gap": null,
      "grid_row": null,
      "grid_template_areas": null,
      "grid_template_columns": null,
      "grid_template_rows": null,
      "height": null,
      "justify_content": null,
      "justify_items": null,
      "left": null,
      "margin": null,
      "max_height": null,
      "max_width": null,
      "min_height": null,
      "min_width": null,
      "object_fit": null,
      "object_position": null,
      "order": null,
      "overflow": null,
      "overflow_x": null,
      "overflow_y": null,
      "padding": null,
      "right": null,
      "top": null,
      "visibility": null,
      "width": null
     }
    },
    "1a5f9826268d450f9250727a441d48f7": {
     "model_module": "@jupyter-widgets/controls",
     "model_module_version": "1.5.0",
     "model_name": "ProgressStyleModel",
     "state": {
      "_model_module": "@jupyter-widgets/controls",
      "_model_module_version": "1.5.0",
      "_model_name": "ProgressStyleModel",
      "_view_count": null,
      "_view_module": "@jupyter-widgets/base",
      "_view_module_version": "1.2.0",
      "_view_name": "StyleView",
      "bar_color": null,
      "description_width": ""
     }
    },
    "1bbe7326487b402f9ba185fc9c37b49d": {
     "model_module": "@jupyter-widgets/controls",
     "model_module_version": "1.5.0",
     "model_name": "DescriptionStyleModel",
     "state": {
      "_model_module": "@jupyter-widgets/controls",
      "_model_module_version": "1.5.0",
      "_model_name": "DescriptionStyleModel",
      "_view_count": null,
      "_view_module": "@jupyter-widgets/base",
      "_view_module_version": "1.2.0",
      "_view_name": "StyleView",
      "description_width": ""
     }
    },
    "1c1b8b1f7c3344a88ff7591f4ba6f8ad": {
     "model_module": "@jupyter-widgets/base",
     "model_module_version": "1.2.0",
     "model_name": "LayoutModel",
     "state": {
      "_model_module": "@jupyter-widgets/base",
      "_model_module_version": "1.2.0",
      "_model_name": "LayoutModel",
      "_view_count": null,
      "_view_module": "@jupyter-widgets/base",
      "_view_module_version": "1.2.0",
      "_view_name": "LayoutView",
      "align_content": null,
      "align_items": null,
      "align_self": null,
      "border": null,
      "bottom": null,
      "display": null,
      "flex": null,
      "flex_flow": null,
      "grid_area": null,
      "grid_auto_columns": null,
      "grid_auto_flow": null,
      "grid_auto_rows": null,
      "grid_column": null,
      "grid_gap": null,
      "grid_row": null,
      "grid_template_areas": null,
      "grid_template_columns": null,
      "grid_template_rows": null,
      "height": null,
      "justify_content": null,
      "justify_items": null,
      "left": null,
      "margin": null,
      "max_height": null,
      "max_width": null,
      "min_height": null,
      "min_width": null,
      "object_fit": null,
      "object_position": null,
      "order": null,
      "overflow": null,
      "overflow_x": null,
      "overflow_y": null,
      "padding": null,
      "right": null,
      "top": null,
      "visibility": null,
      "width": null
     }
    },
    "1e123c2edee844968d1ce0809b8eddda": {
     "model_module": "@jupyter-widgets/base",
     "model_module_version": "1.2.0",
     "model_name": "LayoutModel",
     "state": {
      "_model_module": "@jupyter-widgets/base",
      "_model_module_version": "1.2.0",
      "_model_name": "LayoutModel",
      "_view_count": null,
      "_view_module": "@jupyter-widgets/base",
      "_view_module_version": "1.2.0",
      "_view_name": "LayoutView",
      "align_content": null,
      "align_items": null,
      "align_self": null,
      "border": null,
      "bottom": null,
      "display": null,
      "flex": null,
      "flex_flow": null,
      "grid_area": null,
      "grid_auto_columns": null,
      "grid_auto_flow": null,
      "grid_auto_rows": null,
      "grid_column": null,
      "grid_gap": null,
      "grid_row": null,
      "grid_template_areas": null,
      "grid_template_columns": null,
      "grid_template_rows": null,
      "height": null,
      "justify_content": null,
      "justify_items": null,
      "left": null,
      "margin": null,
      "max_height": null,
      "max_width": null,
      "min_height": null,
      "min_width": null,
      "object_fit": null,
      "object_position": null,
      "order": null,
      "overflow": null,
      "overflow_x": null,
      "overflow_y": null,
      "padding": null,
      "right": null,
      "top": null,
      "visibility": null,
      "width": null
     }
    },
    "213a546850bd4a0eb2d423f22aeeecbb": {
     "model_module": "@jupyter-widgets/base",
     "model_module_version": "1.2.0",
     "model_name": "LayoutModel",
     "state": {
      "_model_module": "@jupyter-widgets/base",
      "_model_module_version": "1.2.0",
      "_model_name": "LayoutModel",
      "_view_count": null,
      "_view_module": "@jupyter-widgets/base",
      "_view_module_version": "1.2.0",
      "_view_name": "LayoutView",
      "align_content": null,
      "align_items": null,
      "align_self": null,
      "border": null,
      "bottom": null,
      "display": null,
      "flex": null,
      "flex_flow": null,
      "grid_area": null,
      "grid_auto_columns": null,
      "grid_auto_flow": null,
      "grid_auto_rows": null,
      "grid_column": null,
      "grid_gap": null,
      "grid_row": null,
      "grid_template_areas": null,
      "grid_template_columns": null,
      "grid_template_rows": null,
      "height": null,
      "justify_content": null,
      "justify_items": null,
      "left": null,
      "margin": null,
      "max_height": null,
      "max_width": null,
      "min_height": null,
      "min_width": null,
      "object_fit": null,
      "object_position": null,
      "order": null,
      "overflow": null,
      "overflow_x": null,
      "overflow_y": null,
      "padding": null,
      "right": null,
      "top": null,
      "visibility": null,
      "width": null
     }
    },
    "21ebf6a0e6f0462093c2e75192c51ad6": {
     "model_module": "@jupyter-widgets/controls",
     "model_module_version": "1.5.0",
     "model_name": "ProgressStyleModel",
     "state": {
      "_model_module": "@jupyter-widgets/controls",
      "_model_module_version": "1.5.0",
      "_model_name": "ProgressStyleModel",
      "_view_count": null,
      "_view_module": "@jupyter-widgets/base",
      "_view_module_version": "1.2.0",
      "_view_name": "StyleView",
      "bar_color": null,
      "description_width": ""
     }
    },
    "23ce52997c2941daba41bcfb015eaad9": {
     "model_module": "@jupyter-widgets/controls",
     "model_module_version": "1.5.0",
     "model_name": "FloatProgressModel",
     "state": {
      "_dom_classes": [],
      "_model_module": "@jupyter-widgets/controls",
      "_model_module_version": "1.5.0",
      "_model_name": "FloatProgressModel",
      "_view_count": null,
      "_view_module": "@jupyter-widgets/controls",
      "_view_module_version": "1.5.0",
      "_view_name": "ProgressView",
      "bar_style": "",
      "description": "",
      "description_tooltip": null,
      "layout": "IPY_MODEL_8e5d2a55bbaf4d7b82a21a92c830cbf9",
      "max": 1,
      "min": 0,
      "orientation": "horizontal",
      "style": "IPY_MODEL_30732fe81d5e41349cd5afd305560877",
      "value": 0.11797244292467063
     }
    },
    "26f330a53f6a4220b3d99bad9b4d8d93": {
     "model_module": "@jupyter-widgets/controls",
     "model_module_version": "1.5.0",
     "model_name": "HTMLModel",
     "state": {
      "_dom_classes": [],
      "_model_module": "@jupyter-widgets/controls",
      "_model_module_version": "1.5.0",
      "_model_name": "HTMLModel",
      "_view_count": null,
      "_view_module": "@jupyter-widgets/controls",
      "_view_module_version": "1.5.0",
      "_view_name": "HTMLView",
      "description": "",
      "description_tooltip": null,
      "layout": "IPY_MODEL_59349299aa9a43da960045d201506c4d",
      "placeholder": "​",
      "style": "IPY_MODEL_76432869f12c40d785cb34e4f66386eb",
      "value": " 1960/1960 [00:01&lt;00:00, 1341.06 examples/s]"
     }
    },
    "27224aa2940245fe9eab34079ca8eda2": {
     "model_module": "@jupyter-widgets/controls",
     "model_module_version": "1.5.0",
     "model_name": "FloatProgressModel",
     "state": {
      "_dom_classes": [],
      "_model_module": "@jupyter-widgets/controls",
      "_model_module_version": "1.5.0",
      "_model_name": "FloatProgressModel",
      "_view_count": null,
      "_view_module": "@jupyter-widgets/controls",
      "_view_module_version": "1.5.0",
      "_view_name": "ProgressView",
      "bar_style": "",
      "description": "",
      "description_tooltip": null,
      "layout": "IPY_MODEL_b52698655580462fb7ae5be68fd37e91",
      "max": 6126,
      "min": 0,
      "orientation": "horizontal",
      "style": "IPY_MODEL_2ff34c12400e45988eb30778eeae7f12",
      "value": 6126
     }
    },
    "2abf93a258774fa481c790b220fe33f8": {
     "model_module": "@jupyter-widgets/base",
     "model_module_version": "1.2.0",
     "model_name": "LayoutModel",
     "state": {
      "_model_module": "@jupyter-widgets/base",
      "_model_module_version": "1.2.0",
      "_model_name": "LayoutModel",
      "_view_count": null,
      "_view_module": "@jupyter-widgets/base",
      "_view_module_version": "1.2.0",
      "_view_name": "LayoutView",
      "align_content": null,
      "align_items": null,
      "align_self": null,
      "border": null,
      "bottom": null,
      "display": null,
      "flex": null,
      "flex_flow": null,
      "grid_area": null,
      "grid_auto_columns": null,
      "grid_auto_flow": null,
      "grid_auto_rows": null,
      "grid_column": null,
      "grid_gap": null,
      "grid_row": null,
      "grid_template_areas": null,
      "grid_template_columns": null,
      "grid_template_rows": null,
      "height": null,
      "justify_content": null,
      "justify_items": null,
      "left": null,
      "margin": null,
      "max_height": null,
      "max_width": null,
      "min_height": null,
      "min_width": null,
      "object_fit": null,
      "object_position": null,
      "order": null,
      "overflow": null,
      "overflow_x": null,
      "overflow_y": null,
      "padding": null,
      "right": null,
      "top": null,
      "visibility": null,
      "width": null
     }
    },
    "2b0cb2f18d9448e58d3698f205391a9c": {
     "model_module": "@jupyter-widgets/controls",
     "model_module_version": "1.5.0",
     "model_name": "HTMLModel",
     "state": {
      "_dom_classes": [],
      "_model_module": "@jupyter-widgets/controls",
      "_model_module_version": "1.5.0",
      "_model_name": "HTMLModel",
      "_view_count": null,
      "_view_module": "@jupyter-widgets/controls",
      "_view_module_version": "1.5.0",
      "_view_name": "HTMLView",
      "description": "",
      "description_tooltip": null,
      "layout": "IPY_MODEL_19ae643ef4cc470ba353a1a5749cb8d7",
      "placeholder": "​",
      "style": "IPY_MODEL_7fbbe6e69cd9450fa0f0aba93532138c",
      "value": "Downloading (…)lve/main/config.json: 100%"
     }
    },
    "2c6c6bf4c64d408389bc870dc142c318": {
     "model_module": "@jupyter-widgets/controls",
     "model_module_version": "1.5.0",
     "model_name": "HTMLModel",
     "state": {
      "_dom_classes": [],
      "_model_module": "@jupyter-widgets/controls",
      "_model_module_version": "1.5.0",
      "_model_name": "HTMLModel",
      "_view_count": null,
      "_view_module": "@jupyter-widgets/controls",
      "_view_module_version": "1.5.0",
      "_view_name": "HTMLView",
      "description": "",
      "description_tooltip": null,
      "layout": "IPY_MODEL_1c1b8b1f7c3344a88ff7591f4ba6f8ad",
      "placeholder": "​",
      "style": "IPY_MODEL_ccbc26a7240e4ab28479f80f59b2abaf",
      "value": "Saving the dataset (1/1 shards): 100%"
     }
    },
    "2e4d0f0147f14f109fe57a2625db87c0": {
     "model_module": "@jupyter-widgets/controls",
     "model_module_version": "1.5.0",
     "model_name": "HBoxModel",
     "state": {
      "_dom_classes": [],
      "_model_module": "@jupyter-widgets/controls",
      "_model_module_version": "1.5.0",
      "_model_name": "HBoxModel",
      "_view_count": null,
      "_view_module": "@jupyter-widgets/controls",
      "_view_module_version": "1.5.0",
      "_view_name": "HBoxView",
      "box_style": "",
      "children": [
       "IPY_MODEL_f69bc95c547f4736b851589bffc65fc0",
       "IPY_MODEL_95b9361d62fb4140a326f16b994045e0",
       "IPY_MODEL_045c43a6f44c4dfca60c83f605971c09"
      ],
      "layout": "IPY_MODEL_0266e96fa6284979b24cd8200148a196"
     }
    },
    "2ff34c12400e45988eb30778eeae7f12": {
     "model_module": "@jupyter-widgets/controls",
     "model_module_version": "1.5.0",
     "model_name": "ProgressStyleModel",
     "state": {
      "_model_module": "@jupyter-widgets/controls",
      "_model_module_version": "1.5.0",
      "_model_name": "ProgressStyleModel",
      "_view_count": null,
      "_view_module": "@jupyter-widgets/base",
      "_view_module_version": "1.2.0",
      "_view_name": "StyleView",
      "bar_color": null,
      "description_width": ""
     }
    },
    "30732fe81d5e41349cd5afd305560877": {
     "model_module": "@jupyter-widgets/controls",
     "model_module_version": "1.5.0",
     "model_name": "ProgressStyleModel",
     "state": {
      "_model_module": "@jupyter-widgets/controls",
      "_model_module_version": "1.5.0",
      "_model_name": "ProgressStyleModel",
      "_view_count": null,
      "_view_module": "@jupyter-widgets/base",
      "_view_module_version": "1.2.0",
      "_view_name": "StyleView",
      "bar_color": null,
      "description_width": ""
     }
    },
    "31e713ac598c4e9ab53043ff3b54bd75": {
     "model_module": "@jupyter-widgets/controls",
     "model_module_version": "1.5.0",
     "model_name": "DescriptionStyleModel",
     "state": {
      "_model_module": "@jupyter-widgets/controls",
      "_model_module_version": "1.5.0",
      "_model_name": "DescriptionStyleModel",
      "_view_count": null,
      "_view_module": "@jupyter-widgets/base",
      "_view_module_version": "1.2.0",
      "_view_name": "StyleView",
      "description_width": ""
     }
    },
    "3331eefb13eb4abcaa4657982861a86f": {
     "model_module": "@jupyter-widgets/base",
     "model_module_version": "1.2.0",
     "model_name": "LayoutModel",
     "state": {
      "_model_module": "@jupyter-widgets/base",
      "_model_module_version": "1.2.0",
      "_model_name": "LayoutModel",
      "_view_count": null,
      "_view_module": "@jupyter-widgets/base",
      "_view_module_version": "1.2.0",
      "_view_name": "LayoutView",
      "align_content": null,
      "align_items": null,
      "align_self": null,
      "border": null,
      "bottom": null,
      "display": null,
      "flex": null,
      "flex_flow": null,
      "grid_area": null,
      "grid_auto_columns": null,
      "grid_auto_flow": null,
      "grid_auto_rows": null,
      "grid_column": null,
      "grid_gap": null,
      "grid_row": null,
      "grid_template_areas": null,
      "grid_template_columns": null,
      "grid_template_rows": null,
      "height": null,
      "justify_content": null,
      "justify_items": null,
      "left": null,
      "margin": null,
      "max_height": null,
      "max_width": null,
      "min_height": null,
      "min_width": null,
      "object_fit": null,
      "object_position": null,
      "order": null,
      "overflow": null,
      "overflow_x": null,
      "overflow_y": null,
      "padding": null,
      "right": null,
      "top": null,
      "visibility": null,
      "width": null
     }
    },
    "3680ed5749424f3d88ceec24446a422e": {
     "model_module": "@jupyter-widgets/controls",
     "model_module_version": "1.5.0",
     "model_name": "HTMLModel",
     "state": {
      "_dom_classes": [],
      "_model_module": "@jupyter-widgets/controls",
      "_model_module_version": "1.5.0",
      "_model_name": "HTMLModel",
      "_view_count": null,
      "_view_module": "@jupyter-widgets/controls",
      "_view_module_version": "1.5.0",
      "_view_name": "HTMLView",
      "description": "",
      "description_tooltip": null,
      "layout": "IPY_MODEL_c245c4e781e04ababb676e5982c71b2e",
      "placeholder": "​",
      "style": "IPY_MODEL_820b87f785944cf6b72cb2bac0628cbe",
      "value": "Downloading pytorch_model.bin: 100%"
     }
    },
    "369ae81a2d9b4fd5b2acde9e640562be": {
     "model_module": "@jupyter-widgets/base",
     "model_module_version": "1.2.0",
     "model_name": "LayoutModel",
     "state": {
      "_model_module": "@jupyter-widgets/base",
      "_model_module_version": "1.2.0",
      "_model_name": "LayoutModel",
      "_view_count": null,
      "_view_module": "@jupyter-widgets/base",
      "_view_module_version": "1.2.0",
      "_view_name": "LayoutView",
      "align_content": null,
      "align_items": null,
      "align_self": null,
      "border": null,
      "bottom": null,
      "display": null,
      "flex": null,
      "flex_flow": null,
      "grid_area": null,
      "grid_auto_columns": null,
      "grid_auto_flow": null,
      "grid_auto_rows": null,
      "grid_column": null,
      "grid_gap": null,
      "grid_row": null,
      "grid_template_areas": null,
      "grid_template_columns": null,
      "grid_template_rows": null,
      "height": null,
      "justify_content": null,
      "justify_items": null,
      "left": null,
      "margin": null,
      "max_height": null,
      "max_width": null,
      "min_height": null,
      "min_width": null,
      "object_fit": null,
      "object_position": null,
      "order": null,
      "overflow": null,
      "overflow_x": null,
      "overflow_y": null,
      "padding": null,
      "right": null,
      "top": null,
      "visibility": null,
      "width": null
     }
    },
    "3d603950bc1b45faa1d3d960025e3159": {
     "model_module": "@jupyter-widgets/base",
     "model_module_version": "1.2.0",
     "model_name": "LayoutModel",
     "state": {
      "_model_module": "@jupyter-widgets/base",
      "_model_module_version": "1.2.0",
      "_model_name": "LayoutModel",
      "_view_count": null,
      "_view_module": "@jupyter-widgets/base",
      "_view_module_version": "1.2.0",
      "_view_name": "LayoutView",
      "align_content": null,
      "align_items": null,
      "align_self": null,
      "border": null,
      "bottom": null,
      "display": null,
      "flex": null,
      "flex_flow": null,
      "grid_area": null,
      "grid_auto_columns": null,
      "grid_auto_flow": null,
      "grid_auto_rows": null,
      "grid_column": null,
      "grid_gap": null,
      "grid_row": null,
      "grid_template_areas": null,
      "grid_template_columns": null,
      "grid_template_rows": null,
      "height": null,
      "justify_content": null,
      "justify_items": null,
      "left": null,
      "margin": null,
      "max_height": null,
      "max_width": null,
      "min_height": null,
      "min_width": null,
      "object_fit": null,
      "object_position": null,
      "order": null,
      "overflow": null,
      "overflow_x": null,
      "overflow_y": null,
      "padding": null,
      "right": null,
      "top": null,
      "visibility": null,
      "width": null
     }
    },
    "3ebe40938f844b259e8337c9a6b2868e": {
     "model_module": "@jupyter-widgets/controls",
     "model_module_version": "1.5.0",
     "model_name": "ProgressStyleModel",
     "state": {
      "_model_module": "@jupyter-widgets/controls",
      "_model_module_version": "1.5.0",
      "_model_name": "ProgressStyleModel",
      "_view_count": null,
      "_view_module": "@jupyter-widgets/base",
      "_view_module_version": "1.2.0",
      "_view_name": "StyleView",
      "bar_color": null,
      "description_width": ""
     }
    },
    "3f620499b7444dc8a3183309682dba11": {
     "model_module": "@jupyter-widgets/controls",
     "model_module_version": "1.5.0",
     "model_name": "HTMLModel",
     "state": {
      "_dom_classes": [],
      "_model_module": "@jupyter-widgets/controls",
      "_model_module_version": "1.5.0",
      "_model_name": "HTMLModel",
      "_view_count": null,
      "_view_module": "@jupyter-widgets/controls",
      "_view_module_version": "1.5.0",
      "_view_name": "HTMLView",
      "description": "",
      "description_tooltip": null,
      "layout": "IPY_MODEL_5ed9ffbbebdf4900a4e0d4293d9ef8db",
      "placeholder": "​",
      "style": "IPY_MODEL_a6df9083c2374834a2d27057bb5ed162",
      "value": "Map: 100%"
     }
    },
    "4028330d32a846609f4978d73697b9b1": {
     "model_module": "@jupyter-widgets/base",
     "model_module_version": "1.2.0",
     "model_name": "LayoutModel",
     "state": {
      "_model_module": "@jupyter-widgets/base",
      "_model_module_version": "1.2.0",
      "_model_name": "LayoutModel",
      "_view_count": null,
      "_view_module": "@jupyter-widgets/base",
      "_view_module_version": "1.2.0",
      "_view_name": "LayoutView",
      "align_content": null,
      "align_items": null,
      "align_self": null,
      "border": null,
      "bottom": null,
      "display": null,
      "flex": null,
      "flex_flow": null,
      "grid_area": null,
      "grid_auto_columns": null,
      "grid_auto_flow": null,
      "grid_auto_rows": null,
      "grid_column": null,
      "grid_gap": null,
      "grid_row": null,
      "grid_template_areas": null,
      "grid_template_columns": null,
      "grid_template_rows": null,
      "height": null,
      "justify_content": null,
      "justify_items": null,
      "left": null,
      "margin": null,
      "max_height": null,
      "max_width": null,
      "min_height": null,
      "min_width": null,
      "object_fit": null,
      "object_position": null,
      "order": null,
      "overflow": null,
      "overflow_x": null,
      "overflow_y": null,
      "padding": null,
      "right": null,
      "top": null,
      "visibility": null,
      "width": null
     }
    },
    "4079db89c4ee45fd81b71071d208ded5": {
     "model_module": "@jupyter-widgets/controls",
     "model_module_version": "1.5.0",
     "model_name": "HTMLModel",
     "state": {
      "_dom_classes": [],
      "_model_module": "@jupyter-widgets/controls",
      "_model_module_version": "1.5.0",
      "_model_name": "HTMLModel",
      "_view_count": null,
      "_view_module": "@jupyter-widgets/controls",
      "_view_module_version": "1.5.0",
      "_view_name": "HTMLView",
      "description": "",
      "description_tooltip": null,
      "layout": "IPY_MODEL_c9c8b7ac620c4d92a97bd258883bcc99",
      "placeholder": "​",
      "style": "IPY_MODEL_f2bf1b7045b0430cb49eac280c850dcc",
      "value": " 1960/1960 [00:03&lt;00:00, 500.73 examples/s]"
     }
    },
    "451c7c9d99b4460c962f39612d34bfe8": {
     "model_module": "@jupyter-widgets/base",
     "model_module_version": "1.2.0",
     "model_name": "LayoutModel",
     "state": {
      "_model_module": "@jupyter-widgets/base",
      "_model_module_version": "1.2.0",
      "_model_name": "LayoutModel",
      "_view_count": null,
      "_view_module": "@jupyter-widgets/base",
      "_view_module_version": "1.2.0",
      "_view_name": "LayoutView",
      "align_content": null,
      "align_items": null,
      "align_self": null,
      "border": null,
      "bottom": null,
      "display": null,
      "flex": null,
      "flex_flow": null,
      "grid_area": null,
      "grid_auto_columns": null,
      "grid_auto_flow": null,
      "grid_auto_rows": null,
      "grid_column": null,
      "grid_gap": null,
      "grid_row": null,
      "grid_template_areas": null,
      "grid_template_columns": null,
      "grid_template_rows": null,
      "height": null,
      "justify_content": null,
      "justify_items": null,
      "left": null,
      "margin": null,
      "max_height": null,
      "max_width": null,
      "min_height": null,
      "min_width": null,
      "object_fit": null,
      "object_position": null,
      "order": null,
      "overflow": null,
      "overflow_x": null,
      "overflow_y": null,
      "padding": null,
      "right": null,
      "top": null,
      "visibility": null,
      "width": null
     }
    },
    "45cd8a7663804a24a647e1146d6e218c": {
     "model_module": "@jupyter-widgets/base",
     "model_module_version": "1.2.0",
     "model_name": "LayoutModel",
     "state": {
      "_model_module": "@jupyter-widgets/base",
      "_model_module_version": "1.2.0",
      "_model_name": "LayoutModel",
      "_view_count": null,
      "_view_module": "@jupyter-widgets/base",
      "_view_module_version": "1.2.0",
      "_view_name": "LayoutView",
      "align_content": null,
      "align_items": null,
      "align_self": null,
      "border": null,
      "bottom": null,
      "display": null,
      "flex": null,
      "flex_flow": null,
      "grid_area": null,
      "grid_auto_columns": null,
      "grid_auto_flow": null,
      "grid_auto_rows": null,
      "grid_column": null,
      "grid_gap": null,
      "grid_row": null,
      "grid_template_areas": null,
      "grid_template_columns": null,
      "grid_template_rows": null,
      "height": null,
      "justify_content": null,
      "justify_items": null,
      "left": null,
      "margin": null,
      "max_height": null,
      "max_width": null,
      "min_height": null,
      "min_width": null,
      "object_fit": null,
      "object_position": null,
      "order": null,
      "overflow": null,
      "overflow_x": null,
      "overflow_y": null,
      "padding": null,
      "right": null,
      "top": null,
      "visibility": null,
      "width": null
     }
    },
    "473e141c416c402282d7eb28e81d2514": {
     "model_module": "@jupyter-widgets/controls",
     "model_module_version": "1.5.0",
     "model_name": "DescriptionStyleModel",
     "state": {
      "_model_module": "@jupyter-widgets/controls",
      "_model_module_version": "1.5.0",
      "_model_name": "DescriptionStyleModel",
      "_view_count": null,
      "_view_module": "@jupyter-widgets/base",
      "_view_module_version": "1.2.0",
      "_view_name": "StyleView",
      "description_width": ""
     }
    },
    "4860e6f6588f4cb6946230d6f0514681": {
     "model_module": "@jupyter-widgets/base",
     "model_module_version": "1.2.0",
     "model_name": "LayoutModel",
     "state": {
      "_model_module": "@jupyter-widgets/base",
      "_model_module_version": "1.2.0",
      "_model_name": "LayoutModel",
      "_view_count": null,
      "_view_module": "@jupyter-widgets/base",
      "_view_module_version": "1.2.0",
      "_view_name": "LayoutView",
      "align_content": null,
      "align_items": null,
      "align_self": null,
      "border": null,
      "bottom": null,
      "display": null,
      "flex": null,
      "flex_flow": null,
      "grid_area": null,
      "grid_auto_columns": null,
      "grid_auto_flow": null,
      "grid_auto_rows": null,
      "grid_column": null,
      "grid_gap": null,
      "grid_row": null,
      "grid_template_areas": null,
      "grid_template_columns": null,
      "grid_template_rows": null,
      "height": null,
      "justify_content": null,
      "justify_items": null,
      "left": null,
      "margin": null,
      "max_height": null,
      "max_width": null,
      "min_height": null,
      "min_width": null,
      "object_fit": null,
      "object_position": null,
      "order": null,
      "overflow": null,
      "overflow_x": null,
      "overflow_y": null,
      "padding": null,
      "right": null,
      "top": null,
      "visibility": null,
      "width": null
     }
    },
    "4bb132be67584306bcb6d8aa676988fd": {
     "model_module": "@jupyter-widgets/controls",
     "model_module_version": "1.5.0",
     "model_name": "FloatProgressModel",
     "state": {
      "_dom_classes": [],
      "_model_module": "@jupyter-widgets/controls",
      "_model_module_version": "1.5.0",
      "_model_name": "FloatProgressModel",
      "_view_count": null,
      "_view_module": "@jupyter-widgets/controls",
      "_view_module_version": "1.5.0",
      "_view_name": "ProgressView",
      "bar_style": "success",
      "description": "",
      "description_tooltip": null,
      "layout": "IPY_MODEL_e37c031d0a9142179542dc7d9951dd14",
      "max": 113,
      "min": 0,
      "orientation": "horizontal",
      "style": "IPY_MODEL_c9a9c78f7346435ab0efae8f97dc19bb",
      "value": 113
     }
    },
    "4bb5932922dc44dbbc83217a3813db6d": {
     "model_module": "@jupyter-widgets/controls",
     "model_module_version": "1.5.0",
     "model_name": "HTMLModel",
     "state": {
      "_dom_classes": [],
      "_model_module": "@jupyter-widgets/controls",
      "_model_module_version": "1.5.0",
      "_model_name": "HTMLModel",
      "_view_count": null,
      "_view_module": "@jupyter-widgets/controls",
      "_view_module_version": "1.5.0",
      "_view_name": "HTMLView",
      "description": "",
      "description_tooltip": null,
      "layout": "IPY_MODEL_c228650f2e5042279e561438d06f01eb",
      "placeholder": "​",
      "style": "IPY_MODEL_b445ae1469554d8e9614f75f16ece9bd",
      "value": " 232k/232k [00:00&lt;00:00, 1.93MB/s]"
     }
    },
    "4dea8848f8b54a54961d881c1f18f9bf": {
     "model_module": "@jupyter-widgets/controls",
     "model_module_version": "1.5.0",
     "model_name": "DescriptionStyleModel",
     "state": {
      "_model_module": "@jupyter-widgets/controls",
      "_model_module_version": "1.5.0",
      "_model_name": "DescriptionStyleModel",
      "_view_count": null,
      "_view_module": "@jupyter-widgets/base",
      "_view_module_version": "1.2.0",
      "_view_name": "StyleView",
      "description_width": ""
     }
    },
    "4e79ab4170a84e04b35d1e0f87b34068": {
     "model_module": "@jupyter-widgets/controls",
     "model_module_version": "1.5.0",
     "model_name": "HBoxModel",
     "state": {
      "_dom_classes": [],
      "_model_module": "@jupyter-widgets/controls",
      "_model_module_version": "1.5.0",
      "_model_name": "HBoxModel",
      "_view_count": null,
      "_view_module": "@jupyter-widgets/controls",
      "_view_module_version": "1.5.0",
      "_view_name": "HBoxView",
      "box_style": "",
      "children": [
       "IPY_MODEL_9727f76dfa3546489c4bb033139f99f2",
       "IPY_MODEL_a162e378ed654a19943d7e92095bb527",
       "IPY_MODEL_53b94f0defcb40ae92774d3eb70d7427"
      ],
      "layout": "IPY_MODEL_ea3e1884043447bfa29115760b07a4c0"
     }
    },
    "4ee6dc31ba434a28afb9a504b659a7e7": {
     "model_module": "@jupyter-widgets/controls",
     "model_module_version": "1.5.0",
     "model_name": "FloatProgressModel",
     "state": {
      "_dom_classes": [],
      "_model_module": "@jupyter-widgets/controls",
      "_model_module_version": "1.5.0",
      "_model_name": "FloatProgressModel",
      "_view_count": null,
      "_view_module": "@jupyter-widgets/controls",
      "_view_module_version": "1.5.0",
      "_view_name": "ProgressView",
      "bar_style": "",
      "description": "",
      "description_tooltip": null,
      "layout": "IPY_MODEL_451c7c9d99b4460c962f39612d34bfe8",
      "max": 1,
      "min": 0,
      "orientation": "horizontal",
      "style": "IPY_MODEL_acfea9b4e73346688eee975aeb8ee6d6",
      "value": 0.05811881188118812
     }
    },
    "50dd2b3160a44562939f54e27417e7b4": {
     "model_module": "@jupyter-widgets/controls",
     "model_module_version": "1.5.0",
     "model_name": "DescriptionStyleModel",
     "state": {
      "_model_module": "@jupyter-widgets/controls",
      "_model_module_version": "1.5.0",
      "_model_name": "DescriptionStyleModel",
      "_view_count": null,
      "_view_module": "@jupyter-widgets/base",
      "_view_module_version": "1.2.0",
      "_view_name": "StyleView",
      "description_width": ""
     }
    },
    "5110628cc43346e088e3c2931b5848e7": {
     "model_module": "@jupyter-widgets/base",
     "model_module_version": "1.2.0",
     "model_name": "LayoutModel",
     "state": {
      "_model_module": "@jupyter-widgets/base",
      "_model_module_version": "1.2.0",
      "_model_name": "LayoutModel",
      "_view_count": null,
      "_view_module": "@jupyter-widgets/base",
      "_view_module_version": "1.2.0",
      "_view_name": "LayoutView",
      "align_content": null,
      "align_items": null,
      "align_self": null,
      "border": null,
      "bottom": null,
      "display": null,
      "flex": null,
      "flex_flow": null,
      "grid_area": null,
      "grid_auto_columns": null,
      "grid_auto_flow": null,
      "grid_auto_rows": null,
      "grid_column": null,
      "grid_gap": null,
      "grid_row": null,
      "grid_template_areas": null,
      "grid_template_columns": null,
      "grid_template_rows": null,
      "height": null,
      "justify_content": null,
      "justify_items": null,
      "left": null,
      "margin": null,
      "max_height": null,
      "max_width": null,
      "min_height": null,
      "min_width": null,
      "object_fit": null,
      "object_position": null,
      "order": null,
      "overflow": null,
      "overflow_x": null,
      "overflow_y": null,
      "padding": null,
      "right": null,
      "top": null,
      "visibility": null,
      "width": null
     }
    },
    "5260e81605d0433ab58bc226261e1c55": {
     "model_module": "@jupyter-widgets/controls",
     "model_module_version": "1.5.0",
     "model_name": "FloatProgressModel",
     "state": {
      "_dom_classes": [],
      "_model_module": "@jupyter-widgets/controls",
      "_model_module_version": "1.5.0",
      "_model_name": "FloatProgressModel",
      "_view_count": null,
      "_view_module": "@jupyter-widgets/controls",
      "_view_module_version": "1.5.0",
      "_view_name": "ProgressView",
      "bar_style": "success",
      "description": "",
      "description_tooltip": null,
      "layout": "IPY_MODEL_3d603950bc1b45faa1d3d960025e3159",
      "max": 437,
      "min": 0,
      "orientation": "horizontal",
      "style": "IPY_MODEL_b34ebf1df1b540e88447c0ac942a95e3",
      "value": 437
     }
    },
    "53b94f0defcb40ae92774d3eb70d7427": {
     "model_module": "@jupyter-widgets/controls",
     "model_module_version": "1.5.0",
     "model_name": "HTMLModel",
     "state": {
      "_dom_classes": [],
      "_model_module": "@jupyter-widgets/controls",
      "_model_module_version": "1.5.0",
      "_model_name": "HTMLModel",
      "_view_count": null,
      "_view_module": "@jupyter-widgets/controls",
      "_view_module_version": "1.5.0",
      "_view_name": "HTMLView",
      "description": "",
      "description_tooltip": null,
      "layout": "IPY_MODEL_6bf8b84907f84d9fb2208065e57f0c82",
      "placeholder": "​",
      "style": "IPY_MODEL_035c46dabd494a5b89e4d8f8c72b6163",
      "value": " 3/3 [00:00&lt;00:00, 65.05it/s]"
     }
    },
    "5655b70d10be485cb71c1aa8d6ea5512": {
     "model_module": "@jupyter-widgets/controls",
     "model_module_version": "1.5.0",
     "model_name": "HBoxModel",
     "state": {
      "_dom_classes": [],
      "_model_module": "@jupyter-widgets/controls",
      "_model_module_version": "1.5.0",
      "_model_name": "HBoxModel",
      "_view_count": null,
      "_view_module": "@jupyter-widgets/controls",
      "_view_module_version": "1.5.0",
      "_view_name": "HBoxView",
      "box_style": "",
      "children": [
       "IPY_MODEL_3f620499b7444dc8a3183309682dba11",
       "IPY_MODEL_e9ded60add654b44b15e370ba659a2bb",
       "IPY_MODEL_4079db89c4ee45fd81b71071d208ded5"
      ],
      "layout": "IPY_MODEL_b4a8ec1a7e354b3380b93be76909994c"
     }
    },
    "573841ca6b4d4d87b2cc67105a4c6077": {
     "model_module": "@jupyter-widgets/controls",
     "model_module_version": "1.5.0",
     "model_name": "HTMLModel",
     "state": {
      "_dom_classes": [],
      "_model_module": "@jupyter-widgets/controls",
      "_model_module_version": "1.5.0",
      "_model_name": "HTMLModel",
      "_view_count": null,
      "_view_module": "@jupyter-widgets/controls",
      "_view_module_version": "1.5.0",
      "_view_name": "HTMLView",
      "description": "",
      "description_tooltip": null,
      "layout": "IPY_MODEL_e2b19480ff274b1ab41704388e792042",
      "placeholder": "​",
      "style": "IPY_MODEL_a9212ec83ccf4cd69f2396de13a0018c",
      "value": " 1906/1906 [00:00&lt;00:00, 58119.97 examples/s]"
     }
    },
    "57bb93110cfd4c1a979ff7b481a66a48": {
     "model_module": "@jupyter-widgets/controls",
     "model_module_version": "1.5.0",
     "model_name": "HBoxModel",
     "state": {
      "_dom_classes": [],
      "_model_module": "@jupyter-widgets/controls",
      "_model_module_version": "1.5.0",
      "_model_name": "HBoxModel",
      "_view_count": null,
      "_view_module": "@jupyter-widgets/controls",
      "_view_module_version": "1.5.0",
      "_view_name": "HBoxView",
      "box_style": "",
      "children": [
       "IPY_MODEL_d9e9e488a27e4fc0929f864ad339dba2",
       "IPY_MODEL_a89c1c1578234abe9ea9b6b3cf041916",
       "IPY_MODEL_4bb5932922dc44dbbc83217a3813db6d"
      ],
      "layout": "IPY_MODEL_c539094df6b749aaa1c676a3080537a4"
     }
    },
    "59349299aa9a43da960045d201506c4d": {
     "model_module": "@jupyter-widgets/base",
     "model_module_version": "1.2.0",
     "model_name": "LayoutModel",
     "state": {
      "_model_module": "@jupyter-widgets/base",
      "_model_module_version": "1.2.0",
      "_model_name": "LayoutModel",
      "_view_count": null,
      "_view_module": "@jupyter-widgets/base",
      "_view_module_version": "1.2.0",
      "_view_name": "LayoutView",
      "align_content": null,
      "align_items": null,
      "align_self": null,
      "border": null,
      "bottom": null,
      "display": null,
      "flex": null,
      "flex_flow": null,
      "grid_area": null,
      "grid_auto_columns": null,
      "grid_auto_flow": null,
      "grid_auto_rows": null,
      "grid_column": null,
      "grid_gap": null,
      "grid_row": null,
      "grid_template_areas": null,
      "grid_template_columns": null,
      "grid_template_rows": null,
      "height": null,
      "justify_content": null,
      "justify_items": null,
      "left": null,
      "margin": null,
      "max_height": null,
      "max_width": null,
      "min_height": null,
      "min_width": null,
      "object_fit": null,
      "object_position": null,
      "order": null,
      "overflow": null,
      "overflow_x": null,
      "overflow_y": null,
      "padding": null,
      "right": null,
      "top": null,
      "visibility": null,
      "width": null
     }
    },
    "5c82699614424cc08eb4112218dbdef9": {
     "model_module": "@jupyter-widgets/controls",
     "model_module_version": "1.5.0",
     "model_name": "ProgressStyleModel",
     "state": {
      "_model_module": "@jupyter-widgets/controls",
      "_model_module_version": "1.5.0",
      "_model_name": "ProgressStyleModel",
      "_view_count": null,
      "_view_module": "@jupyter-widgets/base",
      "_view_module_version": "1.2.0",
      "_view_name": "StyleView",
      "bar_color": null,
      "description_width": ""
     }
    },
    "5ed9ffbbebdf4900a4e0d4293d9ef8db": {
     "model_module": "@jupyter-widgets/base",
     "model_module_version": "1.2.0",
     "model_name": "LayoutModel",
     "state": {
      "_model_module": "@jupyter-widgets/base",
      "_model_module_version": "1.2.0",
      "_model_name": "LayoutModel",
      "_view_count": null,
      "_view_module": "@jupyter-widgets/base",
      "_view_module_version": "1.2.0",
      "_view_name": "LayoutView",
      "align_content": null,
      "align_items": null,
      "align_self": null,
      "border": null,
      "bottom": null,
      "display": null,
      "flex": null,
      "flex_flow": null,
      "grid_area": null,
      "grid_auto_columns": null,
      "grid_auto_flow": null,
      "grid_auto_rows": null,
      "grid_column": null,
      "grid_gap": null,
      "grid_row": null,
      "grid_template_areas": null,
      "grid_template_columns": null,
      "grid_template_rows": null,
      "height": null,
      "justify_content": null,
      "justify_items": null,
      "left": null,
      "margin": null,
      "max_height": null,
      "max_width": null,
      "min_height": null,
      "min_width": null,
      "object_fit": null,
      "object_position": null,
      "order": null,
      "overflow": null,
      "overflow_x": null,
      "overflow_y": null,
      "padding": null,
      "right": null,
      "top": null,
      "visibility": null,
      "width": null
     }
    },
    "63029fe074a143e09f1f7f3388a571ed": {
     "model_module": "@jupyter-widgets/controls",
     "model_module_version": "1.5.0",
     "model_name": "DescriptionStyleModel",
     "state": {
      "_model_module": "@jupyter-widgets/controls",
      "_model_module_version": "1.5.0",
      "_model_name": "DescriptionStyleModel",
      "_view_count": null,
      "_view_module": "@jupyter-widgets/base",
      "_view_module_version": "1.2.0",
      "_view_name": "StyleView",
      "description_width": ""
     }
    },
    "63c6c3cfc8704582ae8c82b04a561900": {
     "model_module": "@jupyter-widgets/controls",
     "model_module_version": "1.5.0",
     "model_name": "HBoxModel",
     "state": {
      "_dom_classes": [],
      "_model_module": "@jupyter-widgets/controls",
      "_model_module_version": "1.5.0",
      "_model_name": "HBoxModel",
      "_view_count": null,
      "_view_module": "@jupyter-widgets/controls",
      "_view_module_version": "1.5.0",
      "_view_name": "HBoxView",
      "box_style": "",
      "children": [
       "IPY_MODEL_2b0cb2f18d9448e58d3698f205391a9c",
       "IPY_MODEL_faeffa02d06d42e39a167e652f8a64dc",
       "IPY_MODEL_6f0304b0111444ebacaf4bf744d41732"
      ],
      "layout": "IPY_MODEL_0ad56b4ccfd143bdb0cda7d3ee26aec6"
     }
    },
    "65a9bbc8bf6948b0aa246e7151d40211": {
     "model_module": "@jupyter-widgets/controls",
     "model_module_version": "1.5.0",
     "model_name": "HTMLModel",
     "state": {
      "_dom_classes": [],
      "_model_module": "@jupyter-widgets/controls",
      "_model_module_version": "1.5.0",
      "_model_name": "HTMLModel",
      "_view_count": null,
      "_view_module": "@jupyter-widgets/controls",
      "_view_module_version": "1.5.0",
      "_view_name": "HTMLView",
      "description": "",
      "description_tooltip": null,
      "layout": "IPY_MODEL_4860e6f6588f4cb6946230d6f0514681",
      "placeholder": "​",
      "style": "IPY_MODEL_ad76922acf77404bbba809f36d45795d",
      "value": "100%"
     }
    },
    "65ba4bf183d746d78d2ba7fffd252a71": {
     "model_module": "@jupyter-widgets/controls",
     "model_module_version": "1.5.0",
     "model_name": "FloatProgressModel",
     "state": {
      "_dom_classes": [],
      "_model_module": "@jupyter-widgets/controls",
      "_model_module_version": "1.5.0",
      "_model_name": "FloatProgressModel",
      "_view_count": null,
      "_view_module": "@jupyter-widgets/controls",
      "_view_module_version": "1.5.0",
      "_view_name": "ProgressView",
      "bar_style": "",
      "description": "",
      "description_tooltip": null,
      "layout": "IPY_MODEL_674c7549dd6d47b6895269594e4dd54f",
      "max": 1960,
      "min": 0,
      "orientation": "horizontal",
      "style": "IPY_MODEL_21ebf6a0e6f0462093c2e75192c51ad6",
      "value": 1960
     }
    },
    "674c7549dd6d47b6895269594e4dd54f": {
     "model_module": "@jupyter-widgets/base",
     "model_module_version": "1.2.0",
     "model_name": "LayoutModel",
     "state": {
      "_model_module": "@jupyter-widgets/base",
      "_model_module_version": "1.2.0",
      "_model_name": "LayoutModel",
      "_view_count": null,
      "_view_module": "@jupyter-widgets/base",
      "_view_module_version": "1.2.0",
      "_view_name": "LayoutView",
      "align_content": null,
      "align_items": null,
      "align_self": null,
      "border": null,
      "bottom": null,
      "display": null,
      "flex": null,
      "flex_flow": null,
      "grid_area": null,
      "grid_auto_columns": null,
      "grid_auto_flow": null,
      "grid_auto_rows": null,
      "grid_column": null,
      "grid_gap": null,
      "grid_row": null,
      "grid_template_areas": null,
      "grid_template_columns": null,
      "grid_template_rows": null,
      "height": null,
      "justify_content": null,
      "justify_items": null,
      "left": null,
      "margin": null,
      "max_height": null,
      "max_width": null,
      "min_height": null,
      "min_width": null,
      "object_fit": null,
      "object_position": null,
      "order": null,
      "overflow": null,
      "overflow_x": null,
      "overflow_y": null,
      "padding": null,
      "right": null,
      "top": null,
      "visibility": null,
      "width": null
     }
    },
    "68b3100c8f8b45f9a98b406b7633d018": {
     "model_module": "@jupyter-widgets/base",
     "model_module_version": "1.2.0",
     "model_name": "LayoutModel",
     "state": {
      "_model_module": "@jupyter-widgets/base",
      "_model_module_version": "1.2.0",
      "_model_name": "LayoutModel",
      "_view_count": null,
      "_view_module": "@jupyter-widgets/base",
      "_view_module_version": "1.2.0",
      "_view_name": "LayoutView",
      "align_content": null,
      "align_items": null,
      "align_self": null,
      "border": null,
      "bottom": null,
      "display": null,
      "flex": null,
      "flex_flow": null,
      "grid_area": null,
      "grid_auto_columns": null,
      "grid_auto_flow": null,
      "grid_auto_rows": null,
      "grid_column": null,
      "grid_gap": null,
      "grid_row": null,
      "grid_template_areas": null,
      "grid_template_columns": null,
      "grid_template_rows": null,
      "height": null,
      "justify_content": null,
      "justify_items": null,
      "left": null,
      "margin": null,
      "max_height": null,
      "max_width": null,
      "min_height": null,
      "min_width": null,
      "object_fit": null,
      "object_position": null,
      "order": null,
      "overflow": null,
      "overflow_x": null,
      "overflow_y": null,
      "padding": null,
      "right": null,
      "top": null,
      "visibility": null,
      "width": null
     }
    },
    "69e276f2d853429db5d86da86c8f7c2d": {
     "model_module": "@jupyter-widgets/controls",
     "model_module_version": "1.5.0",
     "model_name": "DescriptionStyleModel",
     "state": {
      "_model_module": "@jupyter-widgets/controls",
      "_model_module_version": "1.5.0",
      "_model_name": "DescriptionStyleModel",
      "_view_count": null,
      "_view_module": "@jupyter-widgets/base",
      "_view_module_version": "1.2.0",
      "_view_name": "StyleView",
      "description_width": ""
     }
    },
    "6a38da77331f4316ad29190d3fd2f112": {
     "model_module": "@jupyter-widgets/controls",
     "model_module_version": "1.5.0",
     "model_name": "FloatProgressModel",
     "state": {
      "_dom_classes": [],
      "_model_module": "@jupyter-widgets/controls",
      "_model_module_version": "1.5.0",
      "_model_name": "FloatProgressModel",
      "_view_count": null,
      "_view_module": "@jupyter-widgets/controls",
      "_view_module_version": "1.5.0",
      "_view_name": "ProgressView",
      "bar_style": "success",
      "description": "",
      "description_tooltip": null,
      "layout": "IPY_MODEL_83658ccebb12495993eeabd32be6e001",
      "max": 466132,
      "min": 0,
      "orientation": "horizontal",
      "style": "IPY_MODEL_b3c1dbcef6cf450a89ff28d4d93d0fe7",
      "value": 466132
     }
    },
    "6a7d591fcad44845966c51639ea30e37": {
     "model_module": "@jupyter-widgets/controls",
     "model_module_version": "1.5.0",
     "model_name": "HTMLModel",
     "state": {
      "_dom_classes": [],
      "_model_module": "@jupyter-widgets/controls",
      "_model_module_version": "1.5.0",
      "_model_name": "HTMLModel",
      "_view_count": null,
      "_view_module": "@jupyter-widgets/controls",
      "_view_module_version": "1.5.0",
      "_view_name": "HTMLView",
      "description": "",
      "description_tooltip": null,
      "layout": "IPY_MODEL_951a72cbbb574d39925d2c0f1b71634a",
      "placeholder": "​",
      "style": "IPY_MODEL_1bbe7326487b402f9ba185fc9c37b49d",
      "value": " 1906/1906 [00:01&lt;00:00, 1393.37 examples/s]"
     }
    },
    "6b572040e54241fb899279030585ed34": {
     "model_module": "@jupyter-widgets/controls",
     "model_module_version": "1.5.0",
     "model_name": "HTMLModel",
     "state": {
      "_dom_classes": [],
      "_model_module": "@jupyter-widgets/controls",
      "_model_module_version": "1.5.0",
      "_model_name": "HTMLModel",
      "_view_count": null,
      "_view_module": "@jupyter-widgets/controls",
      "_view_module_version": "1.5.0",
      "_view_name": "HTMLView",
      "description": "",
      "description_tooltip": null,
      "layout": "IPY_MODEL_97e65421314a40b6bdd935c1d8aa9a97",
      "placeholder": "​",
      "style": "IPY_MODEL_7d4e6792e9894cdf872122ade4e55c08",
      "value": "Downloading (…)okenizer_config.json: 100%"
     }
    },
    "6bf8b84907f84d9fb2208065e57f0c82": {
     "model_module": "@jupyter-widgets/base",
     "model_module_version": "1.2.0",
     "model_name": "LayoutModel",
     "state": {
      "_model_module": "@jupyter-widgets/base",
      "_model_module_version": "1.2.0",
      "_model_name": "LayoutModel",
      "_view_count": null,
      "_view_module": "@jupyter-widgets/base",
      "_view_module_version": "1.2.0",
      "_view_name": "LayoutView",
      "align_content": null,
      "align_items": null,
      "align_self": null,
      "border": null,
      "bottom": null,
      "display": null,
      "flex": null,
      "flex_flow": null,
      "grid_area": null,
      "grid_auto_columns": null,
      "grid_auto_flow": null,
      "grid_auto_rows": null,
      "grid_column": null,
      "grid_gap": null,
      "grid_row": null,
      "grid_template_areas": null,
      "grid_template_columns": null,
      "grid_template_rows": null,
      "height": null,
      "justify_content": null,
      "justify_items": null,
      "left": null,
      "margin": null,
      "max_height": null,
      "max_width": null,
      "min_height": null,
      "min_width": null,
      "object_fit": null,
      "object_position": null,
      "order": null,
      "overflow": null,
      "overflow_x": null,
      "overflow_y": null,
      "padding": null,
      "right": null,
      "top": null,
      "visibility": null,
      "width": null
     }
    },
    "6d0e0f096e6448a0b475d2fc49db9407": {
     "model_module": "@jupyter-widgets/base",
     "model_module_version": "1.2.0",
     "model_name": "LayoutModel",
     "state": {
      "_model_module": "@jupyter-widgets/base",
      "_model_module_version": "1.2.0",
      "_model_name": "LayoutModel",
      "_view_count": null,
      "_view_module": "@jupyter-widgets/base",
      "_view_module_version": "1.2.0",
      "_view_name": "LayoutView",
      "align_content": null,
      "align_items": null,
      "align_self": null,
      "border": null,
      "bottom": null,
      "display": null,
      "flex": null,
      "flex_flow": null,
      "grid_area": null,
      "grid_auto_columns": null,
      "grid_auto_flow": null,
      "grid_auto_rows": null,
      "grid_column": null,
      "grid_gap": null,
      "grid_row": null,
      "grid_template_areas": null,
      "grid_template_columns": null,
      "grid_template_rows": null,
      "height": null,
      "justify_content": null,
      "justify_items": null,
      "left": null,
      "margin": null,
      "max_height": null,
      "max_width": null,
      "min_height": null,
      "min_width": null,
      "object_fit": null,
      "object_position": null,
      "order": null,
      "overflow": null,
      "overflow_x": null,
      "overflow_y": null,
      "padding": null,
      "right": null,
      "top": null,
      "visibility": "hidden",
      "width": null
     }
    },
    "6f0304b0111444ebacaf4bf744d41732": {
     "model_module": "@jupyter-widgets/controls",
     "model_module_version": "1.5.0",
     "model_name": "HTMLModel",
     "state": {
      "_dom_classes": [],
      "_model_module": "@jupyter-widgets/controls",
      "_model_module_version": "1.5.0",
      "_model_name": "HTMLModel",
      "_view_count": null,
      "_view_module": "@jupyter-widgets/controls",
      "_view_module_version": "1.5.0",
      "_view_name": "HTMLView",
      "description": "",
      "description_tooltip": null,
      "layout": "IPY_MODEL_7533171fea5940fcafc08159a710edfb",
      "placeholder": "​",
      "style": "IPY_MODEL_c705c94327ff4e278981e7cda6a82f02",
      "value": " 780/780 [00:00&lt;00:00, 26.7kB/s]"
     }
    },
    "718f50239a9240b1a8d65ef2e5d09f9c": {
     "model_module": "@jupyter-widgets/controls",
     "model_module_version": "1.5.0",
     "model_name": "HBoxModel",
     "state": {
      "_dom_classes": [],
      "_model_module": "@jupyter-widgets/controls",
      "_model_module_version": "1.5.0",
      "_model_name": "HBoxModel",
      "_view_count": null,
      "_view_module": "@jupyter-widgets/controls",
      "_view_module_version": "1.5.0",
      "_view_name": "HBoxView",
      "box_style": "",
      "children": [
       "IPY_MODEL_6b572040e54241fb899279030585ed34",
       "IPY_MODEL_5260e81605d0433ab58bc226261e1c55",
       "IPY_MODEL_d0b5f1b2f4a64ead99868314849316f6"
      ],
      "layout": "IPY_MODEL_b192a7007d6149999703a2e859216a9f"
     }
    },
    "7533171fea5940fcafc08159a710edfb": {
     "model_module": "@jupyter-widgets/base",
     "model_module_version": "1.2.0",
     "model_name": "LayoutModel",
     "state": {
      "_model_module": "@jupyter-widgets/base",
      "_model_module_version": "1.2.0",
      "_model_name": "LayoutModel",
      "_view_count": null,
      "_view_module": "@jupyter-widgets/base",
      "_view_module_version": "1.2.0",
      "_view_name": "LayoutView",
      "align_content": null,
      "align_items": null,
      "align_self": null,
      "border": null,
      "bottom": null,
      "display": null,
      "flex": null,
      "flex_flow": null,
      "grid_area": null,
      "grid_auto_columns": null,
      "grid_auto_flow": null,
      "grid_auto_rows": null,
      "grid_column": null,
      "grid_gap": null,
      "grid_row": null,
      "grid_template_areas": null,
      "grid_template_columns": null,
      "grid_template_rows": null,
      "height": null,
      "justify_content": null,
      "justify_items": null,
      "left": null,
      "margin": null,
      "max_height": null,
      "max_width": null,
      "min_height": null,
      "min_width": null,
      "object_fit": null,
      "object_position": null,
      "order": null,
      "overflow": null,
      "overflow_x": null,
      "overflow_y": null,
      "padding": null,
      "right": null,
      "top": null,
      "visibility": null,
      "width": null
     }
    },
    "76432869f12c40d785cb34e4f66386eb": {
     "model_module": "@jupyter-widgets/controls",
     "model_module_version": "1.5.0",
     "model_name": "DescriptionStyleModel",
     "state": {
      "_model_module": "@jupyter-widgets/controls",
      "_model_module_version": "1.5.0",
      "_model_name": "DescriptionStyleModel",
      "_view_count": null,
      "_view_module": "@jupyter-widgets/base",
      "_view_module_version": "1.2.0",
      "_view_name": "StyleView",
      "description_width": ""
     }
    },
    "76630526930e48589c509475f5a4ae19": {
     "model_module": "@jupyter-widgets/controls",
     "model_module_version": "1.5.0",
     "model_name": "HBoxModel",
     "state": {
      "_dom_classes": [],
      "_model_module": "@jupyter-widgets/controls",
      "_model_module_version": "1.5.0",
      "_model_name": "HBoxModel",
      "_view_count": null,
      "_view_module": "@jupyter-widgets/controls",
      "_view_module_version": "1.5.0",
      "_view_name": "HBoxView",
      "box_style": "",
      "children": [
       "IPY_MODEL_65a9bbc8bf6948b0aa246e7151d40211",
       "IPY_MODEL_4bb132be67584306bcb6d8aa676988fd",
       "IPY_MODEL_fcc52cd90ae0439997a6ecc5cf5123e6"
      ],
      "layout": "IPY_MODEL_858798b6f3e04e1cbba8d2ba1d3d8cfd"
     }
    },
    "771fd704e5904e738b7e61ef24e23b89": {
     "model_module": "@jupyter-widgets/controls",
     "model_module_version": "1.5.0",
     "model_name": "HBoxModel",
     "state": {
      "_dom_classes": [],
      "_model_module": "@jupyter-widgets/controls",
      "_model_module_version": "1.5.0",
      "_model_name": "HBoxModel",
      "_view_count": null,
      "_view_module": "@jupyter-widgets/controls",
      "_view_module_version": "1.5.0",
      "_view_name": "HBoxView",
      "box_style": "",
      "children": [
       "IPY_MODEL_2c6c6bf4c64d408389bc870dc142c318",
       "IPY_MODEL_65ba4bf183d746d78d2ba7fffd252a71",
       "IPY_MODEL_821f1da9c81a4c0293d4ca380dd3e5ca"
      ],
      "layout": "IPY_MODEL_7e884c0cf02547d2bb4577fe7cf83bd4"
     }
    },
    "7a0caba720ec472fa03ea6a83c44bab5": {
     "model_module": "@jupyter-widgets/controls",
     "model_module_version": "1.5.0",
     "model_name": "DescriptionStyleModel",
     "state": {
      "_model_module": "@jupyter-widgets/controls",
      "_model_module_version": "1.5.0",
      "_model_name": "DescriptionStyleModel",
      "_view_count": null,
      "_view_module": "@jupyter-widgets/base",
      "_view_module_version": "1.2.0",
      "_view_name": "StyleView",
      "description_width": ""
     }
    },
    "7b01df15021d4ddb8e7fa293abe3c185": {
     "model_module": "@jupyter-widgets/base",
     "model_module_version": "1.2.0",
     "model_name": "LayoutModel",
     "state": {
      "_model_module": "@jupyter-widgets/base",
      "_model_module_version": "1.2.0",
      "_model_name": "LayoutModel",
      "_view_count": null,
      "_view_module": "@jupyter-widgets/base",
      "_view_module_version": "1.2.0",
      "_view_name": "LayoutView",
      "align_content": null,
      "align_items": null,
      "align_self": null,
      "border": null,
      "bottom": null,
      "display": null,
      "flex": null,
      "flex_flow": null,
      "grid_area": null,
      "grid_auto_columns": null,
      "grid_auto_flow": null,
      "grid_auto_rows": null,
      "grid_column": null,
      "grid_gap": null,
      "grid_row": null,
      "grid_template_areas": null,
      "grid_template_columns": null,
      "grid_template_rows": null,
      "height": null,
      "justify_content": null,
      "justify_items": null,
      "left": null,
      "margin": null,
      "max_height": null,
      "max_width": null,
      "min_height": null,
      "min_width": null,
      "object_fit": null,
      "object_position": null,
      "order": null,
      "overflow": null,
      "overflow_x": null,
      "overflow_y": null,
      "padding": null,
      "right": null,
      "top": null,
      "visibility": "hidden",
      "width": null
     }
    },
    "7c3b5118c0364e62873d6983b0c9bf51": {
     "model_module": "@jupyter-widgets/base",
     "model_module_version": "1.2.0",
     "model_name": "LayoutModel",
     "state": {
      "_model_module": "@jupyter-widgets/base",
      "_model_module_version": "1.2.0",
      "_model_name": "LayoutModel",
      "_view_count": null,
      "_view_module": "@jupyter-widgets/base",
      "_view_module_version": "1.2.0",
      "_view_name": "LayoutView",
      "align_content": null,
      "align_items": null,
      "align_self": null,
      "border": null,
      "bottom": null,
      "display": null,
      "flex": null,
      "flex_flow": null,
      "grid_area": null,
      "grid_auto_columns": null,
      "grid_auto_flow": null,
      "grid_auto_rows": null,
      "grid_column": null,
      "grid_gap": null,
      "grid_row": null,
      "grid_template_areas": null,
      "grid_template_columns": null,
      "grid_template_rows": null,
      "height": null,
      "justify_content": null,
      "justify_items": null,
      "left": null,
      "margin": null,
      "max_height": null,
      "max_width": null,
      "min_height": null,
      "min_width": null,
      "object_fit": null,
      "object_position": null,
      "order": null,
      "overflow": null,
      "overflow_x": null,
      "overflow_y": null,
      "padding": null,
      "right": null,
      "top": null,
      "visibility": null,
      "width": null
     }
    },
    "7d4e6792e9894cdf872122ade4e55c08": {
     "model_module": "@jupyter-widgets/controls",
     "model_module_version": "1.5.0",
     "model_name": "DescriptionStyleModel",
     "state": {
      "_model_module": "@jupyter-widgets/controls",
      "_model_module_version": "1.5.0",
      "_model_name": "DescriptionStyleModel",
      "_view_count": null,
      "_view_module": "@jupyter-widgets/base",
      "_view_module_version": "1.2.0",
      "_view_name": "StyleView",
      "description_width": ""
     }
    },
    "7e287435a3e0460296f14e2c3c0b5873": {
     "model_module": "@jupyter-widgets/controls",
     "model_module_version": "1.5.0",
     "model_name": "HTMLModel",
     "state": {
      "_dom_classes": [],
      "_model_module": "@jupyter-widgets/controls",
      "_model_module_version": "1.5.0",
      "_model_name": "HTMLModel",
      "_view_count": null,
      "_view_module": "@jupyter-widgets/controls",
      "_view_module_version": "1.5.0",
      "_view_name": "HTMLView",
      "description": "",
      "description_tooltip": null,
      "layout": "IPY_MODEL_d91a6ca5d4204224b5dfa766b600865e",
      "placeholder": "​",
      "style": "IPY_MODEL_473e141c416c402282d7eb28e81d2514",
      "value": "Downloading (…)/main/tokenizer.json: 100%"
     }
    },
    "7e884c0cf02547d2bb4577fe7cf83bd4": {
     "model_module": "@jupyter-widgets/base",
     "model_module_version": "1.2.0",
     "model_name": "LayoutModel",
     "state": {
      "_model_module": "@jupyter-widgets/base",
      "_model_module_version": "1.2.0",
      "_model_name": "LayoutModel",
      "_view_count": null,
      "_view_module": "@jupyter-widgets/base",
      "_view_module_version": "1.2.0",
      "_view_name": "LayoutView",
      "align_content": null,
      "align_items": null,
      "align_self": null,
      "border": null,
      "bottom": null,
      "display": null,
      "flex": null,
      "flex_flow": null,
      "grid_area": null,
      "grid_auto_columns": null,
      "grid_auto_flow": null,
      "grid_auto_rows": null,
      "grid_column": null,
      "grid_gap": null,
      "grid_row": null,
      "grid_template_areas": null,
      "grid_template_columns": null,
      "grid_template_rows": null,
      "height": null,
      "justify_content": null,
      "justify_items": null,
      "left": null,
      "margin": null,
      "max_height": null,
      "max_width": null,
      "min_height": null,
      "min_width": null,
      "object_fit": null,
      "object_position": null,
      "order": null,
      "overflow": null,
      "overflow_x": null,
      "overflow_y": null,
      "padding": null,
      "right": null,
      "top": null,
      "visibility": "hidden",
      "width": null
     }
    },
    "7f33253c56f34355bfc171da453a37cf": {
     "model_module": "@jupyter-widgets/base",
     "model_module_version": "1.2.0",
     "model_name": "LayoutModel",
     "state": {
      "_model_module": "@jupyter-widgets/base",
      "_model_module_version": "1.2.0",
      "_model_name": "LayoutModel",
      "_view_count": null,
      "_view_module": "@jupyter-widgets/base",
      "_view_module_version": "1.2.0",
      "_view_name": "LayoutView",
      "align_content": null,
      "align_items": null,
      "align_self": null,
      "border": null,
      "bottom": null,
      "display": null,
      "flex": null,
      "flex_flow": null,
      "grid_area": null,
      "grid_auto_columns": null,
      "grid_auto_flow": null,
      "grid_auto_rows": null,
      "grid_column": null,
      "grid_gap": null,
      "grid_row": null,
      "grid_template_areas": null,
      "grid_template_columns": null,
      "grid_template_rows": null,
      "height": null,
      "justify_content": null,
      "justify_items": null,
      "left": null,
      "margin": null,
      "max_height": null,
      "max_width": null,
      "min_height": null,
      "min_width": null,
      "object_fit": null,
      "object_position": null,
      "order": null,
      "overflow": null,
      "overflow_x": null,
      "overflow_y": null,
      "padding": null,
      "right": null,
      "top": null,
      "visibility": null,
      "width": null
     }
    },
    "7f712e0fff96441ebcf85b99c47aba07": {
     "model_module": "@jupyter-widgets/base",
     "model_module_version": "1.2.0",
     "model_name": "LayoutModel",
     "state": {
      "_model_module": "@jupyter-widgets/base",
      "_model_module_version": "1.2.0",
      "_model_name": "LayoutModel",
      "_view_count": null,
      "_view_module": "@jupyter-widgets/base",
      "_view_module_version": "1.2.0",
      "_view_name": "LayoutView",
      "align_content": null,
      "align_items": null,
      "align_self": null,
      "border": null,
      "bottom": null,
      "display": null,
      "flex": null,
      "flex_flow": null,
      "grid_area": null,
      "grid_auto_columns": null,
      "grid_auto_flow": null,
      "grid_auto_rows": null,
      "grid_column": null,
      "grid_gap": null,
      "grid_row": null,
      "grid_template_areas": null,
      "grid_template_columns": null,
      "grid_template_rows": null,
      "height": null,
      "justify_content": null,
      "justify_items": null,
      "left": null,
      "margin": null,
      "max_height": null,
      "max_width": null,
      "min_height": null,
      "min_width": null,
      "object_fit": null,
      "object_position": null,
      "order": null,
      "overflow": null,
      "overflow_x": null,
      "overflow_y": null,
      "padding": null,
      "right": null,
      "top": null,
      "visibility": null,
      "width": null
     }
    },
    "7fbbe6e69cd9450fa0f0aba93532138c": {
     "model_module": "@jupyter-widgets/controls",
     "model_module_version": "1.5.0",
     "model_name": "DescriptionStyleModel",
     "state": {
      "_model_module": "@jupyter-widgets/controls",
      "_model_module_version": "1.5.0",
      "_model_name": "DescriptionStyleModel",
      "_view_count": null,
      "_view_module": "@jupyter-widgets/base",
      "_view_module_version": "1.2.0",
      "_view_name": "StyleView",
      "description_width": ""
     }
    },
    "80a4f1b8a78c4203a2453163db9194b6": {
     "model_module": "@jupyter-widgets/controls",
     "model_module_version": "1.5.0",
     "model_name": "LabelModel",
     "state": {
      "_dom_classes": [],
      "_model_module": "@jupyter-widgets/controls",
      "_model_module_version": "1.5.0",
      "_model_name": "LabelModel",
      "_view_count": null,
      "_view_module": "@jupyter-widgets/controls",
      "_view_module_version": "1.5.0",
      "_view_name": "LabelView",
      "description": "",
      "description_tooltip": null,
      "layout": "IPY_MODEL_ae688e59fcbd4de985022188288a8ec4",
      "placeholder": "​",
      "style": "IPY_MODEL_4dea8848f8b54a54961d881c1f18f9bf",
      "value": "0.001 MB of 0.009 MB uploaded (0.000 MB deduped)\r"
     }
    },
    "820b87f785944cf6b72cb2bac0628cbe": {
     "model_module": "@jupyter-widgets/controls",
     "model_module_version": "1.5.0",
     "model_name": "DescriptionStyleModel",
     "state": {
      "_model_module": "@jupyter-widgets/controls",
      "_model_module_version": "1.5.0",
      "_model_name": "DescriptionStyleModel",
      "_view_count": null,
      "_view_module": "@jupyter-widgets/base",
      "_view_module_version": "1.2.0",
      "_view_name": "StyleView",
      "description_width": ""
     }
    },
    "821f1da9c81a4c0293d4ca380dd3e5ca": {
     "model_module": "@jupyter-widgets/controls",
     "model_module_version": "1.5.0",
     "model_name": "HTMLModel",
     "state": {
      "_dom_classes": [],
      "_model_module": "@jupyter-widgets/controls",
      "_model_module_version": "1.5.0",
      "_model_name": "HTMLModel",
      "_view_count": null,
      "_view_module": "@jupyter-widgets/controls",
      "_view_module_version": "1.5.0",
      "_view_name": "HTMLView",
      "description": "",
      "description_tooltip": null,
      "layout": "IPY_MODEL_7f33253c56f34355bfc171da453a37cf",
      "placeholder": "​",
      "style": "IPY_MODEL_fd86af7beb2548a3b94480e0284007d9",
      "value": " 1960/1960 [00:00&lt;00:00, 46647.27 examples/s]"
     }
    },
    "82f690055d5a48d9aa11afb3238de99e": {
     "model_module": "@jupyter-widgets/base",
     "model_module_version": "1.2.0",
     "model_name": "LayoutModel",
     "state": {
      "_model_module": "@jupyter-widgets/base",
      "_model_module_version": "1.2.0",
      "_model_name": "LayoutModel",
      "_view_count": null,
      "_view_module": "@jupyter-widgets/base",
      "_view_module_version": "1.2.0",
      "_view_name": "LayoutView",
      "align_content": null,
      "align_items": null,
      "align_self": null,
      "border": null,
      "bottom": null,
      "display": null,
      "flex": null,
      "flex_flow": null,
      "grid_area": null,
      "grid_auto_columns": null,
      "grid_auto_flow": null,
      "grid_auto_rows": null,
      "grid_column": null,
      "grid_gap": null,
      "grid_row": null,
      "grid_template_areas": null,
      "grid_template_columns": null,
      "grid_template_rows": null,
      "height": null,
      "justify_content": null,
      "justify_items": null,
      "left": null,
      "margin": null,
      "max_height": null,
      "max_width": null,
      "min_height": null,
      "min_width": null,
      "object_fit": null,
      "object_position": null,
      "order": null,
      "overflow": null,
      "overflow_x": null,
      "overflow_y": null,
      "padding": null,
      "right": null,
      "top": null,
      "visibility": null,
      "width": null
     }
    },
    "83658ccebb12495993eeabd32be6e001": {
     "model_module": "@jupyter-widgets/base",
     "model_module_version": "1.2.0",
     "model_name": "LayoutModel",
     "state": {
      "_model_module": "@jupyter-widgets/base",
      "_model_module_version": "1.2.0",
      "_model_name": "LayoutModel",
      "_view_count": null,
      "_view_module": "@jupyter-widgets/base",
      "_view_module_version": "1.2.0",
      "_view_name": "LayoutView",
      "align_content": null,
      "align_items": null,
      "align_self": null,
      "border": null,
      "bottom": null,
      "display": null,
      "flex": null,
      "flex_flow": null,
      "grid_area": null,
      "grid_auto_columns": null,
      "grid_auto_flow": null,
      "grid_auto_rows": null,
      "grid_column": null,
      "grid_gap": null,
      "grid_row": null,
      "grid_template_areas": null,
      "grid_template_columns": null,
      "grid_template_rows": null,
      "height": null,
      "justify_content": null,
      "justify_items": null,
      "left": null,
      "margin": null,
      "max_height": null,
      "max_width": null,
      "min_height": null,
      "min_width": null,
      "object_fit": null,
      "object_position": null,
      "order": null,
      "overflow": null,
      "overflow_x": null,
      "overflow_y": null,
      "padding": null,
      "right": null,
      "top": null,
      "visibility": null,
      "width": null
     }
    },
    "858798b6f3e04e1cbba8d2ba1d3d8cfd": {
     "model_module": "@jupyter-widgets/base",
     "model_module_version": "1.2.0",
     "model_name": "LayoutModel",
     "state": {
      "_model_module": "@jupyter-widgets/base",
      "_model_module_version": "1.2.0",
      "_model_name": "LayoutModel",
      "_view_count": null,
      "_view_module": "@jupyter-widgets/base",
      "_view_module_version": "1.2.0",
      "_view_name": "LayoutView",
      "align_content": null,
      "align_items": null,
      "align_self": null,
      "border": null,
      "bottom": null,
      "display": null,
      "flex": null,
      "flex_flow": null,
      "grid_area": null,
      "grid_auto_columns": null,
      "grid_auto_flow": null,
      "grid_auto_rows": null,
      "grid_column": null,
      "grid_gap": null,
      "grid_row": null,
      "grid_template_areas": null,
      "grid_template_columns": null,
      "grid_template_rows": null,
      "height": null,
      "justify_content": null,
      "justify_items": null,
      "left": null,
      "margin": null,
      "max_height": null,
      "max_width": null,
      "min_height": null,
      "min_width": null,
      "object_fit": null,
      "object_position": null,
      "order": null,
      "overflow": null,
      "overflow_x": null,
      "overflow_y": null,
      "padding": null,
      "right": null,
      "top": null,
      "visibility": null,
      "width": null
     }
    },
    "870efb8dd6e84e74875295656e7ad8ef": {
     "model_module": "@jupyter-widgets/controls",
     "model_module_version": "1.5.0",
     "model_name": "FloatProgressModel",
     "state": {
      "_dom_classes": [],
      "_model_module": "@jupyter-widgets/controls",
      "_model_module_version": "1.5.0",
      "_model_name": "FloatProgressModel",
      "_view_count": null,
      "_view_module": "@jupyter-widgets/controls",
      "_view_module_version": "1.5.0",
      "_view_name": "ProgressView",
      "bar_style": "success",
      "description": "",
      "description_tooltip": null,
      "layout": "IPY_MODEL_fdc984e21cdf48638c421a9418fac5ba",
      "max": 438144466,
      "min": 0,
      "orientation": "horizontal",
      "style": "IPY_MODEL_e144f6ed1d844f3eb9706f6e9a5fb722",
      "value": 438144466
     }
    },
    "8789b528a16f4295b1cbb939f9897e83": {
     "model_module": "@jupyter-widgets/base",
     "model_module_version": "1.2.0",
     "model_name": "LayoutModel",
     "state": {
      "_model_module": "@jupyter-widgets/base",
      "_model_module_version": "1.2.0",
      "_model_name": "LayoutModel",
      "_view_count": null,
      "_view_module": "@jupyter-widgets/base",
      "_view_module_version": "1.2.0",
      "_view_name": "LayoutView",
      "align_content": null,
      "align_items": null,
      "align_self": null,
      "border": null,
      "bottom": null,
      "display": null,
      "flex": null,
      "flex_flow": null,
      "grid_area": null,
      "grid_auto_columns": null,
      "grid_auto_flow": null,
      "grid_auto_rows": null,
      "grid_column": null,
      "grid_gap": null,
      "grid_row": null,
      "grid_template_areas": null,
      "grid_template_columns": null,
      "grid_template_rows": null,
      "height": null,
      "justify_content": null,
      "justify_items": null,
      "left": null,
      "margin": null,
      "max_height": null,
      "max_width": null,
      "min_height": null,
      "min_width": null,
      "object_fit": null,
      "object_position": null,
      "order": null,
      "overflow": null,
      "overflow_x": null,
      "overflow_y": null,
      "padding": null,
      "right": null,
      "top": null,
      "visibility": null,
      "width": null
     }
    },
    "893fc8941b88424790ca359f010eaae8": {
     "model_module": "@jupyter-widgets/controls",
     "model_module_version": "1.5.0",
     "model_name": "DescriptionStyleModel",
     "state": {
      "_model_module": "@jupyter-widgets/controls",
      "_model_module_version": "1.5.0",
      "_model_name": "DescriptionStyleModel",
      "_view_count": null,
      "_view_module": "@jupyter-widgets/base",
      "_view_module_version": "1.2.0",
      "_view_name": "StyleView",
      "description_width": ""
     }
    },
    "8e5d2a55bbaf4d7b82a21a92c830cbf9": {
     "model_module": "@jupyter-widgets/base",
     "model_module_version": "1.2.0",
     "model_name": "LayoutModel",
     "state": {
      "_model_module": "@jupyter-widgets/base",
      "_model_module_version": "1.2.0",
      "_model_name": "LayoutModel",
      "_view_count": null,
      "_view_module": "@jupyter-widgets/base",
      "_view_module_version": "1.2.0",
      "_view_name": "LayoutView",
      "align_content": null,
      "align_items": null,
      "align_self": null,
      "border": null,
      "bottom": null,
      "display": null,
      "flex": null,
      "flex_flow": null,
      "grid_area": null,
      "grid_auto_columns": null,
      "grid_auto_flow": null,
      "grid_auto_rows": null,
      "grid_column": null,
      "grid_gap": null,
      "grid_row": null,
      "grid_template_areas": null,
      "grid_template_columns": null,
      "grid_template_rows": null,
      "height": null,
      "justify_content": null,
      "justify_items": null,
      "left": null,
      "margin": null,
      "max_height": null,
      "max_width": null,
      "min_height": null,
      "min_width": null,
      "object_fit": null,
      "object_position": null,
      "order": null,
      "overflow": null,
      "overflow_x": null,
      "overflow_y": null,
      "padding": null,
      "right": null,
      "top": null,
      "visibility": null,
      "width": null
     }
    },
    "93437cd4cbdb47d19b472a51a38b5240": {
     "model_module": "@jupyter-widgets/controls",
     "model_module_version": "1.5.0",
     "model_name": "DescriptionStyleModel",
     "state": {
      "_model_module": "@jupyter-widgets/controls",
      "_model_module_version": "1.5.0",
      "_model_name": "DescriptionStyleModel",
      "_view_count": null,
      "_view_module": "@jupyter-widgets/base",
      "_view_module_version": "1.2.0",
      "_view_name": "StyleView",
      "description_width": ""
     }
    },
    "951a72cbbb574d39925d2c0f1b71634a": {
     "model_module": "@jupyter-widgets/base",
     "model_module_version": "1.2.0",
     "model_name": "LayoutModel",
     "state": {
      "_model_module": "@jupyter-widgets/base",
      "_model_module_version": "1.2.0",
      "_model_name": "LayoutModel",
      "_view_count": null,
      "_view_module": "@jupyter-widgets/base",
      "_view_module_version": "1.2.0",
      "_view_name": "LayoutView",
      "align_content": null,
      "align_items": null,
      "align_self": null,
      "border": null,
      "bottom": null,
      "display": null,
      "flex": null,
      "flex_flow": null,
      "grid_area": null,
      "grid_auto_columns": null,
      "grid_auto_flow": null,
      "grid_auto_rows": null,
      "grid_column": null,
      "grid_gap": null,
      "grid_row": null,
      "grid_template_areas": null,
      "grid_template_columns": null,
      "grid_template_rows": null,
      "height": null,
      "justify_content": null,
      "justify_items": null,
      "left": null,
      "margin": null,
      "max_height": null,
      "max_width": null,
      "min_height": null,
      "min_width": null,
      "object_fit": null,
      "object_position": null,
      "order": null,
      "overflow": null,
      "overflow_x": null,
      "overflow_y": null,
      "padding": null,
      "right": null,
      "top": null,
      "visibility": null,
      "width": null
     }
    },
    "95b9361d62fb4140a326f16b994045e0": {
     "model_module": "@jupyter-widgets/controls",
     "model_module_version": "1.5.0",
     "model_name": "FloatProgressModel",
     "state": {
      "_dom_classes": [],
      "_model_module": "@jupyter-widgets/controls",
      "_model_module_version": "1.5.0",
      "_model_name": "FloatProgressModel",
      "_view_count": null,
      "_view_module": "@jupyter-widgets/controls",
      "_view_module_version": "1.5.0",
      "_view_name": "ProgressView",
      "bar_style": "success",
      "description": "",
      "description_tooltip": null,
      "layout": "IPY_MODEL_abc835aed9d14bf589c61436876c23c7",
      "max": 112,
      "min": 0,
      "orientation": "horizontal",
      "style": "IPY_MODEL_06f76911155340bbad31134c180fcc26",
      "value": 112
     }
    },
    "9727f76dfa3546489c4bb033139f99f2": {
     "model_module": "@jupyter-widgets/controls",
     "model_module_version": "1.5.0",
     "model_name": "HTMLModel",
     "state": {
      "_dom_classes": [],
      "_model_module": "@jupyter-widgets/controls",
      "_model_module_version": "1.5.0",
      "_model_name": "HTMLModel",
      "_view_count": null,
      "_view_module": "@jupyter-widgets/controls",
      "_view_module_version": "1.5.0",
      "_view_name": "HTMLView",
      "description": "",
      "description_tooltip": null,
      "layout": "IPY_MODEL_68b3100c8f8b45f9a98b406b7633d018",
      "placeholder": "​",
      "style": "IPY_MODEL_fef2d3b34bb24bef96a7c9d916b3f8ba",
      "value": "100%"
     }
    },
    "97e65421314a40b6bdd935c1d8aa9a97": {
     "model_module": "@jupyter-widgets/base",
     "model_module_version": "1.2.0",
     "model_name": "LayoutModel",
     "state": {
      "_model_module": "@jupyter-widgets/base",
      "_model_module_version": "1.2.0",
      "_model_name": "LayoutModel",
      "_view_count": null,
      "_view_module": "@jupyter-widgets/base",
      "_view_module_version": "1.2.0",
      "_view_name": "LayoutView",
      "align_content": null,
      "align_items": null,
      "align_self": null,
      "border": null,
      "bottom": null,
      "display": null,
      "flex": null,
      "flex_flow": null,
      "grid_area": null,
      "grid_auto_columns": null,
      "grid_auto_flow": null,
      "grid_auto_rows": null,
      "grid_column": null,
      "grid_gap": null,
      "grid_row": null,
      "grid_template_areas": null,
      "grid_template_columns": null,
      "grid_template_rows": null,
      "height": null,
      "justify_content": null,
      "justify_items": null,
      "left": null,
      "margin": null,
      "max_height": null,
      "max_width": null,
      "min_height": null,
      "min_width": null,
      "object_fit": null,
      "object_position": null,
      "order": null,
      "overflow": null,
      "overflow_x": null,
      "overflow_y": null,
      "padding": null,
      "right": null,
      "top": null,
      "visibility": null,
      "width": null
     }
    },
    "98cb63cfcf1e4378b3114354e7bf9653": {
     "model_module": "@jupyter-widgets/controls",
     "model_module_version": "1.5.0",
     "model_name": "DescriptionStyleModel",
     "state": {
      "_model_module": "@jupyter-widgets/controls",
      "_model_module_version": "1.5.0",
      "_model_name": "DescriptionStyleModel",
      "_view_count": null,
      "_view_module": "@jupyter-widgets/base",
      "_view_module_version": "1.2.0",
      "_view_name": "StyleView",
      "description_width": ""
     }
    },
    "9d6e5fe58012489ea3ad282e5c62097b": {
     "model_module": "@jupyter-widgets/base",
     "model_module_version": "1.2.0",
     "model_name": "LayoutModel",
     "state": {
      "_model_module": "@jupyter-widgets/base",
      "_model_module_version": "1.2.0",
      "_model_name": "LayoutModel",
      "_view_count": null,
      "_view_module": "@jupyter-widgets/base",
      "_view_module_version": "1.2.0",
      "_view_name": "LayoutView",
      "align_content": null,
      "align_items": null,
      "align_self": null,
      "border": null,
      "bottom": null,
      "display": null,
      "flex": null,
      "flex_flow": null,
      "grid_area": null,
      "grid_auto_columns": null,
      "grid_auto_flow": null,
      "grid_auto_rows": null,
      "grid_column": null,
      "grid_gap": null,
      "grid_row": null,
      "grid_template_areas": null,
      "grid_template_columns": null,
      "grid_template_rows": null,
      "height": null,
      "justify_content": null,
      "justify_items": null,
      "left": null,
      "margin": null,
      "max_height": null,
      "max_width": null,
      "min_height": null,
      "min_width": null,
      "object_fit": null,
      "object_position": null,
      "order": null,
      "overflow": null,
      "overflow_x": null,
      "overflow_y": null,
      "padding": null,
      "right": null,
      "top": null,
      "visibility": null,
      "width": null
     }
    },
    "9e0858ef3b1b4076ac9d7ee56a4e350b": {
     "model_module": "@jupyter-widgets/base",
     "model_module_version": "1.2.0",
     "model_name": "LayoutModel",
     "state": {
      "_model_module": "@jupyter-widgets/base",
      "_model_module_version": "1.2.0",
      "_model_name": "LayoutModel",
      "_view_count": null,
      "_view_module": "@jupyter-widgets/base",
      "_view_module_version": "1.2.0",
      "_view_name": "LayoutView",
      "align_content": null,
      "align_items": null,
      "align_self": null,
      "border": null,
      "bottom": null,
      "display": null,
      "flex": null,
      "flex_flow": null,
      "grid_area": null,
      "grid_auto_columns": null,
      "grid_auto_flow": null,
      "grid_auto_rows": null,
      "grid_column": null,
      "grid_gap": null,
      "grid_row": null,
      "grid_template_areas": null,
      "grid_template_columns": null,
      "grid_template_rows": null,
      "height": null,
      "justify_content": null,
      "justify_items": null,
      "left": null,
      "margin": null,
      "max_height": null,
      "max_width": null,
      "min_height": null,
      "min_width": null,
      "object_fit": null,
      "object_position": null,
      "order": null,
      "overflow": null,
      "overflow_x": null,
      "overflow_y": null,
      "padding": null,
      "right": null,
      "top": null,
      "visibility": "hidden",
      "width": null
     }
    },
    "9e2c10afa9fb44688ae94deadc1d6a49": {
     "model_module": "@jupyter-widgets/base",
     "model_module_version": "1.2.0",
     "model_name": "LayoutModel",
     "state": {
      "_model_module": "@jupyter-widgets/base",
      "_model_module_version": "1.2.0",
      "_model_name": "LayoutModel",
      "_view_count": null,
      "_view_module": "@jupyter-widgets/base",
      "_view_module_version": "1.2.0",
      "_view_name": "LayoutView",
      "align_content": null,
      "align_items": null,
      "align_self": null,
      "border": null,
      "bottom": null,
      "display": null,
      "flex": null,
      "flex_flow": null,
      "grid_area": null,
      "grid_auto_columns": null,
      "grid_auto_flow": null,
      "grid_auto_rows": null,
      "grid_column": null,
      "grid_gap": null,
      "grid_row": null,
      "grid_template_areas": null,
      "grid_template_columns": null,
      "grid_template_rows": null,
      "height": null,
      "justify_content": null,
      "justify_items": null,
      "left": null,
      "margin": null,
      "max_height": null,
      "max_width": null,
      "min_height": null,
      "min_width": null,
      "object_fit": null,
      "object_position": null,
      "order": null,
      "overflow": null,
      "overflow_x": null,
      "overflow_y": null,
      "padding": null,
      "right": null,
      "top": null,
      "visibility": null,
      "width": null
     }
    },
    "a1517f751db443828b005c05d379e168": {
     "model_module": "@jupyter-widgets/controls",
     "model_module_version": "1.5.0",
     "model_name": "HTMLModel",
     "state": {
      "_dom_classes": [],
      "_model_module": "@jupyter-widgets/controls",
      "_model_module_version": "1.5.0",
      "_model_name": "HTMLModel",
      "_view_count": null,
      "_view_module": "@jupyter-widgets/controls",
      "_view_module_version": "1.5.0",
      "_view_name": "HTMLView",
      "description": "",
      "description_tooltip": null,
      "layout": "IPY_MODEL_b8b7cbf30f9542258352be00b61aad01",
      "placeholder": "​",
      "style": "IPY_MODEL_0f6bbb267f0f49f38b1568350d880153",
      "value": "Saving the dataset (1/1 shards): 100%"
     }
    },
    "a162e378ed654a19943d7e92095bb527": {
     "model_module": "@jupyter-widgets/controls",
     "model_module_version": "1.5.0",
     "model_name": "FloatProgressModel",
     "state": {
      "_dom_classes": [],
      "_model_module": "@jupyter-widgets/controls",
      "_model_module_version": "1.5.0",
      "_model_name": "FloatProgressModel",
      "_view_count": null,
      "_view_module": "@jupyter-widgets/controls",
      "_view_module_version": "1.5.0",
      "_view_name": "ProgressView",
      "bar_style": "success",
      "description": "",
      "description_tooltip": null,
      "layout": "IPY_MODEL_369ae81a2d9b4fd5b2acde9e640562be",
      "max": 3,
      "min": 0,
      "orientation": "horizontal",
      "style": "IPY_MODEL_0ed3b2d0bfb0471fb4d8903677b668d6",
      "value": 3
     }
    },
    "a6df9083c2374834a2d27057bb5ed162": {
     "model_module": "@jupyter-widgets/controls",
     "model_module_version": "1.5.0",
     "model_name": "DescriptionStyleModel",
     "state": {
      "_model_module": "@jupyter-widgets/controls",
      "_model_module_version": "1.5.0",
      "_model_name": "DescriptionStyleModel",
      "_view_count": null,
      "_view_module": "@jupyter-widgets/base",
      "_view_module_version": "1.2.0",
      "_view_name": "StyleView",
      "description_width": ""
     }
    },
    "a89c1c1578234abe9ea9b6b3cf041916": {
     "model_module": "@jupyter-widgets/controls",
     "model_module_version": "1.5.0",
     "model_name": "FloatProgressModel",
     "state": {
      "_dom_classes": [],
      "_model_module": "@jupyter-widgets/controls",
      "_model_module_version": "1.5.0",
      "_model_name": "FloatProgressModel",
      "_view_count": null,
      "_view_module": "@jupyter-widgets/controls",
      "_view_module_version": "1.5.0",
      "_view_name": "ProgressView",
      "bar_style": "success",
      "description": "",
      "description_tooltip": null,
      "layout": "IPY_MODEL_e0142e735a9244eeb29f0ee6785df1f5",
      "max": 231508,
      "min": 0,
      "orientation": "horizontal",
      "style": "IPY_MODEL_3ebe40938f844b259e8337c9a6b2868e",
      "value": 231508
     }
    },
    "a9212ec83ccf4cd69f2396de13a0018c": {
     "model_module": "@jupyter-widgets/controls",
     "model_module_version": "1.5.0",
     "model_name": "DescriptionStyleModel",
     "state": {
      "_model_module": "@jupyter-widgets/controls",
      "_model_module_version": "1.5.0",
      "_model_name": "DescriptionStyleModel",
      "_view_count": null,
      "_view_module": "@jupyter-widgets/base",
      "_view_module_version": "1.2.0",
      "_view_name": "StyleView",
      "description_width": ""
     }
    },
    "abc835aed9d14bf589c61436876c23c7": {
     "model_module": "@jupyter-widgets/base",
     "model_module_version": "1.2.0",
     "model_name": "LayoutModel",
     "state": {
      "_model_module": "@jupyter-widgets/base",
      "_model_module_version": "1.2.0",
      "_model_name": "LayoutModel",
      "_view_count": null,
      "_view_module": "@jupyter-widgets/base",
      "_view_module_version": "1.2.0",
      "_view_name": "LayoutView",
      "align_content": null,
      "align_items": null,
      "align_self": null,
      "border": null,
      "bottom": null,
      "display": null,
      "flex": null,
      "flex_flow": null,
      "grid_area": null,
      "grid_auto_columns": null,
      "grid_auto_flow": null,
      "grid_auto_rows": null,
      "grid_column": null,
      "grid_gap": null,
      "grid_row": null,
      "grid_template_areas": null,
      "grid_template_columns": null,
      "grid_template_rows": null,
      "height": null,
      "justify_content": null,
      "justify_items": null,
      "left": null,
      "margin": null,
      "max_height": null,
      "max_width": null,
      "min_height": null,
      "min_width": null,
      "object_fit": null,
      "object_position": null,
      "order": null,
      "overflow": null,
      "overflow_x": null,
      "overflow_y": null,
      "padding": null,
      "right": null,
      "top": null,
      "visibility": null,
      "width": null
     }
    },
    "acfdff3e9ed244a481298a3e29ef5f5c": {
     "model_module": "@jupyter-widgets/controls",
     "model_module_version": "1.5.0",
     "model_name": "DescriptionStyleModel",
     "state": {
      "_model_module": "@jupyter-widgets/controls",
      "_model_module_version": "1.5.0",
      "_model_name": "DescriptionStyleModel",
      "_view_count": null,
      "_view_module": "@jupyter-widgets/base",
      "_view_module_version": "1.2.0",
      "_view_name": "StyleView",
      "description_width": ""
     }
    },
    "acfea9b4e73346688eee975aeb8ee6d6": {
     "model_module": "@jupyter-widgets/controls",
     "model_module_version": "1.5.0",
     "model_name": "ProgressStyleModel",
     "state": {
      "_model_module": "@jupyter-widgets/controls",
      "_model_module_version": "1.5.0",
      "_model_name": "ProgressStyleModel",
      "_view_count": null,
      "_view_module": "@jupyter-widgets/base",
      "_view_module_version": "1.2.0",
      "_view_name": "StyleView",
      "bar_color": null,
      "description_width": ""
     }
    },
    "ad76922acf77404bbba809f36d45795d": {
     "model_module": "@jupyter-widgets/controls",
     "model_module_version": "1.5.0",
     "model_name": "DescriptionStyleModel",
     "state": {
      "_model_module": "@jupyter-widgets/controls",
      "_model_module_version": "1.5.0",
      "_model_name": "DescriptionStyleModel",
      "_view_count": null,
      "_view_module": "@jupyter-widgets/base",
      "_view_module_version": "1.2.0",
      "_view_name": "StyleView",
      "description_width": ""
     }
    },
    "ae687b9c0f3e4351bab0c81fda2fd06a": {
     "model_module": "@jupyter-widgets/controls",
     "model_module_version": "1.5.0",
     "model_name": "HBoxModel",
     "state": {
      "_dom_classes": [],
      "_model_module": "@jupyter-widgets/controls",
      "_model_module_version": "1.5.0",
      "_model_name": "HBoxModel",
      "_view_count": null,
      "_view_module": "@jupyter-widgets/controls",
      "_view_module_version": "1.5.0",
      "_view_name": "HBoxView",
      "box_style": "",
      "children": [
       "IPY_MODEL_0a1dc01aea0846d7837604bee8955d94",
       "IPY_MODEL_27224aa2940245fe9eab34079ca8eda2",
       "IPY_MODEL_ea1f28dcb41446cca89e62e62dcf3248"
      ],
      "layout": "IPY_MODEL_9e0858ef3b1b4076ac9d7ee56a4e350b"
     }
    },
    "ae688e59fcbd4de985022188288a8ec4": {
     "model_module": "@jupyter-widgets/base",
     "model_module_version": "1.2.0",
     "model_name": "LayoutModel",
     "state": {
      "_model_module": "@jupyter-widgets/base",
      "_model_module_version": "1.2.0",
      "_model_name": "LayoutModel",
      "_view_count": null,
      "_view_module": "@jupyter-widgets/base",
      "_view_module_version": "1.2.0",
      "_view_name": "LayoutView",
      "align_content": null,
      "align_items": null,
      "align_self": null,
      "border": null,
      "bottom": null,
      "display": null,
      "flex": null,
      "flex_flow": null,
      "grid_area": null,
      "grid_auto_columns": null,
      "grid_auto_flow": null,
      "grid_auto_rows": null,
      "grid_column": null,
      "grid_gap": null,
      "grid_row": null,
      "grid_template_areas": null,
      "grid_template_columns": null,
      "grid_template_rows": null,
      "height": null,
      "justify_content": null,
      "justify_items": null,
      "left": null,
      "margin": null,
      "max_height": null,
      "max_width": null,
      "min_height": null,
      "min_width": null,
      "object_fit": null,
      "object_position": null,
      "order": null,
      "overflow": null,
      "overflow_x": null,
      "overflow_y": null,
      "padding": null,
      "right": null,
      "top": null,
      "visibility": null,
      "width": null
     }
    },
    "b037acd5306147c1b316e35edb35394a": {
     "model_module": "@jupyter-widgets/controls",
     "model_module_version": "1.5.0",
     "model_name": "DescriptionStyleModel",
     "state": {
      "_model_module": "@jupyter-widgets/controls",
      "_model_module_version": "1.5.0",
      "_model_name": "DescriptionStyleModel",
      "_view_count": null,
      "_view_module": "@jupyter-widgets/base",
      "_view_module_version": "1.2.0",
      "_view_name": "StyleView",
      "description_width": ""
     }
    },
    "b192a7007d6149999703a2e859216a9f": {
     "model_module": "@jupyter-widgets/base",
     "model_module_version": "1.2.0",
     "model_name": "LayoutModel",
     "state": {
      "_model_module": "@jupyter-widgets/base",
      "_model_module_version": "1.2.0",
      "_model_name": "LayoutModel",
      "_view_count": null,
      "_view_module": "@jupyter-widgets/base",
      "_view_module_version": "1.2.0",
      "_view_name": "LayoutView",
      "align_content": null,
      "align_items": null,
      "align_self": null,
      "border": null,
      "bottom": null,
      "display": null,
      "flex": null,
      "flex_flow": null,
      "grid_area": null,
      "grid_auto_columns": null,
      "grid_auto_flow": null,
      "grid_auto_rows": null,
      "grid_column": null,
      "grid_gap": null,
      "grid_row": null,
      "grid_template_areas": null,
      "grid_template_columns": null,
      "grid_template_rows": null,
      "height": null,
      "justify_content": null,
      "justify_items": null,
      "left": null,
      "margin": null,
      "max_height": null,
      "max_width": null,
      "min_height": null,
      "min_width": null,
      "object_fit": null,
      "object_position": null,
      "order": null,
      "overflow": null,
      "overflow_x": null,
      "overflow_y": null,
      "padding": null,
      "right": null,
      "top": null,
      "visibility": null,
      "width": null
     }
    },
    "b34ebf1df1b540e88447c0ac942a95e3": {
     "model_module": "@jupyter-widgets/controls",
     "model_module_version": "1.5.0",
     "model_name": "ProgressStyleModel",
     "state": {
      "_model_module": "@jupyter-widgets/controls",
      "_model_module_version": "1.5.0",
      "_model_name": "ProgressStyleModel",
      "_view_count": null,
      "_view_module": "@jupyter-widgets/base",
      "_view_module_version": "1.2.0",
      "_view_name": "StyleView",
      "bar_color": null,
      "description_width": ""
     }
    },
    "b3c1dbcef6cf450a89ff28d4d93d0fe7": {
     "model_module": "@jupyter-widgets/controls",
     "model_module_version": "1.5.0",
     "model_name": "ProgressStyleModel",
     "state": {
      "_model_module": "@jupyter-widgets/controls",
      "_model_module_version": "1.5.0",
      "_model_name": "ProgressStyleModel",
      "_view_count": null,
      "_view_module": "@jupyter-widgets/base",
      "_view_module_version": "1.2.0",
      "_view_name": "StyleView",
      "bar_color": null,
      "description_width": ""
     }
    },
    "b445ae1469554d8e9614f75f16ece9bd": {
     "model_module": "@jupyter-widgets/controls",
     "model_module_version": "1.5.0",
     "model_name": "DescriptionStyleModel",
     "state": {
      "_model_module": "@jupyter-widgets/controls",
      "_model_module_version": "1.5.0",
      "_model_name": "DescriptionStyleModel",
      "_view_count": null,
      "_view_module": "@jupyter-widgets/base",
      "_view_module_version": "1.2.0",
      "_view_name": "StyleView",
      "description_width": ""
     }
    },
    "b4a8e12f73b74720a55b57f1a06e61ae": {
     "model_module": "@jupyter-widgets/base",
     "model_module_version": "1.2.0",
     "model_name": "LayoutModel",
     "state": {
      "_model_module": "@jupyter-widgets/base",
      "_model_module_version": "1.2.0",
      "_model_name": "LayoutModel",
      "_view_count": null,
      "_view_module": "@jupyter-widgets/base",
      "_view_module_version": "1.2.0",
      "_view_name": "LayoutView",
      "align_content": null,
      "align_items": null,
      "align_self": null,
      "border": null,
      "bottom": null,
      "display": null,
      "flex": null,
      "flex_flow": null,
      "grid_area": null,
      "grid_auto_columns": null,
      "grid_auto_flow": null,
      "grid_auto_rows": null,
      "grid_column": null,
      "grid_gap": null,
      "grid_row": null,
      "grid_template_areas": null,
      "grid_template_columns": null,
      "grid_template_rows": null,
      "height": null,
      "justify_content": null,
      "justify_items": null,
      "left": null,
      "margin": null,
      "max_height": null,
      "max_width": null,
      "min_height": null,
      "min_width": null,
      "object_fit": null,
      "object_position": null,
      "order": null,
      "overflow": null,
      "overflow_x": null,
      "overflow_y": null,
      "padding": null,
      "right": null,
      "top": null,
      "visibility": null,
      "width": null
     }
    },
    "b4a8ec1a7e354b3380b93be76909994c": {
     "model_module": "@jupyter-widgets/base",
     "model_module_version": "1.2.0",
     "model_name": "LayoutModel",
     "state": {
      "_model_module": "@jupyter-widgets/base",
      "_model_module_version": "1.2.0",
      "_model_name": "LayoutModel",
      "_view_count": null,
      "_view_module": "@jupyter-widgets/base",
      "_view_module_version": "1.2.0",
      "_view_name": "LayoutView",
      "align_content": null,
      "align_items": null,
      "align_self": null,
      "border": null,
      "bottom": null,
      "display": null,
      "flex": null,
      "flex_flow": null,
      "grid_area": null,
      "grid_auto_columns": null,
      "grid_auto_flow": null,
      "grid_auto_rows": null,
      "grid_column": null,
      "grid_gap": null,
      "grid_row": null,
      "grid_template_areas": null,
      "grid_template_columns": null,
      "grid_template_rows": null,
      "height": null,
      "justify_content": null,
      "justify_items": null,
      "left": null,
      "margin": null,
      "max_height": null,
      "max_width": null,
      "min_height": null,
      "min_width": null,
      "object_fit": null,
      "object_position": null,
      "order": null,
      "overflow": null,
      "overflow_x": null,
      "overflow_y": null,
      "padding": null,
      "right": null,
      "top": null,
      "visibility": "hidden",
      "width": null
     }
    },
    "b4aab017c3d744c1a0be62036280d7ee": {
     "model_module": "@jupyter-widgets/controls",
     "model_module_version": "1.5.0",
     "model_name": "DescriptionStyleModel",
     "state": {
      "_model_module": "@jupyter-widgets/controls",
      "_model_module_version": "1.5.0",
      "_model_name": "DescriptionStyleModel",
      "_view_count": null,
      "_view_module": "@jupyter-widgets/base",
      "_view_module_version": "1.2.0",
      "_view_name": "StyleView",
      "description_width": ""
     }
    },
    "b52698655580462fb7ae5be68fd37e91": {
     "model_module": "@jupyter-widgets/base",
     "model_module_version": "1.2.0",
     "model_name": "LayoutModel",
     "state": {
      "_model_module": "@jupyter-widgets/base",
      "_model_module_version": "1.2.0",
      "_model_name": "LayoutModel",
      "_view_count": null,
      "_view_module": "@jupyter-widgets/base",
      "_view_module_version": "1.2.0",
      "_view_name": "LayoutView",
      "align_content": null,
      "align_items": null,
      "align_self": null,
      "border": null,
      "bottom": null,
      "display": null,
      "flex": null,
      "flex_flow": null,
      "grid_area": null,
      "grid_auto_columns": null,
      "grid_auto_flow": null,
      "grid_auto_rows": null,
      "grid_column": null,
      "grid_gap": null,
      "grid_row": null,
      "grid_template_areas": null,
      "grid_template_columns": null,
      "grid_template_rows": null,
      "height": null,
      "justify_content": null,
      "justify_items": null,
      "left": null,
      "margin": null,
      "max_height": null,
      "max_width": null,
      "min_height": null,
      "min_width": null,
      "object_fit": null,
      "object_position": null,
      "order": null,
      "overflow": null,
      "overflow_x": null,
      "overflow_y": null,
      "padding": null,
      "right": null,
      "top": null,
      "visibility": null,
      "width": null
     }
    },
    "b8b7cbf30f9542258352be00b61aad01": {
     "model_module": "@jupyter-widgets/base",
     "model_module_version": "1.2.0",
     "model_name": "LayoutModel",
     "state": {
      "_model_module": "@jupyter-widgets/base",
      "_model_module_version": "1.2.0",
      "_model_name": "LayoutModel",
      "_view_count": null,
      "_view_module": "@jupyter-widgets/base",
      "_view_module_version": "1.2.0",
      "_view_name": "LayoutView",
      "align_content": null,
      "align_items": null,
      "align_self": null,
      "border": null,
      "bottom": null,
      "display": null,
      "flex": null,
      "flex_flow": null,
      "grid_area": null,
      "grid_auto_columns": null,
      "grid_auto_flow": null,
      "grid_auto_rows": null,
      "grid_column": null,
      "grid_gap": null,
      "grid_row": null,
      "grid_template_areas": null,
      "grid_template_columns": null,
      "grid_template_rows": null,
      "height": null,
      "justify_content": null,
      "justify_items": null,
      "left": null,
      "margin": null,
      "max_height": null,
      "max_width": null,
      "min_height": null,
      "min_width": null,
      "object_fit": null,
      "object_position": null,
      "order": null,
      "overflow": null,
      "overflow_x": null,
      "overflow_y": null,
      "padding": null,
      "right": null,
      "top": null,
      "visibility": null,
      "width": null
     }
    },
    "ba32896e6ae84ad3bb914c13d2081ca1": {
     "model_module": "@jupyter-widgets/base",
     "model_module_version": "1.2.0",
     "model_name": "LayoutModel",
     "state": {
      "_model_module": "@jupyter-widgets/base",
      "_model_module_version": "1.2.0",
      "_model_name": "LayoutModel",
      "_view_count": null,
      "_view_module": "@jupyter-widgets/base",
      "_view_module_version": "1.2.0",
      "_view_name": "LayoutView",
      "align_content": null,
      "align_items": null,
      "align_self": null,
      "border": null,
      "bottom": null,
      "display": null,
      "flex": null,
      "flex_flow": null,
      "grid_area": null,
      "grid_auto_columns": null,
      "grid_auto_flow": null,
      "grid_auto_rows": null,
      "grid_column": null,
      "grid_gap": null,
      "grid_row": null,
      "grid_template_areas": null,
      "grid_template_columns": null,
      "grid_template_rows": null,
      "height": null,
      "justify_content": null,
      "justify_items": null,
      "left": null,
      "margin": null,
      "max_height": null,
      "max_width": null,
      "min_height": null,
      "min_width": null,
      "object_fit": null,
      "object_position": null,
      "order": null,
      "overflow": null,
      "overflow_x": null,
      "overflow_y": null,
      "padding": null,
      "right": null,
      "top": null,
      "visibility": null,
      "width": null
     }
    },
    "bab7dd7e061344f8b9405b74dff7ac51": {
     "model_module": "@jupyter-widgets/controls",
     "model_module_version": "1.5.0",
     "model_name": "FloatProgressModel",
     "state": {
      "_dom_classes": [],
      "_model_module": "@jupyter-widgets/controls",
      "_model_module_version": "1.5.0",
      "_model_name": "FloatProgressModel",
      "_view_count": null,
      "_view_module": "@jupyter-widgets/controls",
      "_view_module_version": "1.5.0",
      "_view_name": "ProgressView",
      "bar_style": "",
      "description": "",
      "description_tooltip": null,
      "layout": "IPY_MODEL_dbdab18c793e4fba906b9d12093c2032",
      "max": 1906,
      "min": 0,
      "orientation": "horizontal",
      "style": "IPY_MODEL_f25f8602b88342be9ef294ae23ea01b2",
      "value": 1906
     }
    },
    "bc2972a4bbf045789b5064c103966fe7": {
     "model_module": "@jupyter-widgets/base",
     "model_module_version": "1.2.0",
     "model_name": "LayoutModel",
     "state": {
      "_model_module": "@jupyter-widgets/base",
      "_model_module_version": "1.2.0",
      "_model_name": "LayoutModel",
      "_view_count": null,
      "_view_module": "@jupyter-widgets/base",
      "_view_module_version": "1.2.0",
      "_view_name": "LayoutView",
      "align_content": null,
      "align_items": null,
      "align_self": null,
      "border": null,
      "bottom": null,
      "display": null,
      "flex": null,
      "flex_flow": null,
      "grid_area": null,
      "grid_auto_columns": null,
      "grid_auto_flow": null,
      "grid_auto_rows": null,
      "grid_column": null,
      "grid_gap": null,
      "grid_row": null,
      "grid_template_areas": null,
      "grid_template_columns": null,
      "grid_template_rows": null,
      "height": null,
      "justify_content": null,
      "justify_items": null,
      "left": null,
      "margin": null,
      "max_height": null,
      "max_width": null,
      "min_height": null,
      "min_width": null,
      "object_fit": null,
      "object_position": null,
      "order": null,
      "overflow": null,
      "overflow_x": null,
      "overflow_y": null,
      "padding": null,
      "right": null,
      "top": null,
      "visibility": "hidden",
      "width": null
     }
    },
    "bf10eb81ec564578a20f1cf06207d49a": {
     "model_module": "@jupyter-widgets/base",
     "model_module_version": "1.2.0",
     "model_name": "LayoutModel",
     "state": {
      "_model_module": "@jupyter-widgets/base",
      "_model_module_version": "1.2.0",
      "_model_name": "LayoutModel",
      "_view_count": null,
      "_view_module": "@jupyter-widgets/base",
      "_view_module_version": "1.2.0",
      "_view_name": "LayoutView",
      "align_content": null,
      "align_items": null,
      "align_self": null,
      "border": null,
      "bottom": null,
      "display": null,
      "flex": null,
      "flex_flow": null,
      "grid_area": null,
      "grid_auto_columns": null,
      "grid_auto_flow": null,
      "grid_auto_rows": null,
      "grid_column": null,
      "grid_gap": null,
      "grid_row": null,
      "grid_template_areas": null,
      "grid_template_columns": null,
      "grid_template_rows": null,
      "height": null,
      "justify_content": null,
      "justify_items": null,
      "left": null,
      "margin": null,
      "max_height": null,
      "max_width": null,
      "min_height": null,
      "min_width": null,
      "object_fit": null,
      "object_position": null,
      "order": null,
      "overflow": null,
      "overflow_x": null,
      "overflow_y": null,
      "padding": null,
      "right": null,
      "top": null,
      "visibility": null,
      "width": null
     }
    },
    "c195af0a1dbc453e94b79900bb1f4a1e": {
     "model_module": "@jupyter-widgets/controls",
     "model_module_version": "1.5.0",
     "model_name": "HBoxModel",
     "state": {
      "_dom_classes": [],
      "_model_module": "@jupyter-widgets/controls",
      "_model_module_version": "1.5.0",
      "_model_name": "HBoxModel",
      "_view_count": null,
      "_view_module": "@jupyter-widgets/controls",
      "_view_module_version": "1.5.0",
      "_view_name": "HBoxView",
      "box_style": "",
      "children": [
       "IPY_MODEL_7e287435a3e0460296f14e2c3c0b5873",
       "IPY_MODEL_6a38da77331f4316ad29190d3fd2f112",
       "IPY_MODEL_f426315eb11a419e80653fa4a8586211"
      ],
      "layout": "IPY_MODEL_9d6e5fe58012489ea3ad282e5c62097b"
     }
    },
    "c228650f2e5042279e561438d06f01eb": {
     "model_module": "@jupyter-widgets/base",
     "model_module_version": "1.2.0",
     "model_name": "LayoutModel",
     "state": {
      "_model_module": "@jupyter-widgets/base",
      "_model_module_version": "1.2.0",
      "_model_name": "LayoutModel",
      "_view_count": null,
      "_view_module": "@jupyter-widgets/base",
      "_view_module_version": "1.2.0",
      "_view_name": "LayoutView",
      "align_content": null,
      "align_items": null,
      "align_self": null,
      "border": null,
      "bottom": null,
      "display": null,
      "flex": null,
      "flex_flow": null,
      "grid_area": null,
      "grid_auto_columns": null,
      "grid_auto_flow": null,
      "grid_auto_rows": null,
      "grid_column": null,
      "grid_gap": null,
      "grid_row": null,
      "grid_template_areas": null,
      "grid_template_columns": null,
      "grid_template_rows": null,
      "height": null,
      "justify_content": null,
      "justify_items": null,
      "left": null,
      "margin": null,
      "max_height": null,
      "max_width": null,
      "min_height": null,
      "min_width": null,
      "object_fit": null,
      "object_position": null,
      "order": null,
      "overflow": null,
      "overflow_x": null,
      "overflow_y": null,
      "padding": null,
      "right": null,
      "top": null,
      "visibility": null,
      "width": null
     }
    },
    "c245c4e781e04ababb676e5982c71b2e": {
     "model_module": "@jupyter-widgets/base",
     "model_module_version": "1.2.0",
     "model_name": "LayoutModel",
     "state": {
      "_model_module": "@jupyter-widgets/base",
      "_model_module_version": "1.2.0",
      "_model_name": "LayoutModel",
      "_view_count": null,
      "_view_module": "@jupyter-widgets/base",
      "_view_module_version": "1.2.0",
      "_view_name": "LayoutView",
      "align_content": null,
      "align_items": null,
      "align_self": null,
      "border": null,
      "bottom": null,
      "display": null,
      "flex": null,
      "flex_flow": null,
      "grid_area": null,
      "grid_auto_columns": null,
      "grid_auto_flow": null,
      "grid_auto_rows": null,
      "grid_column": null,
      "grid_gap": null,
      "grid_row": null,
      "grid_template_areas": null,
      "grid_template_columns": null,
      "grid_template_rows": null,
      "height": null,
      "justify_content": null,
      "justify_items": null,
      "left": null,
      "margin": null,
      "max_height": null,
      "max_width": null,
      "min_height": null,
      "min_width": null,
      "object_fit": null,
      "object_position": null,
      "order": null,
      "overflow": null,
      "overflow_x": null,
      "overflow_y": null,
      "padding": null,
      "right": null,
      "top": null,
      "visibility": null,
      "width": null
     }
    },
    "c3f169d8d6b1490cbc499bc95c93f436": {
     "model_module": "@jupyter-widgets/controls",
     "model_module_version": "1.5.0",
     "model_name": "HBoxModel",
     "state": {
      "_dom_classes": [],
      "_model_module": "@jupyter-widgets/controls",
      "_model_module_version": "1.5.0",
      "_model_name": "HBoxModel",
      "_view_count": null,
      "_view_module": "@jupyter-widgets/controls",
      "_view_module_version": "1.5.0",
      "_view_name": "HBoxView",
      "box_style": "",
      "children": [
       "IPY_MODEL_fc9cd77567634ddfbaed60e9c47308c8",
       "IPY_MODEL_bab7dd7e061344f8b9405b74dff7ac51",
       "IPY_MODEL_6a7d591fcad44845966c51639ea30e37"
      ],
      "layout": "IPY_MODEL_bc2972a4bbf045789b5064c103966fe7"
     }
    },
    "c539094df6b749aaa1c676a3080537a4": {
     "model_module": "@jupyter-widgets/base",
     "model_module_version": "1.2.0",
     "model_name": "LayoutModel",
     "state": {
      "_model_module": "@jupyter-widgets/base",
      "_model_module_version": "1.2.0",
      "_model_name": "LayoutModel",
      "_view_count": null,
      "_view_module": "@jupyter-widgets/base",
      "_view_module_version": "1.2.0",
      "_view_name": "LayoutView",
      "align_content": null,
      "align_items": null,
      "align_self": null,
      "border": null,
      "bottom": null,
      "display": null,
      "flex": null,
      "flex_flow": null,
      "grid_area": null,
      "grid_auto_columns": null,
      "grid_auto_flow": null,
      "grid_auto_rows": null,
      "grid_column": null,
      "grid_gap": null,
      "grid_row": null,
      "grid_template_areas": null,
      "grid_template_columns": null,
      "grid_template_rows": null,
      "height": null,
      "justify_content": null,
      "justify_items": null,
      "left": null,
      "margin": null,
      "max_height": null,
      "max_width": null,
      "min_height": null,
      "min_width": null,
      "object_fit": null,
      "object_position": null,
      "order": null,
      "overflow": null,
      "overflow_x": null,
      "overflow_y": null,
      "padding": null,
      "right": null,
      "top": null,
      "visibility": null,
      "width": null
     }
    },
    "c5e16e8c984141c9b7c693b69678615d": {
     "model_module": "@jupyter-widgets/controls",
     "model_module_version": "1.5.0",
     "model_name": "ProgressStyleModel",
     "state": {
      "_model_module": "@jupyter-widgets/controls",
      "_model_module_version": "1.5.0",
      "_model_name": "ProgressStyleModel",
      "_view_count": null,
      "_view_module": "@jupyter-widgets/base",
      "_view_module_version": "1.2.0",
      "_view_name": "StyleView",
      "bar_color": null,
      "description_width": ""
     }
    },
    "c705c94327ff4e278981e7cda6a82f02": {
     "model_module": "@jupyter-widgets/controls",
     "model_module_version": "1.5.0",
     "model_name": "DescriptionStyleModel",
     "state": {
      "_model_module": "@jupyter-widgets/controls",
      "_model_module_version": "1.5.0",
      "_model_name": "DescriptionStyleModel",
      "_view_count": null,
      "_view_module": "@jupyter-widgets/base",
      "_view_module_version": "1.2.0",
      "_view_name": "StyleView",
      "description_width": ""
     }
    },
    "c92ff26ebf70419993aeea1b40107cdb": {
     "model_module": "@jupyter-widgets/base",
     "model_module_version": "1.2.0",
     "model_name": "LayoutModel",
     "state": {
      "_model_module": "@jupyter-widgets/base",
      "_model_module_version": "1.2.0",
      "_model_name": "LayoutModel",
      "_view_count": null,
      "_view_module": "@jupyter-widgets/base",
      "_view_module_version": "1.2.0",
      "_view_name": "LayoutView",
      "align_content": null,
      "align_items": null,
      "align_self": null,
      "border": null,
      "bottom": null,
      "display": null,
      "flex": null,
      "flex_flow": null,
      "grid_area": null,
      "grid_auto_columns": null,
      "grid_auto_flow": null,
      "grid_auto_rows": null,
      "grid_column": null,
      "grid_gap": null,
      "grid_row": null,
      "grid_template_areas": null,
      "grid_template_columns": null,
      "grid_template_rows": null,
      "height": null,
      "justify_content": null,
      "justify_items": null,
      "left": null,
      "margin": null,
      "max_height": null,
      "max_width": null,
      "min_height": null,
      "min_width": null,
      "object_fit": null,
      "object_position": null,
      "order": null,
      "overflow": null,
      "overflow_x": null,
      "overflow_y": null,
      "padding": null,
      "right": null,
      "top": null,
      "visibility": null,
      "width": null
     }
    },
    "c9a9c78f7346435ab0efae8f97dc19bb": {
     "model_module": "@jupyter-widgets/controls",
     "model_module_version": "1.5.0",
     "model_name": "ProgressStyleModel",
     "state": {
      "_model_module": "@jupyter-widgets/controls",
      "_model_module_version": "1.5.0",
      "_model_name": "ProgressStyleModel",
      "_view_count": null,
      "_view_module": "@jupyter-widgets/base",
      "_view_module_version": "1.2.0",
      "_view_name": "StyleView",
      "bar_color": null,
      "description_width": ""
     }
    },
    "c9c8b7ac620c4d92a97bd258883bcc99": {
     "model_module": "@jupyter-widgets/base",
     "model_module_version": "1.2.0",
     "model_name": "LayoutModel",
     "state": {
      "_model_module": "@jupyter-widgets/base",
      "_model_module_version": "1.2.0",
      "_model_name": "LayoutModel",
      "_view_count": null,
      "_view_module": "@jupyter-widgets/base",
      "_view_module_version": "1.2.0",
      "_view_name": "LayoutView",
      "align_content": null,
      "align_items": null,
      "align_self": null,
      "border": null,
      "bottom": null,
      "display": null,
      "flex": null,
      "flex_flow": null,
      "grid_area": null,
      "grid_auto_columns": null,
      "grid_auto_flow": null,
      "grid_auto_rows": null,
      "grid_column": null,
      "grid_gap": null,
      "grid_row": null,
      "grid_template_areas": null,
      "grid_template_columns": null,
      "grid_template_rows": null,
      "height": null,
      "justify_content": null,
      "justify_items": null,
      "left": null,
      "margin": null,
      "max_height": null,
      "max_width": null,
      "min_height": null,
      "min_width": null,
      "object_fit": null,
      "object_position": null,
      "order": null,
      "overflow": null,
      "overflow_x": null,
      "overflow_y": null,
      "padding": null,
      "right": null,
      "top": null,
      "visibility": null,
      "width": null
     }
    },
    "cb8c616f6cce451481b65c90a26d6180": {
     "model_module": "@jupyter-widgets/controls",
     "model_module_version": "1.5.0",
     "model_name": "ProgressStyleModel",
     "state": {
      "_model_module": "@jupyter-widgets/controls",
      "_model_module_version": "1.5.0",
      "_model_name": "ProgressStyleModel",
      "_view_count": null,
      "_view_module": "@jupyter-widgets/base",
      "_view_module_version": "1.2.0",
      "_view_name": "StyleView",
      "bar_color": null,
      "description_width": ""
     }
    },
    "cc9377f6ad9345aba23e13efa6a611d2": {
     "model_module": "@jupyter-widgets/controls",
     "model_module_version": "1.5.0",
     "model_name": "FloatProgressModel",
     "state": {
      "_dom_classes": [],
      "_model_module": "@jupyter-widgets/controls",
      "_model_module_version": "1.5.0",
      "_model_name": "FloatProgressModel",
      "_view_count": null,
      "_view_module": "@jupyter-widgets/controls",
      "_view_module_version": "1.5.0",
      "_view_name": "ProgressView",
      "bar_style": "",
      "description": "",
      "description_tooltip": null,
      "layout": "IPY_MODEL_dbb5e442187f4f21a68ba86c9b848214",
      "max": 14074,
      "min": 0,
      "orientation": "horizontal",
      "style": "IPY_MODEL_1a5f9826268d450f9250727a441d48f7",
      "value": 14074
     }
    },
    "ccbc26a7240e4ab28479f80f59b2abaf": {
     "model_module": "@jupyter-widgets/controls",
     "model_module_version": "1.5.0",
     "model_name": "DescriptionStyleModel",
     "state": {
      "_model_module": "@jupyter-widgets/controls",
      "_model_module_version": "1.5.0",
      "_model_name": "DescriptionStyleModel",
      "_view_count": null,
      "_view_module": "@jupyter-widgets/base",
      "_view_module_version": "1.2.0",
      "_view_name": "StyleView",
      "description_width": ""
     }
    },
    "d0b5f1b2f4a64ead99868314849316f6": {
     "model_module": "@jupyter-widgets/controls",
     "model_module_version": "1.5.0",
     "model_name": "HTMLModel",
     "state": {
      "_dom_classes": [],
      "_model_module": "@jupyter-widgets/controls",
      "_model_module_version": "1.5.0",
      "_model_name": "HTMLModel",
      "_view_count": null,
      "_view_module": "@jupyter-widgets/controls",
      "_view_module_version": "1.5.0",
      "_view_name": "HTMLView",
      "description": "",
      "description_tooltip": null,
      "layout": "IPY_MODEL_d26326d81aac403f8cc4fa5951ae376d",
      "placeholder": "​",
      "style": "IPY_MODEL_acfdff3e9ed244a481298a3e29ef5f5c",
      "value": " 437/437 [00:00&lt;00:00, 14.2kB/s]"
     }
    },
    "d0dcc3a24f2240748ac95eac80e558c7": {
     "model_module": "@jupyter-widgets/controls",
     "model_module_version": "1.5.0",
     "model_name": "VBoxModel",
     "state": {
      "_dom_classes": [],
      "_model_module": "@jupyter-widgets/controls",
      "_model_module_version": "1.5.0",
      "_model_name": "VBoxModel",
      "_view_count": null,
      "_view_module": "@jupyter-widgets/controls",
      "_view_module_version": "1.5.0",
      "_view_name": "VBoxView",
      "box_style": "",
      "children": [
       "IPY_MODEL_f758eaaca4414d16b5f4cc7266981f1b",
       "IPY_MODEL_4ee6dc31ba434a28afb9a504b659a7e7"
      ],
      "layout": "IPY_MODEL_213a546850bd4a0eb2d423f22aeeecbb"
     }
    },
    "d135819ea9fb4ce3b9ca80b0f2d3842b": {
     "model_module": "@jupyter-widgets/base",
     "model_module_version": "1.2.0",
     "model_name": "LayoutModel",
     "state": {
      "_model_module": "@jupyter-widgets/base",
      "_model_module_version": "1.2.0",
      "_model_name": "LayoutModel",
      "_view_count": null,
      "_view_module": "@jupyter-widgets/base",
      "_view_module_version": "1.2.0",
      "_view_name": "LayoutView",
      "align_content": null,
      "align_items": null,
      "align_self": null,
      "border": null,
      "bottom": null,
      "display": null,
      "flex": null,
      "flex_flow": null,
      "grid_area": null,
      "grid_auto_columns": null,
      "grid_auto_flow": null,
      "grid_auto_rows": null,
      "grid_column": null,
      "grid_gap": null,
      "grid_row": null,
      "grid_template_areas": null,
      "grid_template_columns": null,
      "grid_template_rows": null,
      "height": null,
      "justify_content": null,
      "justify_items": null,
      "left": null,
      "margin": null,
      "max_height": null,
      "max_width": null,
      "min_height": null,
      "min_width": null,
      "object_fit": null,
      "object_position": null,
      "order": null,
      "overflow": null,
      "overflow_x": null,
      "overflow_y": null,
      "padding": null,
      "right": null,
      "top": null,
      "visibility": null,
      "width": null
     }
    },
    "d26326d81aac403f8cc4fa5951ae376d": {
     "model_module": "@jupyter-widgets/base",
     "model_module_version": "1.2.0",
     "model_name": "LayoutModel",
     "state": {
      "_model_module": "@jupyter-widgets/base",
      "_model_module_version": "1.2.0",
      "_model_name": "LayoutModel",
      "_view_count": null,
      "_view_module": "@jupyter-widgets/base",
      "_view_module_version": "1.2.0",
      "_view_name": "LayoutView",
      "align_content": null,
      "align_items": null,
      "align_self": null,
      "border": null,
      "bottom": null,
      "display": null,
      "flex": null,
      "flex_flow": null,
      "grid_area": null,
      "grid_auto_columns": null,
      "grid_auto_flow": null,
      "grid_auto_rows": null,
      "grid_column": null,
      "grid_gap": null,
      "grid_row": null,
      "grid_template_areas": null,
      "grid_template_columns": null,
      "grid_template_rows": null,
      "height": null,
      "justify_content": null,
      "justify_items": null,
      "left": null,
      "margin": null,
      "max_height": null,
      "max_width": null,
      "min_height": null,
      "min_width": null,
      "object_fit": null,
      "object_position": null,
      "order": null,
      "overflow": null,
      "overflow_x": null,
      "overflow_y": null,
      "padding": null,
      "right": null,
      "top": null,
      "visibility": null,
      "width": null
     }
    },
    "d398585743464ce2ae1f29ef19c07c55": {
     "model_module": "@jupyter-widgets/controls",
     "model_module_version": "1.5.0",
     "model_name": "FloatProgressModel",
     "state": {
      "_dom_classes": [],
      "_model_module": "@jupyter-widgets/controls",
      "_model_module_version": "1.5.0",
      "_model_name": "FloatProgressModel",
      "_view_count": null,
      "_view_module": "@jupyter-widgets/controls",
      "_view_module_version": "1.5.0",
      "_view_name": "ProgressView",
      "bar_style": "",
      "description": "",
      "description_tooltip": null,
      "layout": "IPY_MODEL_e1342d1fe8c84c22b171c79cff3801c4",
      "max": 1960,
      "min": 0,
      "orientation": "horizontal",
      "style": "IPY_MODEL_c5e16e8c984141c9b7c693b69678615d",
      "value": 1960
     }
    },
    "d730a586ccb44af4a6d1c71ab33b4c03": {
     "model_module": "@jupyter-widgets/controls",
     "model_module_version": "1.5.0",
     "model_name": "HTMLModel",
     "state": {
      "_dom_classes": [],
      "_model_module": "@jupyter-widgets/controls",
      "_model_module_version": "1.5.0",
      "_model_name": "HTMLModel",
      "_view_count": null,
      "_view_module": "@jupyter-widgets/controls",
      "_view_module_version": "1.5.0",
      "_view_name": "HTMLView",
      "description": "",
      "description_tooltip": null,
      "layout": "IPY_MODEL_82f690055d5a48d9aa11afb3238de99e",
      "placeholder": "​",
      "style": "IPY_MODEL_98cb63cfcf1e4378b3114354e7bf9653",
      "value": " 14074/14074 [00:00&lt;00:00, 194782.01 examples/s]"
     }
    },
    "d91a6ca5d4204224b5dfa766b600865e": {
     "model_module": "@jupyter-widgets/base",
     "model_module_version": "1.2.0",
     "model_name": "LayoutModel",
     "state": {
      "_model_module": "@jupyter-widgets/base",
      "_model_module_version": "1.2.0",
      "_model_name": "LayoutModel",
      "_view_count": null,
      "_view_module": "@jupyter-widgets/base",
      "_view_module_version": "1.2.0",
      "_view_name": "LayoutView",
      "align_content": null,
      "align_items": null,
      "align_self": null,
      "border": null,
      "bottom": null,
      "display": null,
      "flex": null,
      "flex_flow": null,
      "grid_area": null,
      "grid_auto_columns": null,
      "grid_auto_flow": null,
      "grid_auto_rows": null,
      "grid_column": null,
      "grid_gap": null,
      "grid_row": null,
      "grid_template_areas": null,
      "grid_template_columns": null,
      "grid_template_rows": null,
      "height": null,
      "justify_content": null,
      "justify_items": null,
      "left": null,
      "margin": null,
      "max_height": null,
      "max_width": null,
      "min_height": null,
      "min_width": null,
      "object_fit": null,
      "object_position": null,
      "order": null,
      "overflow": null,
      "overflow_x": null,
      "overflow_y": null,
      "padding": null,
      "right": null,
      "top": null,
      "visibility": null,
      "width": null
     }
    },
    "d9e9e488a27e4fc0929f864ad339dba2": {
     "model_module": "@jupyter-widgets/controls",
     "model_module_version": "1.5.0",
     "model_name": "HTMLModel",
     "state": {
      "_dom_classes": [],
      "_model_module": "@jupyter-widgets/controls",
      "_model_module_version": "1.5.0",
      "_model_name": "HTMLModel",
      "_view_count": null,
      "_view_module": "@jupyter-widgets/controls",
      "_view_module_version": "1.5.0",
      "_view_name": "HTMLView",
      "description": "",
      "description_tooltip": null,
      "layout": "IPY_MODEL_b4a8e12f73b74720a55b57f1a06e61ae",
      "placeholder": "​",
      "style": "IPY_MODEL_893fc8941b88424790ca359f010eaae8",
      "value": "Downloading (…)solve/main/vocab.txt: 100%"
     }
    },
    "db90aeeaf2004aebac49d91fba71be61": {
     "model_module": "@jupyter-widgets/controls",
     "model_module_version": "1.5.0",
     "model_name": "HBoxModel",
     "state": {
      "_dom_classes": [],
      "_model_module": "@jupyter-widgets/controls",
      "_model_module_version": "1.5.0",
      "_model_name": "HBoxModel",
      "_view_count": null,
      "_view_module": "@jupyter-widgets/controls",
      "_view_module_version": "1.5.0",
      "_view_name": "HBoxView",
      "box_style": "",
      "children": [
       "IPY_MODEL_3680ed5749424f3d88ceec24446a422e",
       "IPY_MODEL_870efb8dd6e84e74875295656e7ad8ef",
       "IPY_MODEL_06ea37ebbc4646a4b4a4ee39efca5297"
      ],
      "layout": "IPY_MODEL_ed91a164a4f5440a8e95617d92711510"
     }
    },
    "dbb5e442187f4f21a68ba86c9b848214": {
     "model_module": "@jupyter-widgets/base",
     "model_module_version": "1.2.0",
     "model_name": "LayoutModel",
     "state": {
      "_model_module": "@jupyter-widgets/base",
      "_model_module_version": "1.2.0",
      "_model_name": "LayoutModel",
      "_view_count": null,
      "_view_module": "@jupyter-widgets/base",
      "_view_module_version": "1.2.0",
      "_view_name": "LayoutView",
      "align_content": null,
      "align_items": null,
      "align_self": null,
      "border": null,
      "bottom": null,
      "display": null,
      "flex": null,
      "flex_flow": null,
      "grid_area": null,
      "grid_auto_columns": null,
      "grid_auto_flow": null,
      "grid_auto_rows": null,
      "grid_column": null,
      "grid_gap": null,
      "grid_row": null,
      "grid_template_areas": null,
      "grid_template_columns": null,
      "grid_template_rows": null,
      "height": null,
      "justify_content": null,
      "justify_items": null,
      "left": null,
      "margin": null,
      "max_height": null,
      "max_width": null,
      "min_height": null,
      "min_width": null,
      "object_fit": null,
      "object_position": null,
      "order": null,
      "overflow": null,
      "overflow_x": null,
      "overflow_y": null,
      "padding": null,
      "right": null,
      "top": null,
      "visibility": null,
      "width": null
     }
    },
    "dbdab18c793e4fba906b9d12093c2032": {
     "model_module": "@jupyter-widgets/base",
     "model_module_version": "1.2.0",
     "model_name": "LayoutModel",
     "state": {
      "_model_module": "@jupyter-widgets/base",
      "_model_module_version": "1.2.0",
      "_model_name": "LayoutModel",
      "_view_count": null,
      "_view_module": "@jupyter-widgets/base",
      "_view_module_version": "1.2.0",
      "_view_name": "LayoutView",
      "align_content": null,
      "align_items": null,
      "align_self": null,
      "border": null,
      "bottom": null,
      "display": null,
      "flex": null,
      "flex_flow": null,
      "grid_area": null,
      "grid_auto_columns": null,
      "grid_auto_flow": null,
      "grid_auto_rows": null,
      "grid_column": null,
      "grid_gap": null,
      "grid_row": null,
      "grid_template_areas": null,
      "grid_template_columns": null,
      "grid_template_rows": null,
      "height": null,
      "justify_content": null,
      "justify_items": null,
      "left": null,
      "margin": null,
      "max_height": null,
      "max_width": null,
      "min_height": null,
      "min_width": null,
      "object_fit": null,
      "object_position": null,
      "order": null,
      "overflow": null,
      "overflow_x": null,
      "overflow_y": null,
      "padding": null,
      "right": null,
      "top": null,
      "visibility": null,
      "width": null
     }
    },
    "dceed6968c71461c886a25a7cc5a09ba": {
     "model_module": "@jupyter-widgets/controls",
     "model_module_version": "1.5.0",
     "model_name": "HBoxModel",
     "state": {
      "_dom_classes": [],
      "_model_module": "@jupyter-widgets/controls",
      "_model_module_version": "1.5.0",
      "_model_name": "HBoxModel",
      "_view_count": null,
      "_view_module": "@jupyter-widgets/controls",
      "_view_module_version": "1.5.0",
      "_view_name": "HBoxView",
      "box_style": "",
      "children": [
       "IPY_MODEL_111be15fa67c46d5bbbc1ca53ced3228",
       "IPY_MODEL_cc9377f6ad9345aba23e13efa6a611d2",
       "IPY_MODEL_d730a586ccb44af4a6d1c71ab33b4c03"
      ],
      "layout": "IPY_MODEL_f2113a2684e04fbf87b98176446f802b"
     }
    },
    "e0142e735a9244eeb29f0ee6785df1f5": {
     "model_module": "@jupyter-widgets/base",
     "model_module_version": "1.2.0",
     "model_name": "LayoutModel",
     "state": {
      "_model_module": "@jupyter-widgets/base",
      "_model_module_version": "1.2.0",
      "_model_name": "LayoutModel",
      "_view_count": null,
      "_view_module": "@jupyter-widgets/base",
      "_view_module_version": "1.2.0",
      "_view_name": "LayoutView",
      "align_content": null,
      "align_items": null,
      "align_self": null,
      "border": null,
      "bottom": null,
      "display": null,
      "flex": null,
      "flex_flow": null,
      "grid_area": null,
      "grid_auto_columns": null,
      "grid_auto_flow": null,
      "grid_auto_rows": null,
      "grid_column": null,
      "grid_gap": null,
      "grid_row": null,
      "grid_template_areas": null,
      "grid_template_columns": null,
      "grid_template_rows": null,
      "height": null,
      "justify_content": null,
      "justify_items": null,
      "left": null,
      "margin": null,
      "max_height": null,
      "max_width": null,
      "min_height": null,
      "min_width": null,
      "object_fit": null,
      "object_position": null,
      "order": null,
      "overflow": null,
      "overflow_x": null,
      "overflow_y": null,
      "padding": null,
      "right": null,
      "top": null,
      "visibility": null,
      "width": null
     }
    },
    "e0cecd15f12b4e0ebff02186ad8e62e8": {
     "model_module": "@jupyter-widgets/controls",
     "model_module_version": "1.5.0",
     "model_name": "FloatProgressModel",
     "state": {
      "_dom_classes": [],
      "_model_module": "@jupyter-widgets/controls",
      "_model_module_version": "1.5.0",
      "_model_name": "FloatProgressModel",
      "_view_count": null,
      "_view_module": "@jupyter-widgets/controls",
      "_view_module_version": "1.5.0",
      "_view_name": "ProgressView",
      "bar_style": "",
      "description": "",
      "description_tooltip": null,
      "layout": "IPY_MODEL_ba32896e6ae84ad3bb914c13d2081ca1",
      "max": 1906,
      "min": 0,
      "orientation": "horizontal",
      "style": "IPY_MODEL_0847667b589d4ee882b5b65a6af51d82",
      "value": 1906
     }
    },
    "e11f54141e874da98a5bec3559a3b4c0": {
     "model_module": "@jupyter-widgets/controls",
     "model_module_version": "1.5.0",
     "model_name": "VBoxModel",
     "state": {
      "_dom_classes": [],
      "_model_module": "@jupyter-widgets/controls",
      "_model_module_version": "1.5.0",
      "_model_name": "VBoxModel",
      "_view_count": null,
      "_view_module": "@jupyter-widgets/controls",
      "_view_module_version": "1.5.0",
      "_view_name": "VBoxView",
      "box_style": "",
      "children": [
       "IPY_MODEL_80a4f1b8a78c4203a2453163db9194b6",
       "IPY_MODEL_23ce52997c2941daba41bcfb015eaad9"
      ],
      "layout": "IPY_MODEL_1e123c2edee844968d1ce0809b8eddda"
     }
    },
    "e1342d1fe8c84c22b171c79cff3801c4": {
     "model_module": "@jupyter-widgets/base",
     "model_module_version": "1.2.0",
     "model_name": "LayoutModel",
     "state": {
      "_model_module": "@jupyter-widgets/base",
      "_model_module_version": "1.2.0",
      "_model_name": "LayoutModel",
      "_view_count": null,
      "_view_module": "@jupyter-widgets/base",
      "_view_module_version": "1.2.0",
      "_view_name": "LayoutView",
      "align_content": null,
      "align_items": null,
      "align_self": null,
      "border": null,
      "bottom": null,
      "display": null,
      "flex": null,
      "flex_flow": null,
      "grid_area": null,
      "grid_auto_columns": null,
      "grid_auto_flow": null,
      "grid_auto_rows": null,
      "grid_column": null,
      "grid_gap": null,
      "grid_row": null,
      "grid_template_areas": null,
      "grid_template_columns": null,
      "grid_template_rows": null,
      "height": null,
      "justify_content": null,
      "justify_items": null,
      "left": null,
      "margin": null,
      "max_height": null,
      "max_width": null,
      "min_height": null,
      "min_width": null,
      "object_fit": null,
      "object_position": null,
      "order": null,
      "overflow": null,
      "overflow_x": null,
      "overflow_y": null,
      "padding": null,
      "right": null,
      "top": null,
      "visibility": null,
      "width": null
     }
    },
    "e144f6ed1d844f3eb9706f6e9a5fb722": {
     "model_module": "@jupyter-widgets/controls",
     "model_module_version": "1.5.0",
     "model_name": "ProgressStyleModel",
     "state": {
      "_model_module": "@jupyter-widgets/controls",
      "_model_module_version": "1.5.0",
      "_model_name": "ProgressStyleModel",
      "_view_count": null,
      "_view_module": "@jupyter-widgets/base",
      "_view_module_version": "1.2.0",
      "_view_name": "StyleView",
      "bar_color": null,
      "description_width": ""
     }
    },
    "e2b19480ff274b1ab41704388e792042": {
     "model_module": "@jupyter-widgets/base",
     "model_module_version": "1.2.0",
     "model_name": "LayoutModel",
     "state": {
      "_model_module": "@jupyter-widgets/base",
      "_model_module_version": "1.2.0",
      "_model_name": "LayoutModel",
      "_view_count": null,
      "_view_module": "@jupyter-widgets/base",
      "_view_module_version": "1.2.0",
      "_view_name": "LayoutView",
      "align_content": null,
      "align_items": null,
      "align_self": null,
      "border": null,
      "bottom": null,
      "display": null,
      "flex": null,
      "flex_flow": null,
      "grid_area": null,
      "grid_auto_columns": null,
      "grid_auto_flow": null,
      "grid_auto_rows": null,
      "grid_column": null,
      "grid_gap": null,
      "grid_row": null,
      "grid_template_areas": null,
      "grid_template_columns": null,
      "grid_template_rows": null,
      "height": null,
      "justify_content": null,
      "justify_items": null,
      "left": null,
      "margin": null,
      "max_height": null,
      "max_width": null,
      "min_height": null,
      "min_width": null,
      "object_fit": null,
      "object_position": null,
      "order": null,
      "overflow": null,
      "overflow_x": null,
      "overflow_y": null,
      "padding": null,
      "right": null,
      "top": null,
      "visibility": null,
      "width": null
     }
    },
    "e37c031d0a9142179542dc7d9951dd14": {
     "model_module": "@jupyter-widgets/base",
     "model_module_version": "1.2.0",
     "model_name": "LayoutModel",
     "state": {
      "_model_module": "@jupyter-widgets/base",
      "_model_module_version": "1.2.0",
      "_model_name": "LayoutModel",
      "_view_count": null,
      "_view_module": "@jupyter-widgets/base",
      "_view_module_version": "1.2.0",
      "_view_name": "LayoutView",
      "align_content": null,
      "align_items": null,
      "align_self": null,
      "border": null,
      "bottom": null,
      "display": null,
      "flex": null,
      "flex_flow": null,
      "grid_area": null,
      "grid_auto_columns": null,
      "grid_auto_flow": null,
      "grid_auto_rows": null,
      "grid_column": null,
      "grid_gap": null,
      "grid_row": null,
      "grid_template_areas": null,
      "grid_template_columns": null,
      "grid_template_rows": null,
      "height": null,
      "justify_content": null,
      "justify_items": null,
      "left": null,
      "margin": null,
      "max_height": null,
      "max_width": null,
      "min_height": null,
      "min_width": null,
      "object_fit": null,
      "object_position": null,
      "order": null,
      "overflow": null,
      "overflow_x": null,
      "overflow_y": null,
      "padding": null,
      "right": null,
      "top": null,
      "visibility": null,
      "width": null
     }
    },
    "e9ded60add654b44b15e370ba659a2bb": {
     "model_module": "@jupyter-widgets/controls",
     "model_module_version": "1.5.0",
     "model_name": "FloatProgressModel",
     "state": {
      "_dom_classes": [],
      "_model_module": "@jupyter-widgets/controls",
      "_model_module_version": "1.5.0",
      "_model_name": "FloatProgressModel",
      "_view_count": null,
      "_view_module": "@jupyter-widgets/controls",
      "_view_module_version": "1.5.0",
      "_view_name": "ProgressView",
      "bar_style": "",
      "description": "",
      "description_tooltip": null,
      "layout": "IPY_MODEL_9e2c10afa9fb44688ae94deadc1d6a49",
      "max": 1960,
      "min": 0,
      "orientation": "horizontal",
      "style": "IPY_MODEL_cb8c616f6cce451481b65c90a26d6180",
      "value": 1960
     }
    },
    "ea1f28dcb41446cca89e62e62dcf3248": {
     "model_module": "@jupyter-widgets/controls",
     "model_module_version": "1.5.0",
     "model_name": "HTMLModel",
     "state": {
      "_dom_classes": [],
      "_model_module": "@jupyter-widgets/controls",
      "_model_module_version": "1.5.0",
      "_model_name": "HTMLModel",
      "_view_count": null,
      "_view_module": "@jupyter-widgets/controls",
      "_view_module_version": "1.5.0",
      "_view_name": "HTMLView",
      "description": "",
      "description_tooltip": null,
      "layout": "IPY_MODEL_7c3b5118c0364e62873d6983b0c9bf51",
      "placeholder": "​",
      "style": "IPY_MODEL_b4aab017c3d744c1a0be62036280d7ee",
      "value": " 6126/6126 [00:05&lt;00:00, 1174.21 examples/s]"
     }
    },
    "ea3e1884043447bfa29115760b07a4c0": {
     "model_module": "@jupyter-widgets/base",
     "model_module_version": "1.2.0",
     "model_name": "LayoutModel",
     "state": {
      "_model_module": "@jupyter-widgets/base",
      "_model_module_version": "1.2.0",
      "_model_name": "LayoutModel",
      "_view_count": null,
      "_view_module": "@jupyter-widgets/base",
      "_view_module_version": "1.2.0",
      "_view_name": "LayoutView",
      "align_content": null,
      "align_items": null,
      "align_self": null,
      "border": null,
      "bottom": null,
      "display": null,
      "flex": null,
      "flex_flow": null,
      "grid_area": null,
      "grid_auto_columns": null,
      "grid_auto_flow": null,
      "grid_auto_rows": null,
      "grid_column": null,
      "grid_gap": null,
      "grid_row": null,
      "grid_template_areas": null,
      "grid_template_columns": null,
      "grid_template_rows": null,
      "height": null,
      "justify_content": null,
      "justify_items": null,
      "left": null,
      "margin": null,
      "max_height": null,
      "max_width": null,
      "min_height": null,
      "min_width": null,
      "object_fit": null,
      "object_position": null,
      "order": null,
      "overflow": null,
      "overflow_x": null,
      "overflow_y": null,
      "padding": null,
      "right": null,
      "top": null,
      "visibility": null,
      "width": null
     }
    },
    "ed8696769e7e4e89bf45091e54c45b63": {
     "model_module": "@jupyter-widgets/controls",
     "model_module_version": "1.5.0",
     "model_name": "HBoxModel",
     "state": {
      "_dom_classes": [],
      "_model_module": "@jupyter-widgets/controls",
      "_model_module_version": "1.5.0",
      "_model_name": "HBoxModel",
      "_view_count": null,
      "_view_module": "@jupyter-widgets/controls",
      "_view_module_version": "1.5.0",
      "_view_name": "HBoxView",
      "box_style": "",
      "children": [
       "IPY_MODEL_1637f9eaf5f844bfa36040345a51d915",
       "IPY_MODEL_d398585743464ce2ae1f29ef19c07c55",
       "IPY_MODEL_26f330a53f6a4220b3d99bad9b4d8d93"
      ],
      "layout": "IPY_MODEL_7b01df15021d4ddb8e7fa293abe3c185"
     }
    },
    "ed91a164a4f5440a8e95617d92711510": {
     "model_module": "@jupyter-widgets/base",
     "model_module_version": "1.2.0",
     "model_name": "LayoutModel",
     "state": {
      "_model_module": "@jupyter-widgets/base",
      "_model_module_version": "1.2.0",
      "_model_name": "LayoutModel",
      "_view_count": null,
      "_view_module": "@jupyter-widgets/base",
      "_view_module_version": "1.2.0",
      "_view_name": "LayoutView",
      "align_content": null,
      "align_items": null,
      "align_self": null,
      "border": null,
      "bottom": null,
      "display": null,
      "flex": null,
      "flex_flow": null,
      "grid_area": null,
      "grid_auto_columns": null,
      "grid_auto_flow": null,
      "grid_auto_rows": null,
      "grid_column": null,
      "grid_gap": null,
      "grid_row": null,
      "grid_template_areas": null,
      "grid_template_columns": null,
      "grid_template_rows": null,
      "height": null,
      "justify_content": null,
      "justify_items": null,
      "left": null,
      "margin": null,
      "max_height": null,
      "max_width": null,
      "min_height": null,
      "min_width": null,
      "object_fit": null,
      "object_position": null,
      "order": null,
      "overflow": null,
      "overflow_x": null,
      "overflow_y": null,
      "padding": null,
      "right": null,
      "top": null,
      "visibility": null,
      "width": null
     }
    },
    "eee65184d3c8417f88e573f74e1c3245": {
     "model_module": "@jupyter-widgets/base",
     "model_module_version": "1.2.0",
     "model_name": "LayoutModel",
     "state": {
      "_model_module": "@jupyter-widgets/base",
      "_model_module_version": "1.2.0",
      "_model_name": "LayoutModel",
      "_view_count": null,
      "_view_module": "@jupyter-widgets/base",
      "_view_module_version": "1.2.0",
      "_view_name": "LayoutView",
      "align_content": null,
      "align_items": null,
      "align_self": null,
      "border": null,
      "bottom": null,
      "display": null,
      "flex": null,
      "flex_flow": null,
      "grid_area": null,
      "grid_auto_columns": null,
      "grid_auto_flow": null,
      "grid_auto_rows": null,
      "grid_column": null,
      "grid_gap": null,
      "grid_row": null,
      "grid_template_areas": null,
      "grid_template_columns": null,
      "grid_template_rows": null,
      "height": null,
      "justify_content": null,
      "justify_items": null,
      "left": null,
      "margin": null,
      "max_height": null,
      "max_width": null,
      "min_height": null,
      "min_width": null,
      "object_fit": null,
      "object_position": null,
      "order": null,
      "overflow": null,
      "overflow_x": null,
      "overflow_y": null,
      "padding": null,
      "right": null,
      "top": null,
      "visibility": null,
      "width": null
     }
    },
    "f2113a2684e04fbf87b98176446f802b": {
     "model_module": "@jupyter-widgets/base",
     "model_module_version": "1.2.0",
     "model_name": "LayoutModel",
     "state": {
      "_model_module": "@jupyter-widgets/base",
      "_model_module_version": "1.2.0",
      "_model_name": "LayoutModel",
      "_view_count": null,
      "_view_module": "@jupyter-widgets/base",
      "_view_module_version": "1.2.0",
      "_view_name": "LayoutView",
      "align_content": null,
      "align_items": null,
      "align_self": null,
      "border": null,
      "bottom": null,
      "display": null,
      "flex": null,
      "flex_flow": null,
      "grid_area": null,
      "grid_auto_columns": null,
      "grid_auto_flow": null,
      "grid_auto_rows": null,
      "grid_column": null,
      "grid_gap": null,
      "grid_row": null,
      "grid_template_areas": null,
      "grid_template_columns": null,
      "grid_template_rows": null,
      "height": null,
      "justify_content": null,
      "justify_items": null,
      "left": null,
      "margin": null,
      "max_height": null,
      "max_width": null,
      "min_height": null,
      "min_width": null,
      "object_fit": null,
      "object_position": null,
      "order": null,
      "overflow": null,
      "overflow_x": null,
      "overflow_y": null,
      "padding": null,
      "right": null,
      "top": null,
      "visibility": "hidden",
      "width": null
     }
    },
    "f25f8602b88342be9ef294ae23ea01b2": {
     "model_module": "@jupyter-widgets/controls",
     "model_module_version": "1.5.0",
     "model_name": "ProgressStyleModel",
     "state": {
      "_model_module": "@jupyter-widgets/controls",
      "_model_module_version": "1.5.0",
      "_model_name": "ProgressStyleModel",
      "_view_count": null,
      "_view_module": "@jupyter-widgets/base",
      "_view_module_version": "1.2.0",
      "_view_name": "StyleView",
      "bar_color": null,
      "description_width": ""
     }
    },
    "f2bf1b7045b0430cb49eac280c850dcc": {
     "model_module": "@jupyter-widgets/controls",
     "model_module_version": "1.5.0",
     "model_name": "DescriptionStyleModel",
     "state": {
      "_model_module": "@jupyter-widgets/controls",
      "_model_module_version": "1.5.0",
      "_model_name": "DescriptionStyleModel",
      "_view_count": null,
      "_view_module": "@jupyter-widgets/base",
      "_view_module_version": "1.2.0",
      "_view_name": "StyleView",
      "description_width": ""
     }
    },
    "f426315eb11a419e80653fa4a8586211": {
     "model_module": "@jupyter-widgets/controls",
     "model_module_version": "1.5.0",
     "model_name": "HTMLModel",
     "state": {
      "_dom_classes": [],
      "_model_module": "@jupyter-widgets/controls",
      "_model_module_version": "1.5.0",
      "_model_name": "HTMLModel",
      "_view_count": null,
      "_view_module": "@jupyter-widgets/controls",
      "_view_module_version": "1.5.0",
      "_view_name": "HTMLView",
      "description": "",
      "description_tooltip": null,
      "layout": "IPY_MODEL_c92ff26ebf70419993aeea1b40107cdb",
      "placeholder": "​",
      "style": "IPY_MODEL_93437cd4cbdb47d19b472a51a38b5240",
      "value": " 466k/466k [00:00&lt;00:00, 6.70MB/s]"
     }
    },
    "f69bc95c547f4736b851589bffc65fc0": {
     "model_module": "@jupyter-widgets/controls",
     "model_module_version": "1.5.0",
     "model_name": "HTMLModel",
     "state": {
      "_dom_classes": [],
      "_model_module": "@jupyter-widgets/controls",
      "_model_module_version": "1.5.0",
      "_model_name": "HTMLModel",
      "_view_count": null,
      "_view_module": "@jupyter-widgets/controls",
      "_view_module_version": "1.5.0",
      "_view_name": "HTMLView",
      "description": "",
      "description_tooltip": null,
      "layout": "IPY_MODEL_2abf93a258774fa481c790b220fe33f8",
      "placeholder": "​",
      "style": "IPY_MODEL_175fd5754d68441ba556c35190f3c5de",
      "value": "Downloading (…)cial_tokens_map.json: 100%"
     }
    },
    "f758eaaca4414d16b5f4cc7266981f1b": {
     "model_module": "@jupyter-widgets/controls",
     "model_module_version": "1.5.0",
     "model_name": "LabelModel",
     "state": {
      "_dom_classes": [],
      "_model_module": "@jupyter-widgets/controls",
      "_model_module_version": "1.5.0",
      "_model_name": "LabelModel",
      "_view_count": null,
      "_view_module": "@jupyter-widgets/controls",
      "_view_module_version": "1.5.0",
      "_view_name": "LabelView",
      "description": "",
      "description_tooltip": null,
      "layout": "IPY_MODEL_eee65184d3c8417f88e573f74e1c3245",
      "placeholder": "​",
      "style": "IPY_MODEL_7a0caba720ec472fa03ea6a83c44bab5",
      "value": "0.001 MB of 0.019 MB uploaded (0.000 MB deduped)\r"
     }
    },
    "faeffa02d06d42e39a167e652f8a64dc": {
     "model_module": "@jupyter-widgets/controls",
     "model_module_version": "1.5.0",
     "model_name": "FloatProgressModel",
     "state": {
      "_dom_classes": [],
      "_model_module": "@jupyter-widgets/controls",
      "_model_module_version": "1.5.0",
      "_model_name": "FloatProgressModel",
      "_view_count": null,
      "_view_module": "@jupyter-widgets/controls",
      "_view_module_version": "1.5.0",
      "_view_name": "ProgressView",
      "bar_style": "success",
      "description": "",
      "description_tooltip": null,
      "layout": "IPY_MODEL_8789b528a16f4295b1cbb939f9897e83",
      "max": 780,
      "min": 0,
      "orientation": "horizontal",
      "style": "IPY_MODEL_5c82699614424cc08eb4112218dbdef9",
      "value": 780
     }
    },
    "fb1a221af3a241e7a83e409875079d91": {
     "model_module": "@jupyter-widgets/controls",
     "model_module_version": "1.5.0",
     "model_name": "DescriptionStyleModel",
     "state": {
      "_model_module": "@jupyter-widgets/controls",
      "_model_module_version": "1.5.0",
      "_model_name": "DescriptionStyleModel",
      "_view_count": null,
      "_view_module": "@jupyter-widgets/base",
      "_view_module_version": "1.2.0",
      "_view_name": "StyleView",
      "description_width": ""
     }
    },
    "fc9cd77567634ddfbaed60e9c47308c8": {
     "model_module": "@jupyter-widgets/controls",
     "model_module_version": "1.5.0",
     "model_name": "HTMLModel",
     "state": {
      "_dom_classes": [],
      "_model_module": "@jupyter-widgets/controls",
      "_model_module_version": "1.5.0",
      "_model_name": "HTMLModel",
      "_view_count": null,
      "_view_module": "@jupyter-widgets/controls",
      "_view_module_version": "1.5.0",
      "_view_name": "HTMLView",
      "description": "",
      "description_tooltip": null,
      "layout": "IPY_MODEL_7f712e0fff96441ebcf85b99c47aba07",
      "placeholder": "​",
      "style": "IPY_MODEL_63029fe074a143e09f1f7f3388a571ed",
      "value": "Map: 100%"
     }
    },
    "fcc52cd90ae0439997a6ecc5cf5123e6": {
     "model_module": "@jupyter-widgets/controls",
     "model_module_version": "1.5.0",
     "model_name": "HTMLModel",
     "state": {
      "_dom_classes": [],
      "_model_module": "@jupyter-widgets/controls",
      "_model_module_version": "1.5.0",
      "_model_name": "HTMLModel",
      "_view_count": null,
      "_view_module": "@jupyter-widgets/controls",
      "_view_module_version": "1.5.0",
      "_view_name": "HTMLView",
      "description": "",
      "description_tooltip": null,
      "layout": "IPY_MODEL_45cd8a7663804a24a647e1146d6e218c",
      "placeholder": "​",
      "style": "IPY_MODEL_31e713ac598c4e9ab53043ff3b54bd75",
      "value": " 113/113 [04:29&lt;00:00,  2.51s/it]"
     }
    },
    "fd86af7beb2548a3b94480e0284007d9": {
     "model_module": "@jupyter-widgets/controls",
     "model_module_version": "1.5.0",
     "model_name": "DescriptionStyleModel",
     "state": {
      "_model_module": "@jupyter-widgets/controls",
      "_model_module_version": "1.5.0",
      "_model_name": "DescriptionStyleModel",
      "_view_count": null,
      "_view_module": "@jupyter-widgets/base",
      "_view_module_version": "1.2.0",
      "_view_name": "StyleView",
      "description_width": ""
     }
    },
    "fdc984e21cdf48638c421a9418fac5ba": {
     "model_module": "@jupyter-widgets/base",
     "model_module_version": "1.2.0",
     "model_name": "LayoutModel",
     "state": {
      "_model_module": "@jupyter-widgets/base",
      "_model_module_version": "1.2.0",
      "_model_name": "LayoutModel",
      "_view_count": null,
      "_view_module": "@jupyter-widgets/base",
      "_view_module_version": "1.2.0",
      "_view_name": "LayoutView",
      "align_content": null,
      "align_items": null,
      "align_self": null,
      "border": null,
      "bottom": null,
      "display": null,
      "flex": null,
      "flex_flow": null,
      "grid_area": null,
      "grid_auto_columns": null,
      "grid_auto_flow": null,
      "grid_auto_rows": null,
      "grid_column": null,
      "grid_gap": null,
      "grid_row": null,
      "grid_template_areas": null,
      "grid_template_columns": null,
      "grid_template_rows": null,
      "height": null,
      "justify_content": null,
      "justify_items": null,
      "left": null,
      "margin": null,
      "max_height": null,
      "max_width": null,
      "min_height": null,
      "min_width": null,
      "object_fit": null,
      "object_position": null,
      "order": null,
      "overflow": null,
      "overflow_x": null,
      "overflow_y": null,
      "padding": null,
      "right": null,
      "top": null,
      "visibility": null,
      "width": null
     }
    },
    "fef2d3b34bb24bef96a7c9d916b3f8ba": {
     "model_module": "@jupyter-widgets/controls",
     "model_module_version": "1.5.0",
     "model_name": "DescriptionStyleModel",
     "state": {
      "_model_module": "@jupyter-widgets/controls",
      "_model_module_version": "1.5.0",
      "_model_name": "DescriptionStyleModel",
      "_view_count": null,
      "_view_module": "@jupyter-widgets/base",
      "_view_module_version": "1.2.0",
      "_view_name": "StyleView",
      "description_width": ""
     }
    },
    "ffea63f6a05047efbfd3078a9e2b66c3": {
     "model_module": "@jupyter-widgets/controls",
     "model_module_version": "1.5.0",
     "model_name": "DescriptionStyleModel",
     "state": {
      "_model_module": "@jupyter-widgets/controls",
      "_model_module_version": "1.5.0",
      "_model_name": "DescriptionStyleModel",
      "_view_count": null,
      "_view_module": "@jupyter-widgets/base",
      "_view_module_version": "1.2.0",
      "_view_name": "StyleView",
      "description_width": ""
     }
    }
   }
  }
 },
 "nbformat": 4,
 "nbformat_minor": 5
}
